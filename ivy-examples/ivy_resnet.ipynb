{
 "cells": [
  {
   "cell_type": "code",
   "execution_count": 1,
   "metadata": {
    "collapsed": true,
    "ExecuteTime": {
     "end_time": "2023-09-08T11:33:30.853646Z",
     "start_time": "2023-09-08T11:33:19.116006100Z"
    }
   },
   "outputs": [
    {
     "name": "stderr",
     "output_type": "stream",
     "text": [
      "WARNING: Ignoring invalid distribution -umpy (c:\\programdata\\anaconda3\\envs\\hackthons\\lib\\site-packages)\n",
      "WARNING: Ignoring invalid distribution -umpy (c:\\programdata\\anaconda3\\envs\\hackthons\\lib\\site-packages)\n",
      "Cloning into 'models'...\n"
     ]
    },
    {
     "name": "stdout",
     "output_type": "stream",
     "text": [
      "Processing c:\\users\\administrator\\desktop\\project\\hackthons\\ivy-examples\\models\n",
      "  Preparing metadata (setup.py): started\n",
      "  Preparing metadata (setup.py): finished with status 'done'\n",
      "Requirement already satisfied: ivy in c:\\programdata\\anaconda3\\envs\\hackthons\\lib\\site-packages (from ivy-models==1.1.9) (0.0.3.0)\n",
      "Requirement already satisfied: scipy in c:\\programdata\\anaconda3\\envs\\hackthons\\lib\\site-packages (from ivy-models==1.1.9) (1.10.1)\n",
      "Requirement already satisfied: numpy in c:\\programdata\\anaconda3\\envs\\hackthons\\lib\\site-packages (from ivy->ivy-models==1.1.9) (1.23.5)\n",
      "Requirement already satisfied: einops in c:\\programdata\\anaconda3\\envs\\hackthons\\lib\\site-packages (from ivy->ivy-models==1.1.9) (0.6.1)\n",
      "Requirement already satisfied: psutil in c:\\programdata\\anaconda3\\envs\\hackthons\\lib\\site-packages (from ivy->ivy-models==1.1.9) (5.9.0)\n",
      "Requirement already satisfied: termcolor in c:\\programdata\\anaconda3\\envs\\hackthons\\lib\\site-packages (from ivy->ivy-models==1.1.9) (2.3.0)\n",
      "Requirement already satisfied: colorama in c:\\programdata\\anaconda3\\envs\\hackthons\\lib\\site-packages (from ivy->ivy-models==1.1.9) (0.4.6)\n",
      "Requirement already satisfied: packaging in c:\\programdata\\anaconda3\\envs\\hackthons\\lib\\site-packages (from ivy->ivy-models==1.1.9) (23.0)\n",
      "Requirement already satisfied: nvidia-ml-py in c:\\programdata\\anaconda3\\envs\\hackthons\\lib\\site-packages (from ivy->ivy-models==1.1.9) (12.535.108)\n",
      "Requirement already satisfied: diskcache in c:\\programdata\\anaconda3\\envs\\hackthons\\lib\\site-packages (from ivy->ivy-models==1.1.9) (5.6.3)\n",
      "Requirement already satisfied: google-auth in c:\\programdata\\anaconda3\\envs\\hackthons\\lib\\site-packages (from ivy->ivy-models==1.1.9) (2.22.0)\n",
      "Requirement already satisfied: requests in c:\\programdata\\anaconda3\\envs\\hackthons\\lib\\site-packages (from ivy->ivy-models==1.1.9) (2.29.0)\n",
      "Requirement already satisfied: pyvis in c:\\programdata\\anaconda3\\envs\\hackthons\\lib\\site-packages (from ivy->ivy-models==1.1.9) (0.3.2)\n",
      "Requirement already satisfied: dill in c:\\programdata\\anaconda3\\envs\\hackthons\\lib\\site-packages (from ivy->ivy-models==1.1.9) (0.3.7)\n",
      "Requirement already satisfied: cachetools<6.0,>=2.0.0 in c:\\programdata\\anaconda3\\envs\\hackthons\\lib\\site-packages (from google-auth->ivy->ivy-models==1.1.9) (5.3.1)\n",
      "Requirement already satisfied: pyasn1-modules>=0.2.1 in c:\\programdata\\anaconda3\\envs\\hackthons\\lib\\site-packages (from google-auth->ivy->ivy-models==1.1.9) (0.3.0)\n",
      "Requirement already satisfied: rsa<5,>=3.1.4 in c:\\programdata\\anaconda3\\envs\\hackthons\\lib\\site-packages (from google-auth->ivy->ivy-models==1.1.9) (4.9)\n",
      "Requirement already satisfied: six>=1.9.0 in c:\\programdata\\anaconda3\\envs\\hackthons\\lib\\site-packages (from google-auth->ivy->ivy-models==1.1.9) (1.16.0)\n",
      "Requirement already satisfied: urllib3<2.0 in c:\\programdata\\anaconda3\\envs\\hackthons\\lib\\site-packages (from google-auth->ivy->ivy-models==1.1.9) (1.26.16)\n",
      "Requirement already satisfied: ipython>=5.3.0 in c:\\programdata\\anaconda3\\envs\\hackthons\\lib\\site-packages (from pyvis->ivy->ivy-models==1.1.9) (8.12.0)\n",
      "Requirement already satisfied: jinja2>=2.9.6 in c:\\programdata\\anaconda3\\envs\\hackthons\\lib\\site-packages (from pyvis->ivy->ivy-models==1.1.9) (3.1.2)\n",
      "Requirement already satisfied: jsonpickle>=1.4.1 in c:\\programdata\\anaconda3\\envs\\hackthons\\lib\\site-packages (from pyvis->ivy->ivy-models==1.1.9) (3.0.2)\n",
      "Requirement already satisfied: networkx>=1.11 in c:\\programdata\\anaconda3\\envs\\hackthons\\lib\\site-packages (from pyvis->ivy->ivy-models==1.1.9) (3.1)\n",
      "Requirement already satisfied: charset-normalizer<4,>=2 in c:\\programdata\\anaconda3\\envs\\hackthons\\lib\\site-packages (from requests->ivy->ivy-models==1.1.9) (2.0.4)\n",
      "Requirement already satisfied: idna<4,>=2.5 in c:\\programdata\\anaconda3\\envs\\hackthons\\lib\\site-packages (from requests->ivy->ivy-models==1.1.9) (3.4)\n",
      "Requirement already satisfied: certifi>=2017.4.17 in c:\\programdata\\anaconda3\\envs\\hackthons\\lib\\site-packages (from requests->ivy->ivy-models==1.1.9) (2023.7.22)\n",
      "Requirement already satisfied: backcall in c:\\programdata\\anaconda3\\envs\\hackthons\\lib\\site-packages (from ipython>=5.3.0->pyvis->ivy->ivy-models==1.1.9) (0.2.0)\n",
      "Requirement already satisfied: decorator in c:\\programdata\\anaconda3\\envs\\hackthons\\lib\\site-packages (from ipython>=5.3.0->pyvis->ivy->ivy-models==1.1.9) (5.1.1)\n",
      "Requirement already satisfied: jedi>=0.16 in c:\\programdata\\anaconda3\\envs\\hackthons\\lib\\site-packages (from ipython>=5.3.0->pyvis->ivy->ivy-models==1.1.9) (0.18.1)\n",
      "Requirement already satisfied: matplotlib-inline in c:\\programdata\\anaconda3\\envs\\hackthons\\lib\\site-packages (from ipython>=5.3.0->pyvis->ivy->ivy-models==1.1.9) (0.1.6)\n",
      "Requirement already satisfied: pickleshare in c:\\programdata\\anaconda3\\envs\\hackthons\\lib\\site-packages (from ipython>=5.3.0->pyvis->ivy->ivy-models==1.1.9) (0.7.5)\n",
      "Requirement already satisfied: prompt-toolkit!=3.0.37,<3.1.0,>=3.0.30 in c:\\programdata\\anaconda3\\envs\\hackthons\\lib\\site-packages (from ipython>=5.3.0->pyvis->ivy->ivy-models==1.1.9) (3.0.36)\n",
      "Requirement already satisfied: pygments>=2.4.0 in c:\\programdata\\anaconda3\\envs\\hackthons\\lib\\site-packages (from ipython>=5.3.0->pyvis->ivy->ivy-models==1.1.9) (2.15.1)\n",
      "Requirement already satisfied: stack-data in c:\\programdata\\anaconda3\\envs\\hackthons\\lib\\site-packages (from ipython>=5.3.0->pyvis->ivy->ivy-models==1.1.9) (0.2.0)\n",
      "Requirement already satisfied: traitlets>=5 in c:\\programdata\\anaconda3\\envs\\hackthons\\lib\\site-packages (from ipython>=5.3.0->pyvis->ivy->ivy-models==1.1.9) (5.7.1)\n",
      "Requirement already satisfied: typing-extensions in c:\\programdata\\anaconda3\\envs\\hackthons\\lib\\site-packages (from ipython>=5.3.0->pyvis->ivy->ivy-models==1.1.9) (4.7.1)\n",
      "Requirement already satisfied: MarkupSafe>=2.0 in c:\\programdata\\anaconda3\\envs\\hackthons\\lib\\site-packages (from jinja2>=2.9.6->pyvis->ivy->ivy-models==1.1.9) (2.1.1)\n",
      "Requirement already satisfied: pyasn1<0.6.0,>=0.4.6 in c:\\programdata\\anaconda3\\envs\\hackthons\\lib\\site-packages (from pyasn1-modules>=0.2.1->google-auth->ivy->ivy-models==1.1.9) (0.5.0)\n",
      "Requirement already satisfied: parso<0.9.0,>=0.8.0 in c:\\programdata\\anaconda3\\envs\\hackthons\\lib\\site-packages (from jedi>=0.16->ipython>=5.3.0->pyvis->ivy->ivy-models==1.1.9) (0.8.3)\n",
      "Requirement already satisfied: wcwidth in c:\\programdata\\anaconda3\\envs\\hackthons\\lib\\site-packages (from prompt-toolkit!=3.0.37,<3.1.0,>=3.0.30->ipython>=5.3.0->pyvis->ivy->ivy-models==1.1.9) (0.2.5)\n",
      "Requirement already satisfied: executing in c:\\programdata\\anaconda3\\envs\\hackthons\\lib\\site-packages (from stack-data->ipython>=5.3.0->pyvis->ivy->ivy-models==1.1.9) (0.8.3)\n",
      "Requirement already satisfied: asttokens in c:\\programdata\\anaconda3\\envs\\hackthons\\lib\\site-packages (from stack-data->ipython>=5.3.0->pyvis->ivy->ivy-models==1.1.9) (2.0.5)\n",
      "Requirement already satisfied: pure-eval in c:\\programdata\\anaconda3\\envs\\hackthons\\lib\\site-packages (from stack-data->ipython>=5.3.0->pyvis->ivy->ivy-models==1.1.9) (0.2.2)\n",
      "Building wheels for collected packages: ivy-models\n",
      "  Building wheel for ivy-models (setup.py): started\n",
      "  Building wheel for ivy-models (setup.py): finished with status 'done'\n",
      "  Created wheel for ivy-models: filename=ivy_models-1.1.9-py3-none-any.whl size=76111 sha256=49c5e8766d346308d2c5196102b890040eea5ef00919bac66fa50d80a90ea2d6\n",
      "  Stored in directory: C:\\Users\\Administrator\\AppData\\Local\\Temp\\2\\pip-ephem-wheel-cache-woeqvplp\\wheels\\be\\36\\3d\\eb4e543ce26bda98974127bdb6a4f1d0d8345328beb387f1bb\n",
      "Successfully built ivy-models\n",
      "Installing collected packages: ivy-models\n",
      "Successfully installed ivy-models-1.1.9\n"
     ]
    },
    {
     "name": "stderr",
     "output_type": "stream",
     "text": [
      "WARNING: Ignoring invalid distribution -umpy (c:\\programdata\\anaconda3\\envs\\hackthons\\lib\\site-packages)\n",
      "WARNING: Ignoring invalid distribution -umpy (c:\\programdata\\anaconda3\\envs\\hackthons\\lib\\site-packages)\n",
      "'python3' is not recognized as an internal or external command,\n",
      "operable program or batch file.\n"
     ]
    }
   ],
   "source": [
    "!pip install -q ivy\n",
    "!git clone https://github.com/unifyai/models.git --depth 1\n",
    "\n",
    "# Installing models package from cloned repository! 😄\n",
    "!cd models/ && pip install .\n",
    "\n",
    "!python3 -m pip install torchvision\n",
    "\n",
    "exit()"
   ]
  },
  {
   "cell_type": "code",
   "execution_count": 1,
   "outputs": [],
   "source": [
    "import ivy\n",
    "import torch"
   ],
   "metadata": {
    "collapsed": false,
    "ExecuteTime": {
     "end_time": "2023-09-08T11:33:47.035377900Z",
     "start_time": "2023-09-08T11:33:43.940586300Z"
    }
   }
  },
  {
   "cell_type": "code",
   "execution_count": 2,
   "outputs": [
    {
     "name": "stderr",
     "output_type": "stream",
     "text": [
      "'wget' is not recognized as an internal or external command,\n",
      "operable program or batch file.\n"
     ]
    },
    {
     "ename": "FileNotFoundError",
     "evalue": "[Errno 2] No such file or directory: 'imagenet_classes.txt'",
     "output_type": "error",
     "traceback": [
      "\u001B[1;31m---------------------------------------------------------------------------\u001B[0m",
      "\u001B[1;31mFileNotFoundError\u001B[0m                         Traceback (most recent call last)",
      "Cell \u001B[1;32mIn[2], line 2\u001B[0m\n\u001B[0;32m      1\u001B[0m get_ipython()\u001B[38;5;241m.\u001B[39msystem(\u001B[38;5;124m'\u001B[39m\u001B[38;5;124mwget https://raw.githubusercontent.com/pytorch/hub/master/imagenet_classes.txt\u001B[39m\u001B[38;5;124m'\u001B[39m)\n\u001B[1;32m----> 2\u001B[0m \u001B[38;5;28;01mwith\u001B[39;00m \u001B[38;5;28;43mopen\u001B[39;49m\u001B[43m(\u001B[49m\u001B[38;5;124;43m\"\u001B[39;49m\u001B[38;5;124;43mimagenet_classes.txt\u001B[39;49m\u001B[38;5;124;43m\"\u001B[39;49m\u001B[43m,\u001B[49m\u001B[43m \u001B[49m\u001B[38;5;124;43m\"\u001B[39;49m\u001B[38;5;124;43mr\u001B[39;49m\u001B[38;5;124;43m\"\u001B[39;49m\u001B[43m)\u001B[49m \u001B[38;5;28;01mas\u001B[39;00m f:\n\u001B[0;32m      3\u001B[0m     categories \u001B[38;5;241m=\u001B[39m [s\u001B[38;5;241m.\u001B[39mstrip() \u001B[38;5;28;01mfor\u001B[39;00m s \u001B[38;5;129;01min\u001B[39;00m f\u001B[38;5;241m.\u001B[39mreadlines()]\n",
      "File \u001B[1;32mC:\\ProgramData\\Anaconda3\\envs\\hackthons\\lib\\site-packages\\IPython\\core\\interactiveshell.py:284\u001B[0m, in \u001B[0;36m_modified_open\u001B[1;34m(file, *args, **kwargs)\u001B[0m\n\u001B[0;32m    277\u001B[0m \u001B[38;5;28;01mif\u001B[39;00m file \u001B[38;5;129;01min\u001B[39;00m {\u001B[38;5;241m0\u001B[39m, \u001B[38;5;241m1\u001B[39m, \u001B[38;5;241m2\u001B[39m}:\n\u001B[0;32m    278\u001B[0m     \u001B[38;5;28;01mraise\u001B[39;00m \u001B[38;5;167;01mValueError\u001B[39;00m(\n\u001B[0;32m    279\u001B[0m         \u001B[38;5;124mf\u001B[39m\u001B[38;5;124m\"\u001B[39m\u001B[38;5;124mIPython won\u001B[39m\u001B[38;5;124m'\u001B[39m\u001B[38;5;124mt let you open fd=\u001B[39m\u001B[38;5;132;01m{\u001B[39;00mfile\u001B[38;5;132;01m}\u001B[39;00m\u001B[38;5;124m by default \u001B[39m\u001B[38;5;124m\"\u001B[39m\n\u001B[0;32m    280\u001B[0m         \u001B[38;5;124m\"\u001B[39m\u001B[38;5;124mas it is likely to crash IPython. If you know what you are doing, \u001B[39m\u001B[38;5;124m\"\u001B[39m\n\u001B[0;32m    281\u001B[0m         \u001B[38;5;124m\"\u001B[39m\u001B[38;5;124myou can use builtins\u001B[39m\u001B[38;5;124m'\u001B[39m\u001B[38;5;124m open.\u001B[39m\u001B[38;5;124m\"\u001B[39m\n\u001B[0;32m    282\u001B[0m     )\n\u001B[1;32m--> 284\u001B[0m \u001B[38;5;28;01mreturn\u001B[39;00m io_open(file, \u001B[38;5;241m*\u001B[39margs, \u001B[38;5;241m*\u001B[39m\u001B[38;5;241m*\u001B[39mkwargs)\n",
      "\u001B[1;31mFileNotFoundError\u001B[0m: [Errno 2] No such file or directory: 'imagenet_classes.txt'"
     ]
    }
   ],
   "source": [
    "!wget https://raw.githubusercontent.com/pytorch/hub/master/imagenet_classes.txt\n",
    "with open(\"imagenet_classes.txt\", \"r\") as f:\n",
    "    categories = [s.strip() for s in f.readlines()]"
   ],
   "metadata": {
    "collapsed": false,
    "ExecuteTime": {
     "end_time": "2023-09-08T11:33:53.161969100Z",
     "start_time": "2023-09-08T11:33:51.740815200Z"
    }
   }
  },
  {
   "cell_type": "code",
   "execution_count": null,
   "outputs": [],
   "source": [
    "# Load an image from the examples folder\n",
    "!wget https://raw.githubusercontent.com/unifyai/models/master/images/cat.jpg\n",
    "filename = \"cat.jpg\""
   ],
   "metadata": {
    "collapsed": false
   }
  },
  {
   "cell_type": "code",
   "execution_count": null,
   "outputs": [],
   "source": [
    "# Preprocess torch image\n",
    "from torchvision import transforms\n",
    "from PIL import Image\n",
    "\n",
    "preprocess = transforms.Compose([\n",
    "    transforms.Resize(256),\n",
    "    transforms.CenterCrop(224),\n",
    "    transforms.ToTensor(),\n",
    "    transforms.Normalize(\n",
    "        mean=[0.485, 0.456, 0.406],\n",
    "        std=[0.229, 0.224, 0.225]\n",
    "    )])\n",
    "torch_img = Image.open(filename)\n",
    "torch_img = preprocess(torch_img)\n",
    "torch_img = torch.unsqueeze(torch_img, 0)"
   ],
   "metadata": {
    "collapsed": false
   }
  },
  {
   "cell_type": "code",
   "execution_count": null,
   "outputs": [],
   "source": [
    "from IPython.display import Image, display\n",
    "display(Image(filename))"
   ],
   "metadata": {
    "collapsed": false
   }
  },
  {
   "cell_type": "code",
   "execution_count": null,
   "outputs": [],
   "source": [
    "from torchvision.models import resnet34, ResNet34_Weights\n",
    "\n",
    "torch_resnet_34 = resnet34(weights=ResNet34_Weights.IMAGENET1K_V1).to(\"cuda\")\n",
    "torch_resnet_34.eval()"
   ],
   "metadata": {
    "collapsed": false
   }
  },
  {
   "cell_type": "code",
   "execution_count": null,
   "outputs": [],
   "source": [
    "# initialize ivy model with ivy resnet weights\n",
    "from ivy_models.resnet import resnet_34\n",
    "\n",
    "ivy_resnet_34 = resnet_34(pretrained=True)"
   ],
   "metadata": {
    "collapsed": false
   }
  },
  {
   "cell_type": "code",
   "execution_count": null,
   "outputs": [],
   "source": [
    "ivy.set_backend('torch')\n",
    "\n",
    "img = ivy.asarray(torch_img.permute((0, 2, 3, 1)), dtype=\"float32\", device=\"gpu:0\")\n",
    "ivy_resnet_34.compile(args=(img,))"
   ],
   "metadata": {
    "collapsed": false
   }
  },
  {
   "cell_type": "code",
   "execution_count": null,
   "outputs": [],
   "source": [
    "# Run inference on torch model\n",
    "torch_output = torch.softmax(torch_resnet_34(torch_img.cuda()), dim=1)\n",
    "torch_classes = torch.argsort(torch_output[0], descending=True)[:3]\n",
    "torch_logits = torch.take(torch_output[0], torch_classes)\n",
    "\n",
    "print(\"Indices of the top 3 classes are:\", torch_classes)\n",
    "print(\"Logits of the top 3 classes are:\", torch_logits)\n",
    "print(\"Categories of the top 3 classes are:\", [categories[i] for i in torch_classes])"
   ],
   "metadata": {
    "collapsed": false
   }
  },
  {
   "cell_type": "code",
   "execution_count": null,
   "outputs": [],
   "source": [
    "# Run inference on ivy model\n",
    "output = ivy.softmax(ivy_resnet_34(img))  # pass the image to the model\n",
    "classes = ivy.argsort(output[0], descending=True)[:3]  # get the top 3 classes\n",
    "logits = ivy.gather(output[0], classes)  # get the logits\n",
    "\n",
    "print(\"Indices of the top 3 classes are:\", classes)\n",
    "print(\"Logits of the top 3 classes are:\", logits)\n",
    "print(\"Categories of the top 3 classes are:\", [categories[i] for i in classes.to_list()])"
   ],
   "metadata": {
    "collapsed": false
   }
  },
  {
   "cell_type": "code",
   "execution_count": null,
   "outputs": [],
   "source": [
    "# Compare the results and model inference times\n",
    "from torchvision.models import resnet50, ResNet50_Weights\n",
    "\n",
    "torch_resnet_50 = resnet50(weights=ResNet50_Weights.IMAGENET1K_V2).to(\"cuda\")\n",
    "torch_resnet_50.eval()"
   ],
   "metadata": {
    "collapsed": false
   }
  },
  {
   "cell_type": "code",
   "execution_count": null,
   "outputs": [],
   "source": [
    "from ivy_models.resnet import resnet_50\n",
    "\n",
    "ivy_resnet_50 = resnet_50(pretrained=True)"
   ],
   "metadata": {
    "collapsed": false
   }
  },
  {
   "cell_type": "code",
   "execution_count": null,
   "outputs": [],
   "source": [
    "ivy_resnet_50.compile(args=(img,))"
   ],
   "metadata": {
    "collapsed": false
   }
  },
  {
   "cell_type": "code",
   "execution_count": null,
   "outputs": [],
   "source": [
    "torch_output = torch.softmax(torch_resnet_50(torch_img.cuda()), dim=1)\n",
    "torch_classes = torch.argsort(torch_output[0], descending=True)[:3]\n",
    "torch_logits = torch.take(torch_output[0], torch_classes)\n",
    "\n",
    "print(\"Indices of the top 3 classes are:\", torch_classes)\n",
    "print(\"Logits of the top 3 classes are:\", torch_logits)\n",
    "print(\"Categories of the top 3 classes are:\", [categories[i] for i in torch_classes])"
   ],
   "metadata": {
    "collapsed": false
   }
  },
  {
   "cell_type": "code",
   "execution_count": null,
   "outputs": [],
   "source": [
    "output = ivy.softmax(ivy_resnet_50(ivy.asarray(img)))  # pass the image to the model\n",
    "classes = ivy.argsort(output[0], descending=True)[:3]  # get the top 3 classes\n",
    "logits = ivy.gather(output[0], classes)  # get the logits\n",
    "\n",
    "print(\"Indices of the top 3 classes are:\", classes)\n",
    "print(\"Logits of the top 3 classes are:\", logits)\n",
    "print(\"Categories of the top 3 classes are:\", [categories[i] for i in classes.to_list()])"
   ],
   "metadata": {
    "collapsed": false
   }
  }
 ],
 "metadata": {
  "kernelspec": {
   "display_name": "Python 3",
   "language": "python",
   "name": "python3"
  },
  "language_info": {
   "codemirror_mode": {
    "name": "ipython",
    "version": 2
   },
   "file_extension": ".py",
   "mimetype": "text/x-python",
   "name": "python",
   "nbconvert_exporter": "python",
   "pygments_lexer": "ipython2",
   "version": "2.7.6"
  }
 },
 "nbformat": 4,
 "nbformat_minor": 0
}
