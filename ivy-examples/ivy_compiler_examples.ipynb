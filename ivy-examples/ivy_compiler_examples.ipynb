{
 "cells": [
  {
   "cell_type": "code",
   "execution_count": 2,
   "outputs": [
    {
     "name": "stdout",
     "output_type": "stream",
     "text": [
      "Requirement already satisfied: ivy in c:\\programdata\\anaconda3\\envs\\hackthons\\lib\\site-packages (0.0.3.0)\n",
      "Requirement already satisfied: numpy in c:\\programdata\\anaconda3\\envs\\hackthons\\lib\\site-packages (from ivy) (1.23.5)\n",
      "Requirement already satisfied: einops in c:\\programdata\\anaconda3\\envs\\hackthons\\lib\\site-packages (from ivy) (0.6.1)\n",
      "Requirement already satisfied: psutil in c:\\programdata\\anaconda3\\envs\\hackthons\\lib\\site-packages (from ivy) (5.9.0)\n",
      "Requirement already satisfied: termcolor in c:\\programdata\\anaconda3\\envs\\hackthons\\lib\\site-packages (from ivy) (2.3.0)\n",
      "Requirement already satisfied: colorama in c:\\programdata\\anaconda3\\envs\\hackthons\\lib\\site-packages (from ivy) (0.4.6)\n",
      "Requirement already satisfied: packaging in c:\\programdata\\anaconda3\\envs\\hackthons\\lib\\site-packages (from ivy) (23.0)\n",
      "Requirement already satisfied: nvidia-ml-py in c:\\programdata\\anaconda3\\envs\\hackthons\\lib\\site-packages (from ivy) (12.535.108)\n",
      "Requirement already satisfied: diskcache in c:\\programdata\\anaconda3\\envs\\hackthons\\lib\\site-packages (from ivy) (5.6.3)\n",
      "Requirement already satisfied: google-auth in c:\\programdata\\anaconda3\\envs\\hackthons\\lib\\site-packages (from ivy) (2.22.0)\n",
      "Requirement already satisfied: requests in c:\\programdata\\anaconda3\\envs\\hackthons\\lib\\site-packages (from ivy) (2.29.0)\n",
      "Requirement already satisfied: pyvis in c:\\programdata\\anaconda3\\envs\\hackthons\\lib\\site-packages (from ivy) (0.3.2)\n",
      "Requirement already satisfied: dill in c:\\programdata\\anaconda3\\envs\\hackthons\\lib\\site-packages (from ivy) (0.3.7)\n",
      "Requirement already satisfied: cachetools<6.0,>=2.0.0 in c:\\programdata\\anaconda3\\envs\\hackthons\\lib\\site-packages (from google-auth->ivy) (5.3.1)\n",
      "Requirement already satisfied: pyasn1-modules>=0.2.1 in c:\\programdata\\anaconda3\\envs\\hackthons\\lib\\site-packages (from google-auth->ivy) (0.3.0)\n",
      "Requirement already satisfied: rsa<5,>=3.1.4 in c:\\programdata\\anaconda3\\envs\\hackthons\\lib\\site-packages (from google-auth->ivy) (4.9)\n",
      "Requirement already satisfied: six>=1.9.0 in c:\\programdata\\anaconda3\\envs\\hackthons\\lib\\site-packages (from google-auth->ivy) (1.16.0)\n",
      "Requirement already satisfied: urllib3<2.0 in c:\\programdata\\anaconda3\\envs\\hackthons\\lib\\site-packages (from google-auth->ivy) (1.26.16)\n",
      "Requirement already satisfied: ipython>=5.3.0 in c:\\programdata\\anaconda3\\envs\\hackthons\\lib\\site-packages (from pyvis->ivy) (8.12.0)\n",
      "Requirement already satisfied: jinja2>=2.9.6 in c:\\programdata\\anaconda3\\envs\\hackthons\\lib\\site-packages (from pyvis->ivy) (3.1.2)\n",
      "Requirement already satisfied: jsonpickle>=1.4.1 in c:\\programdata\\anaconda3\\envs\\hackthons\\lib\\site-packages (from pyvis->ivy) (3.0.2)\n",
      "Requirement already satisfied: networkx>=1.11 in c:\\programdata\\anaconda3\\envs\\hackthons\\lib\\site-packages (from pyvis->ivy) (3.1)\n",
      "Requirement already satisfied: charset-normalizer<4,>=2 in c:\\programdata\\anaconda3\\envs\\hackthons\\lib\\site-packages (from requests->ivy) (2.0.4)\n",
      "Requirement already satisfied: idna<4,>=2.5 in c:\\programdata\\anaconda3\\envs\\hackthons\\lib\\site-packages (from requests->ivy) (3.4)\n",
      "Requirement already satisfied: certifi>=2017.4.17 in c:\\programdata\\anaconda3\\envs\\hackthons\\lib\\site-packages (from requests->ivy) (2023.7.22)\n",
      "Requirement already satisfied: backcall in c:\\programdata\\anaconda3\\envs\\hackthons\\lib\\site-packages (from ipython>=5.3.0->pyvis->ivy) (0.2.0)\n",
      "Requirement already satisfied: decorator in c:\\programdata\\anaconda3\\envs\\hackthons\\lib\\site-packages (from ipython>=5.3.0->pyvis->ivy) (5.1.1)\n",
      "Requirement already satisfied: jedi>=0.16 in c:\\programdata\\anaconda3\\envs\\hackthons\\lib\\site-packages (from ipython>=5.3.0->pyvis->ivy) (0.18.1)\n",
      "Requirement already satisfied: matplotlib-inline in c:\\programdata\\anaconda3\\envs\\hackthons\\lib\\site-packages (from ipython>=5.3.0->pyvis->ivy) (0.1.6)\n",
      "Requirement already satisfied: pickleshare in c:\\programdata\\anaconda3\\envs\\hackthons\\lib\\site-packages (from ipython>=5.3.0->pyvis->ivy) (0.7.5)\n",
      "Requirement already satisfied: prompt-toolkit!=3.0.37,<3.1.0,>=3.0.30 in c:\\programdata\\anaconda3\\envs\\hackthons\\lib\\site-packages (from ipython>=5.3.0->pyvis->ivy) (3.0.36)\n",
      "Requirement already satisfied: pygments>=2.4.0 in c:\\programdata\\anaconda3\\envs\\hackthons\\lib\\site-packages (from ipython>=5.3.0->pyvis->ivy) (2.15.1)\n",
      "Requirement already satisfied: stack-data in c:\\programdata\\anaconda3\\envs\\hackthons\\lib\\site-packages (from ipython>=5.3.0->pyvis->ivy) (0.2.0)\n",
      "Requirement already satisfied: traitlets>=5 in c:\\programdata\\anaconda3\\envs\\hackthons\\lib\\site-packages (from ipython>=5.3.0->pyvis->ivy) (5.7.1)\n",
      "Requirement already satisfied: typing-extensions in c:\\programdata\\anaconda3\\envs\\hackthons\\lib\\site-packages (from ipython>=5.3.0->pyvis->ivy) (4.7.1)\n",
      "Requirement already satisfied: MarkupSafe>=2.0 in c:\\programdata\\anaconda3\\envs\\hackthons\\lib\\site-packages (from jinja2>=2.9.6->pyvis->ivy) (2.1.1)\n",
      "Requirement already satisfied: pyasn1<0.6.0,>=0.4.6 in c:\\programdata\\anaconda3\\envs\\hackthons\\lib\\site-packages (from pyasn1-modules>=0.2.1->google-auth->ivy) (0.5.0)\n",
      "Requirement already satisfied: parso<0.9.0,>=0.8.0 in c:\\programdata\\anaconda3\\envs\\hackthons\\lib\\site-packages (from jedi>=0.16->ipython>=5.3.0->pyvis->ivy) (0.8.3)\n",
      "Requirement already satisfied: wcwidth in c:\\programdata\\anaconda3\\envs\\hackthons\\lib\\site-packages (from prompt-toolkit!=3.0.37,<3.1.0,>=3.0.30->ipython>=5.3.0->pyvis->ivy) (0.2.5)\n",
      "Requirement already satisfied: executing in c:\\programdata\\anaconda3\\envs\\hackthons\\lib\\site-packages (from stack-data->ipython>=5.3.0->pyvis->ivy) (0.8.3)\n",
      "Requirement already satisfied: asttokens in c:\\programdata\\anaconda3\\envs\\hackthons\\lib\\site-packages (from stack-data->ipython>=5.3.0->pyvis->ivy) (2.0.5)\n",
      "Requirement already satisfied: pure-eval in c:\\programdata\\anaconda3\\envs\\hackthons\\lib\\site-packages (from stack-data->ipython>=5.3.0->pyvis->ivy) (0.2.2)\n"
     ]
    },
    {
     "name": "stderr",
     "output_type": "stream",
     "text": [
      "WARNING: Ignoring invalid distribution -umpy (c:\\programdata\\anaconda3\\envs\\hackthons\\lib\\site-packages)\n",
      "WARNING: Ignoring invalid distribution -umpy (c:\\programdata\\anaconda3\\envs\\hackthons\\lib\\site-packages)\n"
     ]
    },
    {
     "name": "stdout",
     "output_type": "stream",
     "text": [
      "Requirement already satisfied: dm-haiku in c:\\programdata\\anaconda3\\envs\\hackthons\\lib\\site-packages (0.0.10)\n",
      "Requirement already satisfied: absl-py>=0.7.1 in c:\\programdata\\anaconda3\\envs\\hackthons\\lib\\site-packages (from dm-haiku) (1.4.0)\n",
      "Requirement already satisfied: jmp>=0.0.2 in c:\\programdata\\anaconda3\\envs\\hackthons\\lib\\site-packages (from dm-haiku) (0.0.4)\n",
      "Requirement already satisfied: numpy>=1.18.0 in c:\\programdata\\anaconda3\\envs\\hackthons\\lib\\site-packages (from dm-haiku) (1.23.5)\n",
      "Requirement already satisfied: tabulate>=0.8.9 in c:\\programdata\\anaconda3\\envs\\hackthons\\lib\\site-packages (from dm-haiku) (0.9.0)\n"
     ]
    },
    {
     "name": "stderr",
     "output_type": "stream",
     "text": [
      "WARNING: Ignoring invalid distribution -umpy (c:\\programdata\\anaconda3\\envs\\hackthons\\lib\\site-packages)\n",
      "WARNING: Ignoring invalid distribution -umpy (c:\\programdata\\anaconda3\\envs\\hackthons\\lib\\site-packages)\n"
     ]
    },
    {
     "name": "stdout",
     "output_type": "stream",
     "text": [
      "Requirement already satisfied: kornia in c:\\programdata\\anaconda3\\envs\\hackthons\\lib\\site-packages (0.7.0)\n",
      "Requirement already satisfied: packaging in c:\\programdata\\anaconda3\\envs\\hackthons\\lib\\site-packages (from kornia) (23.0)\n",
      "Requirement already satisfied: torch>=1.9.1 in c:\\programdata\\anaconda3\\envs\\hackthons\\lib\\site-packages (from kornia) (2.0.1)\n",
      "Requirement already satisfied: filelock in c:\\programdata\\anaconda3\\envs\\hackthons\\lib\\site-packages (from torch>=1.9.1->kornia) (3.12.3)\n",
      "Requirement already satisfied: typing-extensions in c:\\programdata\\anaconda3\\envs\\hackthons\\lib\\site-packages (from torch>=1.9.1->kornia) (4.7.1)\n",
      "Requirement already satisfied: sympy in c:\\programdata\\anaconda3\\envs\\hackthons\\lib\\site-packages (from torch>=1.9.1->kornia) (1.12)\n",
      "Requirement already satisfied: networkx in c:\\programdata\\anaconda3\\envs\\hackthons\\lib\\site-packages (from torch>=1.9.1->kornia) (3.1)\n",
      "Requirement already satisfied: jinja2 in c:\\programdata\\anaconda3\\envs\\hackthons\\lib\\site-packages (from torch>=1.9.1->kornia) (3.1.2)\n",
      "Requirement already satisfied: MarkupSafe>=2.0 in c:\\programdata\\anaconda3\\envs\\hackthons\\lib\\site-packages (from jinja2->torch>=1.9.1->kornia) (2.1.1)\n",
      "Requirement already satisfied: mpmath>=0.19 in c:\\programdata\\anaconda3\\envs\\hackthons\\lib\\site-packages (from sympy->torch>=1.9.1->kornia) (1.3.0)\n"
     ]
    },
    {
     "name": "stderr",
     "output_type": "stream",
     "text": [
      "WARNING: Ignoring invalid distribution -umpy (c:\\programdata\\anaconda3\\envs\\hackthons\\lib\\site-packages)\n",
      "WARNING: Ignoring invalid distribution -umpy (c:\\programdata\\anaconda3\\envs\\hackthons\\lib\\site-packages)\n"
     ]
    },
    {
     "name": "stdout",
     "output_type": "stream",
     "text": [
      "Requirement already satisfied: timm in c:\\programdata\\anaconda3\\envs\\hackthons\\lib\\site-packages (0.9.7)\n",
      "Requirement already satisfied: torch>=1.7 in c:\\programdata\\anaconda3\\envs\\hackthons\\lib\\site-packages (from timm) (2.0.1)\n",
      "Requirement already satisfied: torchvision in c:\\programdata\\anaconda3\\envs\\hackthons\\lib\\site-packages (from timm) (0.15.2)\n",
      "Requirement already satisfied: pyyaml in c:\\programdata\\anaconda3\\envs\\hackthons\\lib\\site-packages (from timm) (6.0)\n",
      "Requirement already satisfied: huggingface-hub in c:\\programdata\\anaconda3\\envs\\hackthons\\lib\\site-packages (from timm) (0.16.4)\n",
      "Requirement already satisfied: safetensors in c:\\programdata\\anaconda3\\envs\\hackthons\\lib\\site-packages (from timm) (0.3.3)\n",
      "Requirement already satisfied: filelock in c:\\programdata\\anaconda3\\envs\\hackthons\\lib\\site-packages (from torch>=1.7->timm) (3.12.3)\n",
      "Requirement already satisfied: typing-extensions in c:\\programdata\\anaconda3\\envs\\hackthons\\lib\\site-packages (from torch>=1.7->timm) (4.7.1)\n",
      "Requirement already satisfied: sympy in c:\\programdata\\anaconda3\\envs\\hackthons\\lib\\site-packages (from torch>=1.7->timm) (1.12)\n",
      "Requirement already satisfied: networkx in c:\\programdata\\anaconda3\\envs\\hackthons\\lib\\site-packages (from torch>=1.7->timm) (3.1)\n",
      "Requirement already satisfied: jinja2 in c:\\programdata\\anaconda3\\envs\\hackthons\\lib\\site-packages (from torch>=1.7->timm) (3.1.2)\n",
      "Requirement already satisfied: fsspec in c:\\programdata\\anaconda3\\envs\\hackthons\\lib\\site-packages (from huggingface-hub->timm) (2023.9.0)\n",
      "Requirement already satisfied: requests in c:\\programdata\\anaconda3\\envs\\hackthons\\lib\\site-packages (from huggingface-hub->timm) (2.29.0)\n",
      "Requirement already satisfied: tqdm>=4.42.1 in c:\\programdata\\anaconda3\\envs\\hackthons\\lib\\site-packages (from huggingface-hub->timm) (4.65.0)\n",
      "Requirement already satisfied: packaging>=20.9 in c:\\programdata\\anaconda3\\envs\\hackthons\\lib\\site-packages (from huggingface-hub->timm) (23.0)\n",
      "Requirement already satisfied: numpy in c:\\programdata\\anaconda3\\envs\\hackthons\\lib\\site-packages (from torchvision->timm) (1.23.5)\n",
      "Requirement already satisfied: pillow!=8.3.*,>=5.3.0 in c:\\programdata\\anaconda3\\envs\\hackthons\\lib\\site-packages (from torchvision->timm) (10.0.0)\n",
      "Requirement already satisfied: colorama in c:\\programdata\\anaconda3\\envs\\hackthons\\lib\\site-packages (from tqdm>=4.42.1->huggingface-hub->timm) (0.4.6)\n",
      "Requirement already satisfied: MarkupSafe>=2.0 in c:\\programdata\\anaconda3\\envs\\hackthons\\lib\\site-packages (from jinja2->torch>=1.7->timm) (2.1.1)\n",
      "Requirement already satisfied: charset-normalizer<4,>=2 in c:\\programdata\\anaconda3\\envs\\hackthons\\lib\\site-packages (from requests->huggingface-hub->timm) (2.0.4)\n",
      "Requirement already satisfied: idna<4,>=2.5 in c:\\programdata\\anaconda3\\envs\\hackthons\\lib\\site-packages (from requests->huggingface-hub->timm) (3.4)\n",
      "Requirement already satisfied: urllib3<1.27,>=1.21.1 in c:\\programdata\\anaconda3\\envs\\hackthons\\lib\\site-packages (from requests->huggingface-hub->timm) (1.26.16)\n",
      "Requirement already satisfied: certifi>=2017.4.17 in c:\\programdata\\anaconda3\\envs\\hackthons\\lib\\site-packages (from requests->huggingface-hub->timm) (2023.7.22)\n",
      "Requirement already satisfied: mpmath>=0.19 in c:\\programdata\\anaconda3\\envs\\hackthons\\lib\\site-packages (from sympy->torch>=1.7->timm) (1.3.0)\n"
     ]
    },
    {
     "name": "stderr",
     "output_type": "stream",
     "text": [
      "WARNING: Ignoring invalid distribution -umpy (c:\\programdata\\anaconda3\\envs\\hackthons\\lib\\site-packages)\n",
      "WARNING: Ignoring invalid distribution -umpy (c:\\programdata\\anaconda3\\envs\\hackthons\\lib\\site-packages)\n"
     ]
    },
    {
     "name": "stdout",
     "output_type": "stream",
     "text": [
      "Requirement already satisfied: pyvis in c:\\programdata\\anaconda3\\envs\\hackthons\\lib\\site-packages (0.3.2)"
     ]
    },
    {
     "name": "stderr",
     "output_type": "stream",
     "text": [
      "WARNING: Ignoring invalid distribution -umpy (c:\\programdata\\anaconda3\\envs\\hackthons\\lib\\site-packages)\n",
      "WARNING: Ignoring invalid distribution -umpy (c:\\programdata\\anaconda3\\envs\\hackthons\\lib\\site-packages)\n"
     ]
    },
    {
     "name": "stdout",
     "output_type": "stream",
     "text": [
      "\n",
      "Requirement already satisfied: ipython>=5.3.0 in c:\\programdata\\anaconda3\\envs\\hackthons\\lib\\site-packages (from pyvis) (8.12.0)\n",
      "Requirement already satisfied: jinja2>=2.9.6 in c:\\programdata\\anaconda3\\envs\\hackthons\\lib\\site-packages (from pyvis) (3.1.2)\n",
      "Requirement already satisfied: jsonpickle>=1.4.1 in c:\\programdata\\anaconda3\\envs\\hackthons\\lib\\site-packages (from pyvis) (3.0.2)\n",
      "Requirement already satisfied: networkx>=1.11 in c:\\programdata\\anaconda3\\envs\\hackthons\\lib\\site-packages (from pyvis) (3.1)\n",
      "Requirement already satisfied: backcall in c:\\programdata\\anaconda3\\envs\\hackthons\\lib\\site-packages (from ipython>=5.3.0->pyvis) (0.2.0)\n",
      "Requirement already satisfied: decorator in c:\\programdata\\anaconda3\\envs\\hackthons\\lib\\site-packages (from ipython>=5.3.0->pyvis) (5.1.1)\n",
      "Requirement already satisfied: jedi>=0.16 in c:\\programdata\\anaconda3\\envs\\hackthons\\lib\\site-packages (from ipython>=5.3.0->pyvis) (0.18.1)\n",
      "Requirement already satisfied: matplotlib-inline in c:\\programdata\\anaconda3\\envs\\hackthons\\lib\\site-packages (from ipython>=5.3.0->pyvis) (0.1.6)\n",
      "Requirement already satisfied: pickleshare in c:\\programdata\\anaconda3\\envs\\hackthons\\lib\\site-packages (from ipython>=5.3.0->pyvis) (0.7.5)\n",
      "Requirement already satisfied: prompt-toolkit!=3.0.37,<3.1.0,>=3.0.30 in c:\\programdata\\anaconda3\\envs\\hackthons\\lib\\site-packages (from ipython>=5.3.0->pyvis) (3.0.36)\n",
      "Requirement already satisfied: pygments>=2.4.0 in c:\\programdata\\anaconda3\\envs\\hackthons\\lib\\site-packages (from ipython>=5.3.0->pyvis) (2.15.1)\n",
      "Requirement already satisfied: stack-data in c:\\programdata\\anaconda3\\envs\\hackthons\\lib\\site-packages (from ipython>=5.3.0->pyvis) (0.2.0)\n",
      "Requirement already satisfied: traitlets>=5 in c:\\programdata\\anaconda3\\envs\\hackthons\\lib\\site-packages (from ipython>=5.3.0->pyvis) (5.7.1)\n",
      "Requirement already satisfied: typing-extensions in c:\\programdata\\anaconda3\\envs\\hackthons\\lib\\site-packages (from ipython>=5.3.0->pyvis) (4.7.1)\n",
      "Requirement already satisfied: colorama in c:\\programdata\\anaconda3\\envs\\hackthons\\lib\\site-packages (from ipython>=5.3.0->pyvis) (0.4.6)\n",
      "Requirement already satisfied: MarkupSafe>=2.0 in c:\\programdata\\anaconda3\\envs\\hackthons\\lib\\site-packages (from jinja2>=2.9.6->pyvis) (2.1.1)\n",
      "Requirement already satisfied: parso<0.9.0,>=0.8.0 in c:\\programdata\\anaconda3\\envs\\hackthons\\lib\\site-packages (from jedi>=0.16->ipython>=5.3.0->pyvis) (0.8.3)\n",
      "Requirement already satisfied: wcwidth in c:\\programdata\\anaconda3\\envs\\hackthons\\lib\\site-packages (from prompt-toolkit!=3.0.37,<3.1.0,>=3.0.30->ipython>=5.3.0->pyvis) (0.2.5)\n",
      "Requirement already satisfied: executing in c:\\programdata\\anaconda3\\envs\\hackthons\\lib\\site-packages (from stack-data->ipython>=5.3.0->pyvis) (0.8.3)\n",
      "Requirement already satisfied: asttokens in c:\\programdata\\anaconda3\\envs\\hackthons\\lib\\site-packages (from stack-data->ipython>=5.3.0->pyvis) (2.0.5)\n",
      "Requirement already satisfied: pure-eval in c:\\programdata\\anaconda3\\envs\\hackthons\\lib\\site-packages (from stack-data->ipython>=5.3.0->pyvis) (0.2.2)\n",
      "Requirement already satisfied: six in c:\\programdata\\anaconda3\\envs\\hackthons\\lib\\site-packages (from asttokens->stack-data->ipython>=5.3.0->pyvis) (1.16.0)\n"
     ]
    }
   ],
   "source": [
    "# install dependencies\n",
    "!pip install ivy\n",
    "!pip install dm-haiku\n",
    "!pip install kornia\n",
    "!pip install timm\n",
    "!pip install pyvis\n",
    "exit()"
   ],
   "metadata": {
    "collapsed": false,
    "ExecuteTime": {
     "end_time": "2023-09-08T11:22:58.441038800Z",
     "start_time": "2023-09-08T11:22:42.546600400Z"
    }
   }
  },
  {
   "cell_type": "code",
   "execution_count": 1,
   "outputs": [],
   "source": [
    "# import ivy\n",
    "import ivy\n"
   ],
   "metadata": {
    "collapsed": false,
    "ExecuteTime": {
     "end_time": "2023-09-08T11:24:22.727269900Z",
     "start_time": "2023-09-08T11:24:22.149942700Z"
    }
   }
  },
  {
   "cell_type": "code",
   "execution_count": 2,
   "outputs": [
    {
     "ename": "AttributeError",
     "evalue": "module 'ivy' has no attribute 'set_framework'",
     "output_type": "error",
     "traceback": [
      "\u001B[1;31m---------------------------------------------------------------------------\u001B[0m",
      "\u001B[1;31mAttributeError\u001B[0m                            Traceback (most recent call last)",
      "Cell \u001B[1;32mIn[2], line 2\u001B[0m\n\u001B[0;32m      1\u001B[0m \u001B[38;5;66;03m# set the backend to ivy\u001B[39;00m\n\u001B[1;32m----> 2\u001B[0m \u001B[43mivy\u001B[49m\u001B[38;5;241;43m.\u001B[39;49m\u001B[43mset_framework\u001B[49m(\u001B[38;5;124m'\u001B[39m\u001B[38;5;124mtorch\u001B[39m\u001B[38;5;124m'\u001B[39m)\n",
      "\u001B[1;31mAttributeError\u001B[0m: module 'ivy' has no attribute 'set_framework'"
     ]
    }
   ],
   "source": [
    "# set the backend to ivy\n",
    "ivy.set_framework('torch')"
   ],
   "metadata": {
    "collapsed": false,
    "ExecuteTime": {
     "end_time": "2023-09-08T11:24:28.255881900Z",
     "start_time": "2023-09-08T11:24:27.235280Z"
    }
   }
  },
  {
   "cell_type": "code",
   "execution_count": 3,
   "outputs": [
    {
     "name": "stdout",
     "output_type": "stream",
     "text": [
      "<class 'ivy.data_classes.array.array.Array'>\n",
      "<class 'numpy.ndarray'>\n"
     ]
    }
   ],
   "source": [
    "# investigate ivy's array types\n",
    "x = ivy.array([1, 2, 3])\n",
    "print(type(x))\n",
    "\n",
    "x = ivy.native_array([1, 2, 3])\n",
    "print(type(x))"
   ],
   "metadata": {
    "collapsed": false,
    "ExecuteTime": {
     "end_time": "2023-09-08T11:20:03.424487700Z",
     "start_time": "2023-09-08T11:20:03.343664200Z"
    }
   }
  },
  {
   "cell_type": "code",
   "execution_count": null,
   "outputs": [],
   "source": [
    "# investigate ivy's functional api\n",
    "ivy.set_backend(\"jax\")\n",
    "x1, x2 = ivy.array([[1], [2], [3]]), ivy.array([[1, 2, 3]])\n",
    "output = ivy.matmul(x1, x2)\n",
    "print(type(output.to_native()))\n",
    "\n",
    "ivy.set_backend(\"tensorflow\")\n",
    "x1, x2 = ivy.array([[1], [2], [3]]), ivy.array([[1, 2, 3]])\n",
    "output = ivy.matmul(x1, x2)\n",
    "print(type(output.to_native()))\n",
    "\n",
    "ivy.set_backend(\"torch\")\n",
    "x1, x2 = ivy.array([[1], [2], [3]]), ivy.array([[1, 2, 3]])\n",
    "output = ivy.matmul(x1, x2)\n",
    "print(type(output.to_native()))"
   ],
   "metadata": {
    "collapsed": false
   }
  }
 ],
 "metadata": {
  "kernelspec": {
   "display_name": "Python 3",
   "language": "python",
   "name": "python3"
  },
  "language_info": {
   "codemirror_mode": {
    "name": "ipython",
    "version": 2
   },
   "file_extension": ".py",
   "mimetype": "text/x-python",
   "name": "python",
   "nbconvert_exporter": "python",
   "pygments_lexer": "ipython2",
   "version": "2.7.6"
  }
 },
 "nbformat": 4,
 "nbformat_minor": 0
}
