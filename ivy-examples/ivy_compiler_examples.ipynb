{
 "cells": [
  {
   "cell_type": "code",
   "execution_count": 3,
   "outputs": [
    {
     "name": "stdout",
     "output_type": "stream",
     "text": [
      "Requirement already satisfied: ivy in c:\\programdata\\anaconda3\\envs\\hackthons\\lib\\site-packages (0.0.3.0)\n",
      "Requirement already satisfied: numpy in c:\\programdata\\anaconda3\\envs\\hackthons\\lib\\site-packages (from ivy) (1.23.5)\n",
      "Requirement already satisfied: einops in c:\\programdata\\anaconda3\\envs\\hackthons\\lib\\site-packages (from ivy) (0.6.1)\n",
      "Requirement already satisfied: psutil in c:\\programdata\\anaconda3\\envs\\hackthons\\lib\\site-packages (from ivy) (5.9.0)\n",
      "Requirement already satisfied: termcolor in c:\\programdata\\anaconda3\\envs\\hackthons\\lib\\site-packages (from ivy) (2.3.0)\n",
      "Requirement already satisfied: colorama in c:\\programdata\\anaconda3\\envs\\hackthons\\lib\\site-packages (from ivy) (0.4.6)\n",
      "Requirement already satisfied: packaging in c:\\programdata\\anaconda3\\envs\\hackthons\\lib\\site-packages (from ivy) (23.0)\n",
      "Requirement already satisfied: nvidia-ml-py in c:\\programdata\\anaconda3\\envs\\hackthons\\lib\\site-packages (from ivy) (12.535.108)\n",
      "Requirement already satisfied: diskcache in c:\\programdata\\anaconda3\\envs\\hackthons\\lib\\site-packages (from ivy) (5.6.3)\n",
      "Requirement already satisfied: google-auth in c:\\programdata\\anaconda3\\envs\\hackthons\\lib\\site-packages (from ivy) (2.22.0)\n",
      "Requirement already satisfied: requests in c:\\programdata\\anaconda3\\envs\\hackthons\\lib\\site-packages (from ivy) (2.29.0)\n",
      "Requirement already satisfied: pyvis in c:\\programdata\\anaconda3\\envs\\hackthons\\lib\\site-packages (from ivy) (0.3.2)\n",
      "Requirement already satisfied: dill in c:\\programdata\\anaconda3\\envs\\hackthons\\lib\\site-packages (from ivy) (0.3.7)\n",
      "Requirement already satisfied: cachetools<6.0,>=2.0.0 in c:\\programdata\\anaconda3\\envs\\hackthons\\lib\\site-packages (from google-auth->ivy) (5.3.1)\n",
      "Requirement already satisfied: pyasn1-modules>=0.2.1 in c:\\programdata\\anaconda3\\envs\\hackthons\\lib\\site-packages (from google-auth->ivy) (0.3.0)\n",
      "Requirement already satisfied: rsa<5,>=3.1.4 in c:\\programdata\\anaconda3\\envs\\hackthons\\lib\\site-packages (from google-auth->ivy) (4.9)\n",
      "Requirement already satisfied: six>=1.9.0 in c:\\programdata\\anaconda3\\envs\\hackthons\\lib\\site-packages (from google-auth->ivy) (1.16.0)\n",
      "Requirement already satisfied: urllib3<2.0 in c:\\programdata\\anaconda3\\envs\\hackthons\\lib\\site-packages (from google-auth->ivy) (1.26.16)\n",
      "Requirement already satisfied: ipython>=5.3.0 in c:\\programdata\\anaconda3\\envs\\hackthons\\lib\\site-packages (from pyvis->ivy) (8.12.0)\n",
      "Requirement already satisfied: jinja2>=2.9.6 in c:\\programdata\\anaconda3\\envs\\hackthons\\lib\\site-packages (from pyvis->ivy) (3.1.2)\n",
      "Requirement already satisfied: jsonpickle>=1.4.1 in c:\\programdata\\anaconda3\\envs\\hackthons\\lib\\site-packages (from pyvis->ivy) (3.0.2)\n",
      "Requirement already satisfied: networkx>=1.11 in c:\\programdata\\anaconda3\\envs\\hackthons\\lib\\site-packages (from pyvis->ivy) (3.1)\n",
      "Requirement already satisfied: charset-normalizer<4,>=2 in c:\\programdata\\anaconda3\\envs\\hackthons\\lib\\site-packages (from requests->ivy) (2.0.4)\n",
      "Requirement already satisfied: idna<4,>=2.5 in c:\\programdata\\anaconda3\\envs\\hackthons\\lib\\site-packages (from requests->ivy) (3.4)\n",
      "Requirement already satisfied: certifi>=2017.4.17 in c:\\programdata\\anaconda3\\envs\\hackthons\\lib\\site-packages (from requests->ivy) (2023.7.22)\n",
      "Requirement already satisfied: backcall in c:\\programdata\\anaconda3\\envs\\hackthons\\lib\\site-packages (from ipython>=5.3.0->pyvis->ivy) (0.2.0)\n",
      "Requirement already satisfied: decorator in c:\\programdata\\anaconda3\\envs\\hackthons\\lib\\site-packages (from ipython>=5.3.0->pyvis->ivy) (5.1.1)\n",
      "Requirement already satisfied: jedi>=0.16 in c:\\programdata\\anaconda3\\envs\\hackthons\\lib\\site-packages (from ipython>=5.3.0->pyvis->ivy) (0.18.1)\n",
      "Requirement already satisfied: matplotlib-inline in c:\\programdata\\anaconda3\\envs\\hackthons\\lib\\site-packages (from ipython>=5.3.0->pyvis->ivy) (0.1.6)\n",
      "Requirement already satisfied: pickleshare in c:\\programdata\\anaconda3\\envs\\hackthons\\lib\\site-packages (from ipython>=5.3.0->pyvis->ivy) (0.7.5)\n",
      "Requirement already satisfied: prompt-toolkit!=3.0.37,<3.1.0,>=3.0.30 in c:\\programdata\\anaconda3\\envs\\hackthons\\lib\\site-packages (from ipython>=5.3.0->pyvis->ivy) (3.0.36)\n",
      "Requirement already satisfied: pygments>=2.4.0 in c:\\programdata\\anaconda3\\envs\\hackthons\\lib\\site-packages (from ipython>=5.3.0->pyvis->ivy) (2.15.1)\n",
      "Requirement already satisfied: stack-data in c:\\programdata\\anaconda3\\envs\\hackthons\\lib\\site-packages (from ipython>=5.3.0->pyvis->ivy) (0.2.0)\n",
      "Requirement already satisfied: traitlets>=5 in c:\\programdata\\anaconda3\\envs\\hackthons\\lib\\site-packages (from ipython>=5.3.0->pyvis->ivy) (5.7.1)\n",
      "Requirement already satisfied: typing-extensions in c:\\programdata\\anaconda3\\envs\\hackthons\\lib\\site-packages (from ipython>=5.3.0->pyvis->ivy) (4.7.1)\n",
      "Requirement already satisfied: MarkupSafe>=2.0 in c:\\programdata\\anaconda3\\envs\\hackthons\\lib\\site-packages (from jinja2>=2.9.6->pyvis->ivy) (2.1.1)\n",
      "Requirement already satisfied: pyasn1<0.6.0,>=0.4.6 in c:\\programdata\\anaconda3\\envs\\hackthons\\lib\\site-packages (from pyasn1-modules>=0.2.1->google-auth->ivy) (0.5.0)\n",
      "Requirement already satisfied: parso<0.9.0,>=0.8.0 in c:\\programdata\\anaconda3\\envs\\hackthons\\lib\\site-packages (from jedi>=0.16->ipython>=5.3.0->pyvis->ivy) (0.8.3)\n",
      "Requirement already satisfied: wcwidth in c:\\programdata\\anaconda3\\envs\\hackthons\\lib\\site-packages (from prompt-toolkit!=3.0.37,<3.1.0,>=3.0.30->ipython>=5.3.0->pyvis->ivy) (0.2.5)\n",
      "Requirement already satisfied: executing in c:\\programdata\\anaconda3\\envs\\hackthons\\lib\\site-packages (from stack-data->ipython>=5.3.0->pyvis->ivy) (0.8.3)\n",
      "Requirement already satisfied: asttokens in c:\\programdata\\anaconda3\\envs\\hackthons\\lib\\site-packages (from stack-data->ipython>=5.3.0->pyvis->ivy) (2.0.5)\n",
      "Requirement already satisfied: pure-eval in c:\\programdata\\anaconda3\\envs\\hackthons\\lib\\site-packages (from stack-data->ipython>=5.3.0->pyvis->ivy) (0.2.2)\n"
     ]
    },
    {
     "name": "stderr",
     "output_type": "stream",
     "text": [
      "WARNING: Ignoring invalid distribution -umpy (c:\\programdata\\anaconda3\\envs\\hackthons\\lib\\site-packages)\n",
      "WARNING: Ignoring invalid distribution -umpy (c:\\programdata\\anaconda3\\envs\\hackthons\\lib\\site-packages)\n"
     ]
    },
    {
     "name": "stdout",
     "output_type": "stream",
     "text": [
      "Collecting dm-haiku\n",
      "  Obtaining dependency information for dm-haiku from https://files.pythonhosted.org/packages/df/ff/235c5bdf5d83f9013771a37dd926080400ecc1f0586f18583600dcf1540d/dm_haiku-0.0.10-py3-none-any.whl.metadata\n",
      "  Downloading dm_haiku-0.0.10-py3-none-any.whl.metadata (18 kB)\n",
      "Collecting absl-py>=0.7.1 (from dm-haiku)\n",
      "  Downloading absl_py-1.4.0-py3-none-any.whl (126 kB)\n",
      "     ---------------------------------------- 0.0/126.5 kB ? eta -:--:--\n",
      "     -------------------------------------- 126.5/126.5 kB 7.3 MB/s eta 0:00:00\n",
      "Collecting jmp>=0.0.2 (from dm-haiku)\n",
      "  Downloading jmp-0.0.4-py3-none-any.whl (18 kB)\n",
      "Requirement already satisfied: numpy>=1.18.0 in c:\\programdata\\anaconda3\\envs\\hackthons\\lib\\site-packages (from dm-haiku) (1.23.5)\n",
      "Collecting tabulate>=0.8.9 (from dm-haiku)\n",
      "  Downloading tabulate-0.9.0-py3-none-any.whl (35 kB)\n",
      "Downloading dm_haiku-0.0.10-py3-none-any.whl (360 kB)\n",
      "   ---------------------------------------- 0.0/360.3 kB ? eta -:--:--\n",
      "   --------------------------------------- 360.3/360.3 kB 11.3 MB/s eta 0:00:00\n",
      "Installing collected packages: tabulate, jmp, absl-py, dm-haiku\n",
      "Successfully installed absl-py-1.4.0 dm-haiku-0.0.10 jmp-0.0.4 tabulate-0.9.0\n"
     ]
    },
    {
     "name": "stderr",
     "output_type": "stream",
     "text": [
      "WARNING: Ignoring invalid distribution -umpy (c:\\programdata\\anaconda3\\envs\\hackthons\\lib\\site-packages)\n",
      "WARNING: Ignoring invalid distribution -umpy (c:\\programdata\\anaconda3\\envs\\hackthons\\lib\\site-packages)\n"
     ]
    },
    {
     "name": "stdout",
     "output_type": "stream",
     "text": [
      "Collecting kornia\n",
      "  Obtaining dependency information for kornia from https://files.pythonhosted.org/packages/55/da/72cb83aa364ebb4d0109965e20c5d33d7063ccab15332c3fd0acfd5609c9/kornia-0.7.0-py2.py3-none-any.whl.metadata\n",
      "  Downloading kornia-0.7.0-py2.py3-none-any.whl.metadata (12 kB)\n",
      "Requirement already satisfied: packaging in c:\\programdata\\anaconda3\\envs\\hackthons\\lib\\site-packages (from kornia) (23.0)\n",
      "Collecting torch>=1.9.1 (from kornia)\n",
      "  Downloading torch-2.0.1-cp39-cp39-win_amd64.whl (172.4 MB)\n",
      "     ---------------------------------------- 0.0/172.4 MB ? eta -:--:--\n",
      "      -------------------------------------- 3.2/172.4 MB 67.5 MB/s eta 0:00:03\n",
      "     - ------------------------------------ 8.0/172.4 MB 102.1 MB/s eta 0:00:02\n",
      "     -- ----------------------------------- 13.0/172.4 MB 93.0 MB/s eta 0:00:02\n",
      "     --- ---------------------------------- 17.7/172.4 MB 93.9 MB/s eta 0:00:02\n",
      "     ---- --------------------------------- 21.9/172.4 MB 93.9 MB/s eta 0:00:02\n",
      "     ----- -------------------------------- 26.7/172.4 MB 93.9 MB/s eta 0:00:02\n",
      "     ------ ------------------------------ 30.5/172.4 MB 110.0 MB/s eta 0:00:02\n",
      "     ------- ------------------------------ 34.3/172.4 MB 93.9 MB/s eta 0:00:02\n",
      "     -------- ----------------------------- 37.9/172.4 MB 93.0 MB/s eta 0:00:02\n",
      "     --------- --------------------------- 43.2/172.4 MB 110.0 MB/s eta 0:00:02\n",
      "     ---------- --------------------------- 48.1/172.4 MB 93.9 MB/s eta 0:00:02\n",
      "     ----------- -------------------------- 53.2/172.4 MB 93.0 MB/s eta 0:00:02\n",
      "     ------------ ------------------------ 58.2/172.4 MB 108.8 MB/s eta 0:00:02\n",
      "     ------------- ------------------------ 63.1/172.4 MB 93.0 MB/s eta 0:00:02\n",
      "     -------------- ---------------------- 68.0/172.4 MB 108.8 MB/s eta 0:00:01\n",
      "     ---------------- --------------------- 72.6/172.4 MB 93.9 MB/s eta 0:00:02\n",
      "     ---------------- --------------------- 76.7/172.4 MB 93.9 MB/s eta 0:00:02\n",
      "     ----------------- -------------------- 79.9/172.4 MB 81.8 MB/s eta 0:00:02\n",
      "     ------------------ ------------------- 84.6/172.4 MB 81.8 MB/s eta 0:00:02\n",
      "     ------------------- ------------------ 89.6/172.4 MB 93.0 MB/s eta 0:00:01\n",
      "     -------------------- ---------------- 93.3/172.4 MB 108.8 MB/s eta 0:00:01\n",
      "     --------------------- --------------- 98.5/172.4 MB 108.8 MB/s eta 0:00:01\n",
      "     --------------------- -------------- 103.2/172.4 MB 108.8 MB/s eta 0:00:01\n",
      "     ---------------------- ------------- 107.5/172.4 MB 108.8 MB/s eta 0:00:01\n",
      "     ------------------------ ------------ 112.6/172.4 MB 93.0 MB/s eta 0:00:01\n",
      "     ------------------------- ----------- 116.6/172.4 MB 93.9 MB/s eta 0:00:01\n",
      "     ------------------------- ---------- 121.6/172.4 MB 108.8 MB/s eta 0:00:01\n",
      "     -------------------------- --------- 125.7/172.4 MB 108.8 MB/s eta 0:00:01\n",
      "     --------------------------- --------- 129.8/172.4 MB 81.8 MB/s eta 0:00:01\n",
      "     ---------------------------- -------- 134.8/172.4 MB 93.9 MB/s eta 0:00:01\n",
      "     ----------------------------- ------ 139.3/172.4 MB 108.8 MB/s eta 0:00:01\n",
      "     ------------------------------ ----- 144.1/172.4 MB 108.8 MB/s eta 0:00:01\n",
      "     ------------------------------- ----- 148.8/172.4 MB 93.0 MB/s eta 0:00:01\n",
      "     --------------------------------- --- 153.8/172.4 MB 93.9 MB/s eta 0:00:01\n",
      "     --------------------------------- -- 158.8/172.4 MB 110.0 MB/s eta 0:00:01\n",
      "     ---------------------------------- - 163.8/172.4 MB 108.8 MB/s eta 0:00:01\n",
      "     ------------------------------------  168.1/172.4 MB 93.0 MB/s eta 0:00:01\n",
      "     -----------------------------------  172.3/172.4 MB 108.8 MB/s eta 0:00:01\n",
      "     -----------------------------------  172.3/172.4 MB 108.8 MB/s eta 0:00:01\n",
      "     -----------------------------------  172.3/172.4 MB 108.8 MB/s eta 0:00:01\n",
      "     -----------------------------------  172.3/172.4 MB 108.8 MB/s eta 0:00:01\n",
      "     -----------------------------------  172.3/172.4 MB 108.8 MB/s eta 0:00:01\n",
      "     -----------------------------------  172.3/172.4 MB 108.8 MB/s eta 0:00:01\n",
      "     -----------------------------------  172.3/172.4 MB 108.8 MB/s eta 0:00:01\n",
      "     -----------------------------------  172.3/172.4 MB 108.8 MB/s eta 0:00:01\n",
      "     -----------------------------------  172.3/172.4 MB 108.8 MB/s eta 0:00:01\n",
      "     -----------------------------------  172.3/172.4 MB 108.8 MB/s eta 0:00:01\n",
      "     -----------------------------------  172.3/172.4 MB 108.8 MB/s eta 0:00:01\n",
      "     -----------------------------------  172.3/172.4 MB 108.8 MB/s eta 0:00:01\n",
      "     -----------------------------------  172.3/172.4 MB 108.8 MB/s eta 0:00:01\n",
      "     -----------------------------------  172.3/172.4 MB 108.8 MB/s eta 0:00:01\n",
      "     -----------------------------------  172.3/172.4 MB 108.8 MB/s eta 0:00:01\n",
      "     -----------------------------------  172.3/172.4 MB 108.8 MB/s eta 0:00:01\n",
      "     -----------------------------------  172.3/172.4 MB 108.8 MB/s eta 0:00:01\n",
      "     -----------------------------------  172.3/172.4 MB 108.8 MB/s eta 0:00:01\n",
      "     -----------------------------------  172.3/172.4 MB 108.8 MB/s eta 0:00:01\n",
      "     -----------------------------------  172.3/172.4 MB 108.8 MB/s eta 0:00:01\n",
      "     -----------------------------------  172.3/172.4 MB 108.8 MB/s eta 0:00:01\n",
      "     -----------------------------------  172.3/172.4 MB 108.8 MB/s eta 0:00:01\n",
      "     -----------------------------------  172.3/172.4 MB 108.8 MB/s eta 0:00:01\n",
      "     -----------------------------------  172.3/172.4 MB 108.8 MB/s eta 0:00:01\n",
      "     -----------------------------------  172.3/172.4 MB 108.8 MB/s eta 0:00:01\n",
      "     -----------------------------------  172.3/172.4 MB 108.8 MB/s eta 0:00:01\n",
      "     -----------------------------------  172.3/172.4 MB 108.8 MB/s eta 0:00:01\n",
      "     -----------------------------------  172.3/172.4 MB 108.8 MB/s eta 0:00:01\n",
      "     -------------------------------------- 172.4/172.4 MB 6.5 MB/s eta 0:00:00\n",
      "Collecting filelock (from torch>=1.9.1->kornia)\n",
      "  Obtaining dependency information for filelock from https://files.pythonhosted.org/packages/52/90/45223db4e1df30ff14e8aebf9a1bf0222da2e7b49e53692c968f36817812/filelock-3.12.3-py3-none-any.whl.metadata\n",
      "  Downloading filelock-3.12.3-py3-none-any.whl.metadata (2.7 kB)\n",
      "Requirement already satisfied: typing-extensions in c:\\programdata\\anaconda3\\envs\\hackthons\\lib\\site-packages (from torch>=1.9.1->kornia) (4.7.1)\n",
      "Collecting sympy (from torch>=1.9.1->kornia)\n",
      "  Downloading sympy-1.12-py3-none-any.whl (5.7 MB)\n",
      "     ---------------------------------------- 0.0/5.7 MB ? eta -:--:--\n",
      "     -------------------------------------- - 5.6/5.7 MB 179.7 MB/s eta 0:00:01\n",
      "     ---------------------------------------- 5.7/5.7 MB 73.5 MB/s eta 0:00:00\n",
      "Requirement already satisfied: networkx in c:\\programdata\\anaconda3\\envs\\hackthons\\lib\\site-packages (from torch>=1.9.1->kornia) (3.1)\n",
      "Requirement already satisfied: jinja2 in c:\\programdata\\anaconda3\\envs\\hackthons\\lib\\site-packages (from torch>=1.9.1->kornia) (3.1.2)\n",
      "Requirement already satisfied: MarkupSafe>=2.0 in c:\\programdata\\anaconda3\\envs\\hackthons\\lib\\site-packages (from jinja2->torch>=1.9.1->kornia) (2.1.1)\n",
      "Collecting mpmath>=0.19 (from sympy->torch>=1.9.1->kornia)\n",
      "  Using cached mpmath-1.3.0-py3-none-any.whl (536 kB)\n",
      "Downloading kornia-0.7.0-py2.py3-none-any.whl (705 kB)\n",
      "   ---------------------------------------- 0.0/705.7 kB ? eta -:--:--\n",
      "   --------------------------------------- 705.7/705.7 kB 43.5 MB/s eta 0:00:00\n",
      "Downloading filelock-3.12.3-py3-none-any.whl (11 kB)\n",
      "Installing collected packages: mpmath, sympy, filelock, torch, kornia\n",
      "Successfully installed filelock-3.12.3 kornia-0.7.0 mpmath-1.3.0 sympy-1.12 torch-2.0.1\n"
     ]
    },
    {
     "name": "stderr",
     "output_type": "stream",
     "text": [
      "WARNING: Ignoring invalid distribution -umpy (c:\\programdata\\anaconda3\\envs\\hackthons\\lib\\site-packages)\n",
      "WARNING: Ignoring invalid distribution -umpy (c:\\programdata\\anaconda3\\envs\\hackthons\\lib\\site-packages)\n"
     ]
    },
    {
     "name": "stdout",
     "output_type": "stream",
     "text": [
      "Collecting timm\n",
      "  Obtaining dependency information for timm from https://files.pythonhosted.org/packages/7a/bd/2c56be7a3b5bc71cf85a405246b89d5359f942c9f7fb6db6306d9d056092/timm-0.9.7-py3-none-any.whl.metadata\n",
      "  Downloading timm-0.9.7-py3-none-any.whl.metadata (58 kB)\n",
      "     ---------------------------------------- 0.0/58.8 kB ? eta -:--:--\n",
      "     ---------------------------------------- 58.8/58.8 kB ? eta 0:00:00\n",
      "Requirement already satisfied: torch>=1.7 in c:\\programdata\\anaconda3\\envs\\hackthons\\lib\\site-packages (from timm) (2.0.1)\n",
      "Collecting torchvision (from timm)\n",
      "  Downloading torchvision-0.15.2-cp39-cp39-win_amd64.whl (1.2 MB)\n",
      "     ---------------------------------------- 0.0/1.2 MB ? eta -:--:--\n",
      "     ---------------------------------------- 1.2/1.2 MB 38.2 MB/s eta 0:00:00\n",
      "Requirement already satisfied: pyyaml in c:\\programdata\\anaconda3\\envs\\hackthons\\lib\\site-packages (from timm) (6.0)\n",
      "Collecting huggingface-hub (from timm)\n",
      "  Obtaining dependency information for huggingface-hub from https://files.pythonhosted.org/packages/7f/c4/adcbe9a696c135578cabcbdd7331332daad4d49b7c43688bc2d36b3a47d2/huggingface_hub-0.16.4-py3-none-any.whl.metadata\n",
      "  Downloading huggingface_hub-0.16.4-py3-none-any.whl.metadata (12 kB)\n",
      "Collecting safetensors (from timm)\n",
      "  Obtaining dependency information for safetensors from https://files.pythonhosted.org/packages/d8/c8/74f442188c34f40ae1a7d775ef090ac7451656282871977229d6db52e5ce/safetensors-0.3.3-cp39-cp39-win_amd64.whl.metadata\n",
      "  Downloading safetensors-0.3.3-cp39-cp39-win_amd64.whl.metadata (4.8 kB)\n",
      "Requirement already satisfied: filelock in c:\\programdata\\anaconda3\\envs\\hackthons\\lib\\site-packages (from torch>=1.7->timm) (3.12.3)\n",
      "Requirement already satisfied: typing-extensions in c:\\programdata\\anaconda3\\envs\\hackthons\\lib\\site-packages (from torch>=1.7->timm) (4.7.1)\n",
      "Requirement already satisfied: sympy in c:\\programdata\\anaconda3\\envs\\hackthons\\lib\\site-packages (from torch>=1.7->timm) (1.12)\n",
      "Requirement already satisfied: networkx in c:\\programdata\\anaconda3\\envs\\hackthons\\lib\\site-packages (from torch>=1.7->timm) (3.1)\n",
      "Requirement already satisfied: jinja2 in c:\\programdata\\anaconda3\\envs\\hackthons\\lib\\site-packages (from torch>=1.7->timm) (3.1.2)\n",
      "Collecting fsspec (from huggingface-hub->timm)\n",
      "  Obtaining dependency information for fsspec from https://files.pythonhosted.org/packages/3a/9f/b40e8e5be886143379000af5fc0c675352d59e82fd869d24bf784161dc77/fsspec-2023.9.0-py3-none-any.whl.metadata\n",
      "  Downloading fsspec-2023.9.0-py3-none-any.whl.metadata (6.7 kB)\n",
      "Requirement already satisfied: requests in c:\\programdata\\anaconda3\\envs\\hackthons\\lib\\site-packages (from huggingface-hub->timm) (2.29.0)\n",
      "Requirement already satisfied: tqdm>=4.42.1 in c:\\programdata\\anaconda3\\envs\\hackthons\\lib\\site-packages (from huggingface-hub->timm) (4.65.0)\n",
      "Requirement already satisfied: packaging>=20.9 in c:\\programdata\\anaconda3\\envs\\hackthons\\lib\\site-packages (from huggingface-hub->timm) (23.0)\n",
      "Requirement already satisfied: numpy in c:\\programdata\\anaconda3\\envs\\hackthons\\lib\\site-packages (from torchvision->timm) (1.23.5)\n",
      "Requirement already satisfied: pillow!=8.3.*,>=5.3.0 in c:\\programdata\\anaconda3\\envs\\hackthons\\lib\\site-packages (from torchvision->timm) (10.0.0)\n",
      "Requirement already satisfied: colorama in c:\\programdata\\anaconda3\\envs\\hackthons\\lib\\site-packages (from tqdm>=4.42.1->huggingface-hub->timm) (0.4.6)\n",
      "Requirement already satisfied: MarkupSafe>=2.0 in c:\\programdata\\anaconda3\\envs\\hackthons\\lib\\site-packages (from jinja2->torch>=1.7->timm) (2.1.1)\n",
      "Requirement already satisfied: charset-normalizer<4,>=2 in c:\\programdata\\anaconda3\\envs\\hackthons\\lib\\site-packages (from requests->huggingface-hub->timm) (2.0.4)\n",
      "Requirement already satisfied: idna<4,>=2.5 in c:\\programdata\\anaconda3\\envs\\hackthons\\lib\\site-packages (from requests->huggingface-hub->timm) (3.4)\n",
      "Requirement already satisfied: urllib3<1.27,>=1.21.1 in c:\\programdata\\anaconda3\\envs\\hackthons\\lib\\site-packages (from requests->huggingface-hub->timm) (1.26.16)\n",
      "Requirement already satisfied: certifi>=2017.4.17 in c:\\programdata\\anaconda3\\envs\\hackthons\\lib\\site-packages (from requests->huggingface-hub->timm) (2023.7.22)\n",
      "Requirement already satisfied: mpmath>=0.19 in c:\\programdata\\anaconda3\\envs\\hackthons\\lib\\site-packages (from sympy->torch>=1.7->timm) (1.3.0)\n",
      "Downloading timm-0.9.7-py3-none-any.whl (2.2 MB)\n",
      "   ---------------------------------------- 0.0/2.2 MB ? eta -:--:--\n",
      "   ---------------------------------------  2.2/2.2 MB 138.2 MB/s eta 0:00:01\n",
      "   ---------------------------------------- 2.2/2.2 MB 47.1 MB/s eta 0:00:00\n",
      "Downloading huggingface_hub-0.16.4-py3-none-any.whl (268 kB)\n",
      "   ---------------------------------------- 0.0/268.8 kB ? eta -:--:--\n",
      "   --------------------------------------- 268.8/268.8 kB 16.2 MB/s eta 0:00:00\n",
      "Downloading safetensors-0.3.3-cp39-cp39-win_amd64.whl (266 kB)\n",
      "   ---------------------------------------- 0.0/266.4 kB ? eta -:--:--\n",
      "   --------------------------------------- 266.4/266.4 kB 16.0 MB/s eta 0:00:00\n",
      "Downloading fsspec-2023.9.0-py3-none-any.whl (173 kB)\n",
      "   ---------------------------------------- 0.0/173.2 kB ? eta -:--:--\n",
      "   ---------------------------------------- 173.2/173.2 kB ? eta 0:00:00\n",
      "Installing collected packages: safetensors, fsspec, huggingface-hub, torchvision, timm\n",
      "Successfully installed fsspec-2023.9.0 huggingface-hub-0.16.4 safetensors-0.3.3 timm-0.9.7 torchvision-0.15.2\n"
     ]
    },
    {
     "name": "stderr",
     "output_type": "stream",
     "text": [
      "WARNING: Ignoring invalid distribution -umpy (c:\\programdata\\anaconda3\\envs\\hackthons\\lib\\site-packages)\n",
      "WARNING: Ignoring invalid distribution -umpy (c:\\programdata\\anaconda3\\envs\\hackthons\\lib\\site-packages)\n"
     ]
    },
    {
     "name": "stdout",
     "output_type": "stream",
     "text": [
      "Requirement already satisfied: pyvis in c:\\programdata\\anaconda3\\envs\\hackthons\\lib\\site-packages (0.3.2)"
     ]
    },
    {
     "name": "stderr",
     "output_type": "stream",
     "text": [
      "WARNING: Ignoring invalid distribution -umpy (c:\\programdata\\anaconda3\\envs\\hackthons\\lib\\site-packages)\n",
      "WARNING: Ignoring invalid distribution -umpy (c:\\programdata\\anaconda3\\envs\\hackthons\\lib\\site-packages)\n"
     ]
    },
    {
     "name": "stdout",
     "output_type": "stream",
     "text": [
      "\n",
      "Requirement already satisfied: ipython>=5.3.0 in c:\\programdata\\anaconda3\\envs\\hackthons\\lib\\site-packages (from pyvis) (8.12.0)\n",
      "Requirement already satisfied: jinja2>=2.9.6 in c:\\programdata\\anaconda3\\envs\\hackthons\\lib\\site-packages (from pyvis) (3.1.2)\n",
      "Requirement already satisfied: jsonpickle>=1.4.1 in c:\\programdata\\anaconda3\\envs\\hackthons\\lib\\site-packages (from pyvis) (3.0.2)\n",
      "Requirement already satisfied: networkx>=1.11 in c:\\programdata\\anaconda3\\envs\\hackthons\\lib\\site-packages (from pyvis) (3.1)\n",
      "Requirement already satisfied: backcall in c:\\programdata\\anaconda3\\envs\\hackthons\\lib\\site-packages (from ipython>=5.3.0->pyvis) (0.2.0)\n",
      "Requirement already satisfied: decorator in c:\\programdata\\anaconda3\\envs\\hackthons\\lib\\site-packages (from ipython>=5.3.0->pyvis) (5.1.1)\n",
      "Requirement already satisfied: jedi>=0.16 in c:\\programdata\\anaconda3\\envs\\hackthons\\lib\\site-packages (from ipython>=5.3.0->pyvis) (0.18.1)\n",
      "Requirement already satisfied: matplotlib-inline in c:\\programdata\\anaconda3\\envs\\hackthons\\lib\\site-packages (from ipython>=5.3.0->pyvis) (0.1.6)\n",
      "Requirement already satisfied: pickleshare in c:\\programdata\\anaconda3\\envs\\hackthons\\lib\\site-packages (from ipython>=5.3.0->pyvis) (0.7.5)\n",
      "Requirement already satisfied: prompt-toolkit!=3.0.37,<3.1.0,>=3.0.30 in c:\\programdata\\anaconda3\\envs\\hackthons\\lib\\site-packages (from ipython>=5.3.0->pyvis) (3.0.36)\n",
      "Requirement already satisfied: pygments>=2.4.0 in c:\\programdata\\anaconda3\\envs\\hackthons\\lib\\site-packages (from ipython>=5.3.0->pyvis) (2.15.1)\n",
      "Requirement already satisfied: stack-data in c:\\programdata\\anaconda3\\envs\\hackthons\\lib\\site-packages (from ipython>=5.3.0->pyvis) (0.2.0)\n",
      "Requirement already satisfied: traitlets>=5 in c:\\programdata\\anaconda3\\envs\\hackthons\\lib\\site-packages (from ipython>=5.3.0->pyvis) (5.7.1)\n",
      "Requirement already satisfied: typing-extensions in c:\\programdata\\anaconda3\\envs\\hackthons\\lib\\site-packages (from ipython>=5.3.0->pyvis) (4.7.1)\n",
      "Requirement already satisfied: colorama in c:\\programdata\\anaconda3\\envs\\hackthons\\lib\\site-packages (from ipython>=5.3.0->pyvis) (0.4.6)\n",
      "Requirement already satisfied: MarkupSafe>=2.0 in c:\\programdata\\anaconda3\\envs\\hackthons\\lib\\site-packages (from jinja2>=2.9.6->pyvis) (2.1.1)\n",
      "Requirement already satisfied: parso<0.9.0,>=0.8.0 in c:\\programdata\\anaconda3\\envs\\hackthons\\lib\\site-packages (from jedi>=0.16->ipython>=5.3.0->pyvis) (0.8.3)\n",
      "Requirement already satisfied: wcwidth in c:\\programdata\\anaconda3\\envs\\hackthons\\lib\\site-packages (from prompt-toolkit!=3.0.37,<3.1.0,>=3.0.30->ipython>=5.3.0->pyvis) (0.2.5)\n",
      "Requirement already satisfied: executing in c:\\programdata\\anaconda3\\envs\\hackthons\\lib\\site-packages (from stack-data->ipython>=5.3.0->pyvis) (0.8.3)\n",
      "Requirement already satisfied: asttokens in c:\\programdata\\anaconda3\\envs\\hackthons\\lib\\site-packages (from stack-data->ipython>=5.3.0->pyvis) (2.0.5)\n",
      "Requirement already satisfied: pure-eval in c:\\programdata\\anaconda3\\envs\\hackthons\\lib\\site-packages (from stack-data->ipython>=5.3.0->pyvis) (0.2.2)\n",
      "Requirement already satisfied: six in c:\\programdata\\anaconda3\\envs\\hackthons\\lib\\site-packages (from asttokens->stack-data->ipython>=5.3.0->pyvis) (1.16.0)\n"
     ]
    }
   ],
   "source": [
    "# install dependencies\n",
    "!pip install ivy\n",
    "!pip install dm-haiku\n",
    "!pip install kornia\n",
    "!pip install timm\n",
    "!pip install pyvis\n",
    "exit()"
   ],
   "metadata": {
    "collapsed": false,
    "ExecuteTime": {
     "end_time": "2023-09-08T11:13:43.690250100Z",
     "start_time": "2023-09-08T11:12:42.685290600Z"
    }
   }
  },
  {
   "cell_type": "code",
   "execution_count": null,
   "outputs": [],
   "source": [
    "# import ivy\n",
    "import ivy\n"
   ],
   "metadata": {
    "collapsed": false
   }
  },
  {
   "cell_type": "code",
   "execution_count": null,
   "outputs": [],
   "source": [
    "# set the backend to ivy\n",
    "ivy.set_framework('torch')"
   ],
   "metadata": {
    "collapsed": false
   }
  },
  {
   "cell_type": "code",
   "execution_count": null,
   "outputs": [],
   "source": [
    "# investigate ivy's array types\n",
    "x = ivy.array([1, 2, 3])\n",
    "print(type(x))\n",
    "\n",
    "x = ivy.native_array([1, 2, 3])\n",
    "print(type(x))"
   ],
   "metadata": {
    "collapsed": false
   }
  },
  {
   "cell_type": "code",
   "execution_count": null,
   "outputs": [],
   "source": [
    "# investigate ivy's functional api\n",
    "ivy.set_backend(\"jax\")\n",
    "x1, x2 = ivy.array([[1], [2], [3]]), ivy.array([[1, 2, 3]])\n",
    "output = ivy.matmul(x1, x2)\n",
    "print(type(output.to_native()))\n",
    "\n",
    "ivy.set_backend(\"tensorflow\")\n",
    "x1, x2 = ivy.array([[1], [2], [3]]), ivy.array([[1, 2, 3]])\n",
    "output = ivy.matmul(x1, x2)\n",
    "print(type(output.to_native()))\n",
    "\n",
    "ivy.set_backend(\"torch\")\n",
    "x1, x2 = ivy.array([[1], [2], [3]]), ivy.array([[1, 2, 3]])\n",
    "output = ivy.matmul(x1, x2)\n",
    "print(type(output.to_native()))"
   ],
   "metadata": {
    "collapsed": false
   }
  }
 ],
 "metadata": {
  "kernelspec": {
   "display_name": "Python 3",
   "language": "python",
   "name": "python3"
  },
  "language_info": {
   "codemirror_mode": {
    "name": "ipython",
    "version": 2
   },
   "file_extension": ".py",
   "mimetype": "text/x-python",
   "name": "python",
   "nbconvert_exporter": "python",
   "pygments_lexer": "ipython2",
   "version": "2.7.6"
  }
 },
 "nbformat": 4,
 "nbformat_minor": 0
}
