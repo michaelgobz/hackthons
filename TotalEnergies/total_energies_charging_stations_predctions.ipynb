{
 "cells": [
  {
   "cell_type": "markdown",
   "source": [
    "# Description\n",
    "TotalEnergies Uganda welcomes you to the TotalEnergies rEVolution Hackathon, implemented by Outbox Uganda, to deliver optimal locations of EV charging points in Kampala considering several constraints like traffic, optimum coverage and population density and usage.\n",
    "\n",
    "The lack of optimal locations for electric vehicle (EV) charging points in Kampala presents a significant challenge for the adoption and usage of electric vehicles. Factors such as traffic congestion, optimum coverage, population density, and usage patterns need to be considered to ensure the effective implementation of EV charging infrastructure. Therefore, there is a need to address this problem by identifying and delivering the most suitable locations for EV charging points in Kampala.\n",
    "\n",
    "The primary objective of the hackathon is to develop innovative solutions that can identify the optimal locations for EV charging points in Kampala. Participants will be encouraged to leverage data analytics, machine learning, and other relevant technologies to analyse various constraints, such as traffic patterns, coverage requirements, population density, and EV usage.\n",
    "\n",
    "Another key objective of the hackathon is to create solutions that can be seamlessly integrated into Total Energies' mobility mandate. The proposed solutions should be scalable, ensuring that the identified optimal charging point locations can be implemented effectively and expanded across the city as the demand for EVs grows.\n",
    "\n",
    "The hackathon aims to foster collaboration and innovation by bringing together diverse participants, including software developers, data analysts, urban planners, and mobility experts. The objective is to encourage interdisciplinary thinking and the exchange of ideas to address the challenges associated with EV charging infrastructure in Kampala."
   ],
   "metadata": {
    "collapsed": false
   },
   "id": "65bf6efac7c12ec7"
  },
  {
   "cell_type": "markdown",
   "source": [
    "# Data\n",
    "The data for this hackathon is spatial in nature of the transportation entities in Kampala. The data is available in the following formats:\n",
    "- shapefile\n",
    "- geojson\n",
    "- dbf\n"
   ],
   "metadata": {
    "collapsed": false
   },
   "id": "d1f18641dc463bcd"
  },
  {
   "cell_type": "markdown",
   "source": [
    "# Objective\n",
    "The primary objective of the hackathon is to develop innovative solutions that can identify the optimal locations for EV charging points in Kampala."
   ],
   "metadata": {
    "collapsed": false
   },
   "id": "a46e1d70e23b92c9"
  },
  {
   "cell_type": "markdown",
   "source": [
    "# Requirements\n",
    "- Python 3.6+\n",
    "- Jupyter Notebook\n",
    "- Pandas\n",
    "- Geopandas\n",
    "- Matplotlib\n",
    "- Numpy\n",
    "- Scipy\n",
    "- Shapely\n",
    "- geocoder\n",
    "- geoplot\n",
    "- geoviews\n",
    "- hvplot"
   ],
   "metadata": {
    "collapsed": false
   },
   "id": "497d3fe0ce5013a0"
  },
  {
   "cell_type": "markdown",
   "source": [
    "# Table of Contents\n",
    "- [Description](#Description)\n",
    "- [Data](#Data)\n",
    "- [Objective](#Objective)\n",
    "- [Requirements](#Requirements)\n",
    "- [Table of Contents](#Table-of-Contents)\n",
    "- [Setup Environment](#Setup-Environment)\n",
    "- [Data Exploration](#Data-Exploration)\n",
    "- [Data Cleaning](#Data-Cleaning)\n",
    "- [Data Visualization](#Data-Visualization)\n",
    "- [Data Analysis](#Data-Analysis)\n",
    "- [Data Modeling](#Data-Modeling)\n",
    "- [Data Evaluation](#Data-Evaluation)\n",
    "- [Data Submission](#Data-Submission)\n",
    "- [References](#References)\n",
    "- [Conclusion](#Conclusion)\n",
    "- [Author](#Author)\n",
    "- [License](#License)\n",
    "- [Acknowledgements](#Acknowledgements)\n",
    "- [Appendix](#Appendix)"
   ],
   "metadata": {
    "collapsed": false
   },
   "id": "b06db6fcff628f8c"
  },
  {
   "cell_type": "markdown",
   "source": [
    "# Setup Environment\n"
   ],
   "metadata": {
    "collapsed": false
   },
   "id": "f66f6d253761fcd5"
  },
  {
   "cell_type": "markdown",
   "source": [
    "# Data Exploration"
   ],
   "metadata": {
    "collapsed": false
   },
   "id": "b82cfa376eea625c"
  },
  {
   "cell_type": "markdown",
   "source": [
    "# Data Cleaning "
   ],
   "metadata": {
    "collapsed": false
   },
   "id": "5adf582b8554654c"
  },
  {
   "cell_type": "markdown",
   "source": [
    "# Data Visualization"
   ],
   "metadata": {
    "collapsed": false
   },
   "id": "efabc83fc6d4350c"
  },
  {
   "cell_type": "markdown",
   "source": [
    "# Data Analysis"
   ],
   "metadata": {
    "collapsed": false
   },
   "id": "ae66114c907890a8"
  },
  {
   "cell_type": "markdown",
   "source": [
    "# Data Modeling"
   ],
   "metadata": {
    "collapsed": false
   },
   "id": "a987b3b1fb1645fe"
  },
  {
   "cell_type": "markdown",
   "source": [
    "# Data Evaluation"
   ],
   "metadata": {
    "collapsed": false
   },
   "id": "7f23b2e065f28ca4"
  },
  {
   "cell_type": "markdown",
   "source": [
    "# Data Submission"
   ],
   "metadata": {
    "collapsed": false
   },
   "id": "2c4c4d2df9bbb7be"
  },
  {
   "cell_type": "markdown",
   "source": [
    "# References"
   ],
   "metadata": {
    "collapsed": false
   },
   "id": "fe6932f9fc989456"
  },
  {
   "cell_type": "markdown",
   "source": [
    "# Conclusion"
   ],
   "metadata": {
    "collapsed": false
   },
   "id": "fd7567999e8a5e2f"
  },
  {
   "cell_type": "markdown",
   "source": [
    "# Author"
   ],
   "metadata": {
    "collapsed": false
   },
   "id": "c4bde994e40aa733"
  },
  {
   "cell_type": "markdown",
   "source": [
    "# License"
   ],
   "metadata": {
    "collapsed": false
   },
   "id": "9dc870f8eaffcda6"
  },
  {
   "cell_type": "markdown",
   "source": [
    "# Acknowledgements"
   ],
   "metadata": {
    "collapsed": false
   },
   "id": "85cb20a275c8734e"
  },
  {
   "cell_type": "markdown",
   "source": [
    "# Appendix"
   ],
   "metadata": {
    "collapsed": false
   },
   "id": "6bd2efd493862492"
  }
 ],
 "metadata": {
  "kernelspec": {
   "display_name": "Python 3",
   "language": "python",
   "name": "python3"
  },
  "language_info": {
   "codemirror_mode": {
    "name": "ipython",
    "version": 2
   },
   "file_extension": ".py",
   "mimetype": "text/x-python",
   "name": "python",
   "nbconvert_exporter": "python",
   "pygments_lexer": "ipython2",
   "version": "2.7.6"
  }
 },
 "nbformat": 4,
 "nbformat_minor": 5
}
