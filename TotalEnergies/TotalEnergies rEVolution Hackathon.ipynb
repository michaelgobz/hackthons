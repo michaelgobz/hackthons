{
 "cells": [
  {
   "cell_type": "markdown",
   "metadata": {
    "id": "NTVWEj8udYap"
   },
   "source": [
    "<h2><center> Welcome to the TotalEnergies rEVolution Hackathon</h2></center>\n",
    "<figure>\n",
    "<!--<img src =\"https://drive.google.com/uc?export=view&id=1hSOAfRhJ_jo-MZAjq81VYJu5bZNL7EjD\" width = \"800\" height = '500'/> -->\n",
    "\n",
    "***Pelogue***\n",
    ">TotalEnergies Uganda welcomes you to the TotalEnergies rEVolution Hackathon, implemented by Outbox Uganda, to deliver optimal locations of EV charging points in Kampala considering several constraints like traffic, optimum coverage and population density and usage.\n",
    "\n",
    "> This challenge serves as a qualification for the grand challenge NB: This challenge serves as a qualifier to be selected for the [TotalEnergies rEVolution Hackathon ($10 000 in prizes)](https://zindi.africa/competitions/total-energies-revolution-hackathon-finals) to be hosted virtually on 18-20 September 2023. To qualify for the hackathon, you need to be in a team of 4 members and make a submission to this challenge.\n",
    "\n",
    "***About the problem***\n",
    ">TotalEnergies Uganda welcomes you to the TotalEnergies rEVolution Hackathon, implemented by Outbox Uganda, to deliver optimal locations of EV charging points in Kampala considering several constraints like traffic, optimum coverage and population density and usage.\n",
    "\n",
    ">The lack of optimal locations for electric vehicle (EV) charging points in Kampala presents a significant challenge for the adoption and usage of electric vehicles. Factors such as traffic congestion, optimum coverage, population density, and usage patterns need to be considered to ensure the effective implementation of EV charging infrastructure. Therefore, there is a need to address this problem by identifying and delivering the most suitable locations for EV charging points in Kampala.\n",
    "\n",
    ">Nairobi is one of the most heavily congested cities in Africa. Each day thousands of Kenyans make the trip into Nairobi from towns such as Kisii, Keroka, and beyond for work, business, or to visit friends and family. The journey can be long, and the final approach into the city can impact the length of the trip significantly depending on traffic. How do traffic patterns influence people's decisions to come into the city by bus and which bus to take? Does knowing the traffic patterns in Nairobi help anticipate the demand for particular routes at particular times?\n",
    "\n",
    "***Objective of this challenge***\n",
    "> The primary objective of the hackathon is to develop innovative solutions that can identify the optimal locations for EV charging points in Kampala. Participants will be encouraged to leverage data analytics, machine learning, and other relevant technologies to analyse various constraints, such as traffic patterns, coverage requirements, population density, and EV usage.\n",
    "\n",
    ">The aim of the competition is to create a predictive model using traffic data provided from Uber Movement and historic bus ticket sales data from Mobiticket to predict the number of tickets that will be sold for buses into Nairobi from cities in \"up country\" Kenya.\n",
    "\n",
    "***About the Data***\n",
    ">The data used to train the model will be historic hourly traffic patterns in Nairobi and historic ticket purchasing data for 14 bus routes into Nairobi from October 2017 to April 2018, and includes the place or origin, the scheduled time of departure, the channel used for the purchase, the type of vehicle, the capacity of the vehicle, and the assigned seat number. Zindi competitors will be allowed to create their own customized traffic datasets using the Uber Movement platform.\n",
    "\n",
    "***Evaluation metric***\n",
    "> The Mean Absolute Error will be used to evaluate accuracy of the submitted solutions. So the lower the score the better!\n",
    "\n",
    "***Relevance of the Challenge***\n",
    ">This resulting model can be used to anticipate customer demand for certain rides, to manage resources and vehicles more efficiently, to offer promotions and sell other services more effectively, such as micro-insurance, or even improve customer service by being able to send alerts and other useful information to customers\n",
    "\n",
    ">The solutions to this challenge are the first step towards solving Nairobi's traffic problems. We look forward to taking this journey with you!"
   ]
  },
  {
   "cell_type": "markdown",
   "metadata": {
    "id": "uR-kEZqTdYay"
   },
   "source": [
    "# Contents"
   ]
  },
  {
   "cell_type": "markdown",
   "metadata": {
    "id": "dseqR791dYay"
   },
   "source": [
    "# install libraries"
   ]
  },
  {
   "cell_type": "code",
   "execution_count": 5,
   "metadata": {
    "id": "gzFAUWD_dYaz",
    "ExecuteTime": {
     "end_time": "2023-07-26T11:49:29.038316500Z",
     "start_time": "2023-07-26T11:48:33.923718700Z"
    }
   },
   "outputs": [],
   "source": [
    "%%capture\n",
    "!pip install watermark\n",
    "!pip install pandas-profiling\n",
    "!pip install pandas\n",
    "!pip install numpy\n",
    "!pip install matplotlib\n",
    "!pip install seaborn\n",
    "!pip install scikit-learn\n",
    "!pip install xgboost\n",
    "!pip install lightgbm\n",
    "!pip install missingno\n",
    "!pip install tqdm"
   ]
  },
  {
   "cell_type": "markdown",
   "metadata": {
    "id": "a_mcs-wedYa1"
   },
   "source": [
    "# Import libraries"
   ]
  },
  {
   "cell_type": "code",
   "execution_count": 7,
   "metadata": {
    "executionInfo": {
     "elapsed": 196,
     "status": "ok",
     "timestamp": 1690370799109,
     "user": {
      "displayName": "Michael Goboola",
      "userId": "04865625352698102762"
     },
     "user_tz": 0
    },
    "id": "sbCDKb7MdYa2",
    "ExecuteTime": {
     "end_time": "2023-07-26T11:52:06.701218100Z",
     "start_time": "2023-07-26T11:52:06.691203Z"
    }
   },
   "outputs": [],
   "source": [
    "import pandas as pd\n",
    "import numpy as np\n",
    "import os\n",
    "import random\n",
    "from sklearn.ensemble import RandomForestRegressor\n",
    "from sklearn.metrics import mean_absolute_error"
   ]
  },
  {
   "cell_type": "markdown",
   "metadata": {
    "id": "EDps712P8d8t"
   },
   "source": [
    "### seed"
   ]
  },
  {
   "cell_type": "code",
   "execution_count": 8,
   "metadata": {
    "executionInfo": {
     "elapsed": 206,
     "status": "ok",
     "timestamp": 1690370801694,
     "user": {
      "displayName": "Michael Goboola",
      "userId": "04865625352698102762"
     },
     "user_tz": 0
    },
    "id": "8PXDMjWD8jkE",
    "ExecuteTime": {
     "end_time": "2023-07-26T11:52:10.449215400Z",
     "start_time": "2023-07-26T11:52:10.439243400Z"
    }
   },
   "outputs": [],
   "source": [
    "# Set seed for reproducibility\n",
    "SEED = 2023\n",
    "random.seed(SEED)\n",
    "np.random.seed(SEED)"
   ]
  },
  {
   "cell_type": "markdown",
   "metadata": {
    "id": "oa89jYrKdYa3"
   },
   "source": [
    "### Load data"
   ]
  },
  {
   "cell_type": "code",
   "execution_count": null,
   "metadata": {
    "colab": {
     "base_uri": "https://localhost:8080/",
     "height": 206
    },
    "executionInfo": {
     "elapsed": 230,
     "status": "ok",
     "timestamp": 1690371382538,
     "user": {
      "displayName": "Michael Goboola",
      "userId": "04865625352698102762"
     },
     "user_tz": 0
    },
    "id": "cyI0vPw2dYa6",
    "outputId": "fcff402f-fe7b-46cf-d127-c8bfe516a91f"
   },
   "outputs": [],
   "source": [
    "# Load files\n",
    "train_1 = pd.read_csv(os.path.join('../TotalEnergies/data/Train.csv'))\n",
    "test_1 = pd.read_csv(os.path.join('../TotalEnergies/data/Test.csv'))\n",
    "test = pd.read_csv('../TotalEnergies/data/Test.csv', parse_dates=['travel_date'], dayfirst=True).drop(['car_type', 'travel_to'], axis=1)\n",
    "df = pd.read_csv('../TotalEnergies/data/Train.csv', parse_dates=['travel_date'], dayfirst=True)\n",
    "train = df.groupby(['ride_id', 'travel_date', 'travel_time', 'travel_from', 'max_capacity']).size().reset_index(name='Count') #sort=False if needed?\n",
    "\n",
    "submission = pd.read_csv(os.path.join('../TotalEnergies/submissions/SampleSubmission.csv'))\n",
    "\n",
    "# Preview train dataset\n",
    "submission.head()"
   ]
  },
  {
   "cell_type": "markdown",
   "metadata": {
    "id": "bx4J2YbwdYa7"
   },
   "source": [
    "### Exploratory Data Analysis"
   ]
  },
  {
   "cell_type": "markdown",
   "metadata": {
    "id": "zbqOzyCadYa7"
   },
   "source": [
    "### Data Description"
   ]
  },
  {
   "cell_type": "code",
   "execution_count": 17,
   "metadata": {
    "id": "0vN1LSTmdYa8",
    "ExecuteTime": {
     "end_time": "2023-07-26T11:58:37.986034Z",
     "start_time": "2023-07-26T11:58:37.975018500Z"
    }
   },
   "outputs": [
    {
     "name": "stdout",
     "output_type": "stream",
     "text": [
      "Train shape:  (51645, 10)\n",
      "Test shape:  (889, 7)\n",
      "Submission shape:  (889, 2)\n"
     ]
    }
   ],
   "source": [
    "# check the shape of the data\n",
    "print(\"Train shape: \", train.shape)\n",
    "print(\"Test shape: \", test.shape)\n",
    "print(\"Submission shape: \", submission.shape)"
   ]
  },
  {
   "cell_type": "markdown",
   "metadata": {
    "id": "EWoAoOucdYa-"
   },
   "source": [
    "# Data Cleaning"
   ]
  },
  {
   "cell_type": "code",
   "execution_count": null,
   "metadata": {
    "id": "Ejv5Fg-KdYa_"
   },
   "outputs": [],
   "source": [
    "\n",
    "test[\"travel_time\"] = test[\"travel_time\"].str.split(':').apply(lambda x: int(x[0]) * 60 + int(x[1]))\n",
    "test['day'] = test['travel_date'].dt.dayofweek"
   ]
  },
  {
   "cell_type": "code",
   "execution_count": null,
   "metadata": {
    "id": "U_b7BvUWdYa_"
   },
   "outputs": [],
   "source": [
    "train['t'] = 0\n",
    "test['t'] = 1"
   ]
  },
  {
   "cell_type": "code",
   "execution_count": null,
   "metadata": {
    "id": "w7h3qaaGdYa_"
   },
   "outputs": [],
   "source": [
    "X = pd.concat([train, test], sort=False)"
   ]
  },
  {
   "cell_type": "code",
   "execution_count": null,
   "metadata": {
    "id": "q-GEmcbndYa_"
   },
   "outputs": [],
   "source": [
    "Xd = pd.get_dummies(X, columns=['travel_from', 'day'])"
   ]
  },
  {
   "cell_type": "code",
   "execution_count": null,
   "metadata": {
    "id": "ztfkWImldYbA"
   },
   "outputs": [],
   "source": [
    "Xd.head()"
   ]
  },
  {
   "cell_type": "code",
   "execution_count": null,
   "metadata": {
    "id": "HQ7IZ7xfdYbA"
   },
   "outputs": [],
   "source": [
    "# Time in minutes\n",
    "train[\"travel_time\"] = train[\"travel_time\"].str.split(':').apply(lambda x: int(x[0]) * 60 + int(x[1]))"
   ]
  },
  {
   "cell_type": "code",
   "execution_count": null,
   "outputs": [],
   "source": [
    "train['day'] = train['travel_date'].dt.dayofweek"
   ],
   "metadata": {
    "collapsed": false
   }
  },
  {
   "cell_type": "markdown",
   "metadata": {
    "id": "fIafv3ordYbG"
   },
   "source": [
    "# Modeling"
   ]
  },
  {
   "cell_type": "code",
   "execution_count": null,
   "outputs": [],
   "source": [
    "X_train = Xd.loc[Xd['t'] == 0].drop(['Count', 'ride_id', 'travel_date'], axis=1)\n",
    "y_train = Xd.loc[Xd['t'] == 0]['Count']\n",
    "regr = RandomForestRegressor(n_estimators=500, criterion=\"absolute_error\", max_depth=10, n_jobs=-1)\n",
    "regr.fit(X_train, y_train)"
   ],
   "metadata": {
    "collapsed": false
   }
  },
  {
   "cell_type": "code",
   "execution_count": null,
   "outputs": [],
   "source": [
    "print(mean_absolute_error(regr.predict(X_train), y_train))"
   ],
   "metadata": {
    "collapsed": false
   }
  },
  {
   "cell_type": "markdown",
   "metadata": {
    "id": "JOXC1hSkdYbj"
   },
   "source": [
    "# Model Evaluation"
   ]
  },
  {
   "cell_type": "code",
   "execution_count": null,
   "outputs": [],
   "source": [
    "X_test = Xd.loc[Xd['t'] == 1].drop(['Count', 'ride_id', 'travel_date'], axis=1)\n",
    "pred = regr.predict(X_test)"
   ],
   "metadata": {
    "collapsed": false
   }
  },
  {
   "cell_type": "markdown",
   "metadata": {
    "id": "FwkcTS7xdYbj"
   },
   "source": [
    "\n",
    "# Create Solution"
   ]
  },
  {
   "cell_type": "code",
   "execution_count": null,
   "outputs": [],
   "source": [
    "submission['number_of_ticket'][5:] = pred[5:]\n",
    "submission.head(10)"
   ],
   "metadata": {
    "collapsed": false
   }
  },
  {
   "cell_type": "markdown",
   "metadata": {
    "id": "0B2H2pm1dYbk"
   },
   "source": [
    "# Create Submission File"
   ]
  },
  {
   "cell_type": "code",
   "execution_count": 21,
   "metadata": {
    "id": "tYG1c9HidYbk",
    "ExecuteTime": {
     "end_time": "2023-07-26T12:02:58.653684200Z",
     "start_time": "2023-07-26T12:02:58.644685Z"
    }
   },
   "outputs": [],
   "source": [
    "submission.to_csv('number_of_ticket.csv', index=False)"
   ]
  },
  {
   "cell_type": "markdown",
   "metadata": {
    "id": "_t6ZUzBYdYbl"
   },
   "source": [
    "# References"
   ]
  }
 ],
 "metadata": {
  "colab": {
   "provenance": [
    {
     "file_id": "https://github.com/michaelgobz/hackthons/blob/main/colab/TotalEnergies/TotalEnergies%20rEVolution%20Hackathon.ipynb",
     "timestamp": 1690312798060
    }
   ]
  },
  "kernelspec": {
   "display_name": "Python 3 (ipykernel)",
   "language": "python",
   "name": "python3"
  },
  "language_info": {
   "codemirror_mode": {
    "name": "ipython",
    "version": 3
   },
   "file_extension": ".py",
   "mimetype": "text/x-python",
   "name": "python",
   "nbconvert_exporter": "python",
   "pygments_lexer": "ipython3",
   "version": "3.9.17"
  }
 },
 "nbformat": 4,
 "nbformat_minor": 1
}
