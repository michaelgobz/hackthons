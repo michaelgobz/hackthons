{
 "cells": [
  {
   "cell_type": "code",
   "execution_count": 1,
   "outputs": [
    {
     "name": "stdout",
     "output_type": "stream",
     "text": [
      "Collecting catboost\n",
      "  Downloading catboost-1.2-cp311-cp311-win_amd64.whl (101.0 MB)\n",
      "     ---------------------------------------- 0.0/101.0 MB ? eta -:--:--\n",
      "     - ------------------------------------ 3.7/101.0 MB 114.9 MB/s eta 0:00:01\n",
      "     --- ---------------------------------- 9.2/101.0 MB 116.1 MB/s eta 0:00:01\n",
      "     ----- ------------------------------- 16.0/101.0 MB 131.2 MB/s eta 0:00:01\n",
      "     ------ ------------------------------ 18.9/101.0 MB 110.0 MB/s eta 0:00:01\n",
      "     --------- ---------------------------- 24.6/101.0 MB 93.9 MB/s eta 0:00:01\n",
      "     ----------- ------------------------- 31.3/101.0 MB 131.2 MB/s eta 0:00:01\n",
      "     -------------- ---------------------- 38.5/101.0 MB 162.4 MB/s eta 0:00:01\n",
      "     ---------------- -------------------- 46.1/101.0 MB 131.2 MB/s eta 0:00:01\n",
      "     ------------------ ------------------ 51.8/101.0 MB 131.2 MB/s eta 0:00:01\n",
      "     -------------------- ---------------- 57.3/101.0 MB 108.8 MB/s eta 0:00:01\n",
      "     ----------------------- ------------- 63.4/101.0 MB 131.2 MB/s eta 0:00:01\n",
      "     ------------------------- ----------- 69.7/101.0 MB 131.2 MB/s eta 0:00:01\n",
      "     --------------------------- --------- 75.8/101.0 MB 131.2 MB/s eta 0:00:01\n",
      "     ----------------------------- ------- 81.5/101.0 MB 131.2 MB/s eta 0:00:01\n",
      "     -------------------------------- ---- 88.3/101.0 MB 129.5 MB/s eta 0:00:01\n",
      "     --------------------------------- --- 91.6/101.0 MB 110.0 MB/s eta 0:00:01\n",
      "     ----------------------------------- - 98.0/101.0 MB 110.0 MB/s eta 0:00:01\n",
      "     -----------------------------------  101.0/101.0 MB 108.8 MB/s eta 0:00:01\n",
      "     -----------------------------------  101.0/101.0 MB 108.8 MB/s eta 0:00:01\n",
      "     -----------------------------------  101.0/101.0 MB 108.8 MB/s eta 0:00:01\n",
      "     -----------------------------------  101.0/101.0 MB 108.8 MB/s eta 0:00:01\n",
      "     -----------------------------------  101.0/101.0 MB 108.8 MB/s eta 0:00:01\n",
      "     -----------------------------------  101.0/101.0 MB 108.8 MB/s eta 0:00:01\n",
      "     -----------------------------------  101.0/101.0 MB 108.8 MB/s eta 0:00:01\n",
      "     -----------------------------------  101.0/101.0 MB 108.8 MB/s eta 0:00:01\n",
      "     -----------------------------------  101.0/101.0 MB 108.8 MB/s eta 0:00:01\n",
      "     -----------------------------------  101.0/101.0 MB 108.8 MB/s eta 0:00:01\n",
      "     -----------------------------------  101.0/101.0 MB 108.8 MB/s eta 0:00:01\n",
      "     -----------------------------------  101.0/101.0 MB 108.8 MB/s eta 0:00:01\n",
      "     -----------------------------------  101.0/101.0 MB 108.8 MB/s eta 0:00:01\n",
      "     -----------------------------------  101.0/101.0 MB 108.8 MB/s eta 0:00:01\n",
      "     -----------------------------------  101.0/101.0 MB 108.8 MB/s eta 0:00:01\n",
      "     -----------------------------------  101.0/101.0 MB 108.8 MB/s eta 0:00:01\n",
      "     -----------------------------------  101.0/101.0 MB 108.8 MB/s eta 0:00:01\n",
      "     -----------------------------------  101.0/101.0 MB 108.8 MB/s eta 0:00:01\n",
      "     -----------------------------------  101.0/101.0 MB 108.8 MB/s eta 0:00:01\n",
      "     -----------------------------------  101.0/101.0 MB 108.8 MB/s eta 0:00:01\n",
      "     -----------------------------------  101.0/101.0 MB 108.8 MB/s eta 0:00:01\n",
      "     -----------------------------------  101.0/101.0 MB 108.8 MB/s eta 0:00:01\n",
      "     -----------------------------------  101.0/101.0 MB 108.8 MB/s eta 0:00:01\n",
      "     -------------------------------------- 101.0/101.0 MB 5.5 MB/s eta 0:00:00\n",
      "Collecting graphviz (from catboost)\n",
      "  Using cached graphviz-0.20.1-py3-none-any.whl (47 kB)\n",
      "Collecting matplotlib (from catboost)\n",
      "  Obtaining dependency information for matplotlib from https://files.pythonhosted.org/packages/4d/9c/65830d4a56c47f5283eaa244dc1228c5da9c844a9f999ebcc2e69bf6cc65/matplotlib-3.7.2-cp311-cp311-win_amd64.whl.metadata\n",
      "  Downloading matplotlib-3.7.2-cp311-cp311-win_amd64.whl.metadata (5.8 kB)\n",
      "Collecting numpy>=1.16.0 (from catboost)\n",
      "  Obtaining dependency information for numpy>=1.16.0 from https://files.pythonhosted.org/packages/2f/2a/34fe0b64e78347f4ea128868df0034a97e0f92b476f62947b0976caba820/numpy-1.25.1-cp311-cp311-win_amd64.whl.metadata\n",
      "  Downloading numpy-1.25.1-cp311-cp311-win_amd64.whl.metadata (5.7 kB)\n",
      "Collecting pandas>=0.24 (from catboost)\n",
      "  Obtaining dependency information for pandas>=0.24 from https://files.pythonhosted.org/packages/9e/71/756a1be6bee0209d8c0d8c5e3b9fc72c00373f384a4017095ec404aec3ad/pandas-2.0.3-cp311-cp311-win_amd64.whl.metadata\n",
      "  Downloading pandas-2.0.3-cp311-cp311-win_amd64.whl.metadata (18 kB)\n",
      "Collecting scipy (from catboost)\n",
      "  Obtaining dependency information for scipy from https://files.pythonhosted.org/packages/04/b8/947f40706ee2e316fd1a191688f690c4c2b351c2d043fe9deb9b7940e36e/scipy-1.11.1-cp311-cp311-win_amd64.whl.metadata\n",
      "  Downloading scipy-1.11.1-cp311-cp311-win_amd64.whl.metadata (59 kB)\n",
      "     ---------------------------------------- 0.0/59.1 kB ? eta -:--:--\n",
      "     ---------------------------------------- 59.1/59.1 kB ? eta 0:00:00\n",
      "Collecting plotly (from catboost)\n",
      "  Obtaining dependency information for plotly from https://files.pythonhosted.org/packages/a5/07/5bef9376c975ce23306d9217ab69ca94c07f2a3c90b17c03e3ae4db87170/plotly-5.15.0-py2.py3-none-any.whl.metadata\n",
      "  Using cached plotly-5.15.0-py2.py3-none-any.whl.metadata (7.0 kB)\n",
      "Requirement already satisfied: six in c:\\programdata\\anaconda3\\envs\\hackthons\\lib\\site-packages (from catboost) (1.16.0)\n",
      "Requirement already satisfied: python-dateutil>=2.8.2 in c:\\programdata\\anaconda3\\envs\\hackthons\\lib\\site-packages (from pandas>=0.24->catboost) (2.8.2)\n",
      "Requirement already satisfied: pytz>=2020.1 in c:\\programdata\\anaconda3\\envs\\hackthons\\lib\\site-packages (from pandas>=0.24->catboost) (2022.7)\n",
      "Collecting tzdata>=2022.1 (from pandas>=0.24->catboost)\n",
      "  Downloading tzdata-2023.3-py2.py3-none-any.whl (341 kB)\n",
      "     ---------------------------------------- 0.0/341.8 kB ? eta -:--:--\n",
      "     ------------------------------------- 341.8/341.8 kB 22.1 MB/s eta 0:00:00\n",
      "Collecting contourpy>=1.0.1 (from matplotlib->catboost)\n",
      "  Obtaining dependency information for contourpy>=1.0.1 from https://files.pythonhosted.org/packages/16/09/989b982322439faa4bafffcd669e6f942b38fee897c2664c987bcd091dec/contourpy-1.1.0-cp311-cp311-win_amd64.whl.metadata\n",
      "  Downloading contourpy-1.1.0-cp311-cp311-win_amd64.whl.metadata (5.7 kB)\n",
      "Collecting cycler>=0.10 (from matplotlib->catboost)\n",
      "  Downloading cycler-0.11.0-py3-none-any.whl (6.4 kB)\n",
      "Collecting fonttools>=4.22.0 (from matplotlib->catboost)\n",
      "  Obtaining dependency information for fonttools>=4.22.0 from https://files.pythonhosted.org/packages/bd/49/d921c3b1eca0c1a67093cbc2ce302b039df94dea9e246b43f95827f4f566/fonttools-4.41.1-cp311-cp311-win_amd64.whl.metadata\n",
      "  Downloading fonttools-4.41.1-cp311-cp311-win_amd64.whl.metadata (153 kB)\n",
      "     ---------------------------------------- 0.0/153.1 kB ? eta -:--:--\n",
      "     ---------------------------------------- 153.1/153.1 kB ? eta 0:00:00\n",
      "Collecting kiwisolver>=1.0.1 (from matplotlib->catboost)\n",
      "  Downloading kiwisolver-1.4.4-cp311-cp311-win_amd64.whl (55 kB)\n",
      "     ---------------------------------------- 0.0/55.4 kB ? eta -:--:--\n",
      "     ---------------------------------------- 55.4/55.4 kB 3.0 MB/s eta 0:00:00\n",
      "Requirement already satisfied: packaging>=20.0 in c:\\programdata\\anaconda3\\envs\\hackthons\\lib\\site-packages (from matplotlib->catboost) (23.0)\n",
      "Collecting pillow>=6.2.0 (from matplotlib->catboost)\n",
      "  Obtaining dependency information for pillow>=6.2.0 from https://files.pythonhosted.org/packages/66/d4/054e491f0880bf0119ee79cdc03264e01d5732e06c454da8c69b83a7c8f2/Pillow-10.0.0-cp311-cp311-win_amd64.whl.metadata\n",
      "  Downloading Pillow-10.0.0-cp311-cp311-win_amd64.whl.metadata (9.6 kB)\n",
      "Collecting pyparsing<3.1,>=2.3.1 (from matplotlib->catboost)\n",
      "  Downloading pyparsing-3.0.9-py3-none-any.whl (98 kB)\n",
      "     ---------------------------------------- 0.0/98.3 kB ? eta -:--:--\n",
      "     ---------------------------------------- 98.3/98.3 kB 5.9 MB/s eta 0:00:00\n",
      "Collecting tenacity>=6.2.0 (from plotly->catboost)\n",
      "  Using cached tenacity-8.2.2-py3-none-any.whl (24 kB)\n",
      "Downloading numpy-1.25.1-cp311-cp311-win_amd64.whl (15.0 MB)\n",
      "   ---------------------------------------- 0.0/15.0 MB ? eta -:--:--\n",
      "   -------------- ------------------------- 5.4/15.0 MB 172.8 MB/s eta 0:00:01\n",
      "   --------------------------- ------------ 10.2/15.0 MB 130.6 MB/s eta 0:00:01\n",
      "   ---------------------------------------  15.0/15.0 MB 108.8 MB/s eta 0:00:01\n",
      "   ---------------------------------------  15.0/15.0 MB 108.8 MB/s eta 0:00:01\n",
      "   ---------------------------------------  15.0/15.0 MB 108.8 MB/s eta 0:00:01\n",
      "   ---------------------------------------  15.0/15.0 MB 108.8 MB/s eta 0:00:01\n",
      "   ---------------------------------------- 15.0/15.0 MB 36.3 MB/s eta 0:00:00\n",
      "Downloading pandas-2.0.3-cp311-cp311-win_amd64.whl (10.6 MB)\n",
      "   ---------------------------------------- 0.0/10.6 MB ? eta -:--:--\n",
      "   ------- -------------------------------- 2.1/10.6 MB 129.9 MB/s eta 0:00:01\n",
      "   ---------------------------------- ----- 9.0/10.6 MB 115.7 MB/s eta 0:00:01\n",
      "   ---------------------------------------  10.6/10.6 MB 108.8 MB/s eta 0:00:01\n",
      "   ---------------------------------------  10.6/10.6 MB 108.8 MB/s eta 0:00:01\n",
      "   ---------------------------------------- 10.6/10.6 MB 54.4 MB/s eta 0:00:00\n",
      "Downloading matplotlib-3.7.2-cp311-cp311-win_amd64.whl (7.5 MB)\n",
      "   ---------------------------------------- 0.0/7.5 MB ? eta -:--:--\n",
      "   ---------------- ----------------------- 3.1/7.5 MB 101.1 MB/s eta 0:00:01\n",
      "   ---------------------------------------  7.4/7.5 MB 79.2 MB/s eta 0:00:01\n",
      "   ---------------------------------------  7.5/7.5 MB 80.5 MB/s eta 0:00:01\n",
      "   ---------------------------------------- 7.5/7.5 MB 48.0 MB/s eta 0:00:00\n",
      "Using cached plotly-5.15.0-py2.py3-none-any.whl (15.5 MB)\n",
      "Downloading scipy-1.11.1-cp311-cp311-win_amd64.whl (44.0 MB)\n",
      "   ---------------------------------------- 0.0/44.0 MB ? eta -:--:--\n",
      "   ----- ---------------------------------- 5.6/44.0 MB 173.1 MB/s eta 0:00:01\n",
      "   ------------ --------------------------- 13.7/44.0 MB 165.0 MB/s eta 0:00:01\n",
      "   ---------------- ----------------------- 17.8/44.0 MB 131.2 MB/s eta 0:00:01\n",
      "   -------------------- ------------------- 22.1/44.0 MB 93.9 MB/s eta 0:00:01\n",
      "   -------------------------- ------------- 28.6/44.0 MB 165.0 MB/s eta 0:00:01\n",
      "   ------------------------------- -------- 34.4/44.0 MB 131.2 MB/s eta 0:00:01\n",
      "   ----------------------------------- ---- 38.8/44.0 MB 131.2 MB/s eta 0:00:01\n",
      "   ------------------------------------ --- 39.6/44.0 MB 81.8 MB/s eta 0:00:01\n",
      "   ---------------------------------------  44.0/44.0 MB 72.6 MB/s eta 0:00:01\n",
      "   ---------------------------------------  44.0/44.0 MB 72.6 MB/s eta 0:00:01\n",
      "   ---------------------------------------  44.0/44.0 MB 72.6 MB/s eta 0:00:01\n",
      "   ---------------------------------------  44.0/44.0 MB 72.6 MB/s eta 0:00:01\n",
      "   ---------------------------------------  44.0/44.0 MB 72.6 MB/s eta 0:00:01\n",
      "   ---------------------------------------  44.0/44.0 MB 72.6 MB/s eta 0:00:01\n",
      "   ---------------------------------------  44.0/44.0 MB 72.6 MB/s eta 0:00:01\n",
      "   ---------------------------------------  44.0/44.0 MB 72.6 MB/s eta 0:00:01\n",
      "   ---------------------------------------- 44.0/44.0 MB 18.2 MB/s eta 0:00:00\n",
      "Downloading contourpy-1.1.0-cp311-cp311-win_amd64.whl (470 kB)\n",
      "   ---------------------------------------- 0.0/470.9 kB ? eta -:--:--\n",
      "   ---------------------------------------  460.8/470.9 kB ? eta -:--:--\n",
      "   ---------------------------------------- 470.9/470.9 kB 7.3 MB/s eta 0:00:00\n",
      "Downloading fonttools-4.41.1-cp311-cp311-win_amd64.whl (2.1 MB)\n",
      "   ---------------------------------------- 0.0/2.1 MB ? eta -:--:--\n",
      "   ---------------------------------------- 2.1/2.1 MB 67.7 MB/s eta 0:00:00\n",
      "Downloading Pillow-10.0.0-cp311-cp311-win_amd64.whl (2.5 MB)\n",
      "   ---------------------------------------- 0.0/2.5 MB ? eta -:--:--\n",
      "   ---------------------------------------- 2.5/2.5 MB 53.3 MB/s eta 0:00:00\n",
      "Installing collected packages: tzdata, tenacity, pyparsing, pillow, numpy, kiwisolver, graphviz, fonttools, cycler, scipy, plotly, pandas, contourpy, matplotlib, catboost\n",
      "Successfully installed catboost-1.2 contourpy-1.1.0 cycler-0.11.0 fonttools-4.41.1 graphviz-0.20.1 kiwisolver-1.4.4 matplotlib-3.7.2 numpy-1.25.1 pandas-2.0.3 pillow-10.0.0 plotly-5.15.0 pyparsing-3.0.9 scipy-1.11.1 tenacity-8.2.2 tzdata-2023.3\n"
     ]
    }
   ],
   "source": [
    "!pip install catboost"
   ],
   "metadata": {
    "collapsed": false,
    "ExecuteTime": {
     "end_time": "2023-07-29T16:18:22.247039900Z",
     "start_time": "2023-07-29T16:16:46.753955300Z"
    }
   }
  },
  {
   "cell_type": "code",
   "execution_count": null,
   "metadata": {
    "ExecuteTime": {
     "end_time": "2023-07-29T16:18:54.908909200Z",
     "start_time": "2023-07-29T16:18:54.855852900Z"
    }
   },
   "outputs": [],
   "source": [
    "import pandas as pd\n",
    "import numpy as np\n",
    "from matplotlib import pyplot as plt\n",
    "%matplotlib inline\n",
    "from sklearn.metrics import r2_score\n",
    "from catboost import CatBoostRegressor"
   ]
  },
  {
   "cell_type": "code",
   "execution_count": null,
   "metadata": {
    "ExecuteTime": {
     "start_time": "2023-07-29T16:18:54.879372400Z"
    }
   },
   "outputs": [],
   "source": [
    "# Load training data, reshape, add departure time as an integer number of seconds and add day of week:\n",
    "df = pd.read_csv('../TotalEnergies/data/Train.csv', parse_dates=['travel_date'], dayfirst=True)\n",
    "train = df.groupby(['ride_id', 'travel_date', 'travel_time', 'travel_from', 'max_capacity']).size().reset_index(name='Count') #sort=False if needed?\n",
    "train[\"travel_time\"] = train[\"travel_time\"].str.split(':').apply(lambda x: int(x[0]) * 60 + int(x[1]))\n",
    "train['day'] = train['travel_date'].dt.dayofweek"
   ]
  },
  {
   "cell_type": "code",
   "execution_count": 4,
   "metadata": {
    "ExecuteTime": {
     "end_time": "2023-07-27T13:28:15.138170300Z",
     "start_time": "2023-07-27T13:28:15.118177700Z"
    }
   },
   "outputs": [],
   "source": [
    "# The same for the test data\n",
    "test = pd.read_csv('../TotalEnergies/data/Test.csv', parse_dates=['travel_date'], dayfirst=True).drop(['car_type', 'travel_to'], axis=1)\n",
    "test[\"travel_time\"] = test[\"travel_time\"].str.split(':').apply(lambda x: int(x[0]) * 60 + int(x[1]))\n",
    "test['day'] = test['travel_date'].dt.dayofweek"
   ]
  },
  {
   "cell_type": "code",
   "execution_count": 10,
   "metadata": {
    "ExecuteTime": {
     "end_time": "2023-07-27T13:29:30.586003200Z",
     "start_time": "2023-07-27T13:29:30.581003800Z"
    }
   },
   "outputs": [],
   "source": [
    "# The sample submission file\n",
    "sample = pd.read_csv('../TotalEnergies/submissions/SampleSubmission.csv')"
   ]
  },
  {
   "cell_type": "code",
   "execution_count": 11,
   "metadata": {
    "ExecuteTime": {
     "end_time": "2023-07-27T13:29:32.645049400Z",
     "start_time": "2023-07-27T13:29:32.639002Z"
    }
   },
   "outputs": [],
   "source": [
    "# Combine training and test data for now, so that we can add uber movement data all in one go\n",
    "train['t'] = 0\n",
    "test['t'] = 1\n",
    "X = pd.concat([train, test], sort=False)"
   ]
  },
  {
   "cell_type": "code",
   "execution_count": 12,
   "metadata": {
    "ExecuteTime": {
     "end_time": "2023-07-27T13:29:34.921998800Z",
     "start_time": "2023-07-27T13:29:34.890998700Z"
    }
   },
   "outputs": [
    {
     "data": {
      "text/plain": "   Daily Mean Travel Time (Seconds)       Date\n0                            2926.0 2017-12-15",
      "text/html": "<div>\n<style scoped>\n    .dataframe tbody tr th:only-of-type {\n        vertical-align: middle;\n    }\n\n    .dataframe tbody tr th {\n        vertical-align: top;\n    }\n\n    .dataframe thead th {\n        text-align: right;\n    }\n</style>\n<table border=\"1\" class=\"dataframe\">\n  <thead>\n    <tr style=\"text-align: right;\">\n      <th></th>\n      <th>Daily Mean Travel Time (Seconds)</th>\n      <th>Date</th>\n    </tr>\n  </thead>\n  <tbody>\n    <tr>\n      <th>0</th>\n      <td>2926.0</td>\n      <td>2017-12-15</td>\n    </tr>\n  </tbody>\n</table>\n</div>"
     },
     "execution_count": 12,
     "metadata": {},
     "output_type": "execute_result"
    }
   ],
   "source": [
    "# Load travel times from Uber movement data ( 3 x 3month periods)\n",
    "t1 = pd.read_csv('../TotalEnergies/data/Travel_Times_Daily_1.csv',parse_dates=['Date'])\n",
    "t2 = pd.read_csv('../TotalEnergies/data/Travel_Times_Daily_2.csv',parse_dates=['Date'])\n",
    "t3 = pd.read_csv('../TotalEnergies/data/Travel_Times_Daily_3.csv',parse_dates=['Date'])\n",
    "travel_times = pd.concat([t1, t2, t3], ignore_index=True)\n",
    "travel_times = travel_times.fillna(method='ffill')[['Daily Mean Travel Time (Seconds)', 'Date']]\n",
    "travel_times['Date'] = pd.to_datetime(travel_times['Date'])\n",
    "travel_times.head(1)"
   ]
  },
  {
   "cell_type": "code",
   "execution_count": 13,
   "metadata": {
    "ExecuteTime": {
     "end_time": "2023-07-27T13:29:36.450014400Z",
     "start_time": "2023-07-27T13:29:36.421020400Z"
    }
   },
   "outputs": [
    {
     "data": {
      "text/plain": "   ride_id  travel_time travel_from  max_capacity  Count  day  t       Date  \\\n0     1442          435      Migori            49    1.0    1  0 2017-10-17   \n\n   Daily Mean Travel Time (Seconds)  \n0                            2698.0  ",
      "text/html": "<div>\n<style scoped>\n    .dataframe tbody tr th:only-of-type {\n        vertical-align: middle;\n    }\n\n    .dataframe tbody tr th {\n        vertical-align: top;\n    }\n\n    .dataframe thead th {\n        text-align: right;\n    }\n</style>\n<table border=\"1\" class=\"dataframe\">\n  <thead>\n    <tr style=\"text-align: right;\">\n      <th></th>\n      <th>ride_id</th>\n      <th>travel_time</th>\n      <th>travel_from</th>\n      <th>max_capacity</th>\n      <th>Count</th>\n      <th>day</th>\n      <th>t</th>\n      <th>Date</th>\n      <th>Daily Mean Travel Time (Seconds)</th>\n    </tr>\n  </thead>\n  <tbody>\n    <tr>\n      <th>0</th>\n      <td>1442</td>\n      <td>435</td>\n      <td>Migori</td>\n      <td>49</td>\n      <td>1.0</td>\n      <td>1</td>\n      <td>0</td>\n      <td>2017-10-17</td>\n      <td>2698.0</td>\n    </tr>\n  </tbody>\n</table>\n</div>"
     },
     "execution_count": 13,
     "metadata": {},
     "output_type": "execute_result"
    }
   ],
   "source": [
    "# Merge with our contest data\n",
    "X['Date'] = X['travel_date']\n",
    "X.set_index('travel_date', inplace=True)\n",
    "X = X.merge(travel_times, how='left', on='Date')\n",
    "X.head(1)"
   ]
  },
  {
   "cell_type": "code",
   "execution_count": 20,
   "metadata": {
    "ExecuteTime": {
     "end_time": "2023-07-27T13:35:14.916598200Z",
     "start_time": "2023-07-27T13:35:14.908599Z"
    }
   },
   "outputs": [],
   "source": [
    "# Create the model\n",
    "model = CatBoostRegressor(iterations=200, \n",
    "                          depth=4, \n",
    "                          learning_rate=0.5, \n",
    "                          loss_function='MAE', verbose=False)"
   ]
  },
  {
   "cell_type": "code",
   "execution_count": 22,
   "metadata": {
    "ExecuteTime": {
     "end_time": "2023-07-27T13:35:24.213113900Z",
     "start_time": "2023-07-27T13:35:24.205116300Z"
    }
   },
   "outputs": [],
   "source": [
    "in_cols = ['travel_time', 'travel_from', 'max_capacity', 'day'] #'Daily Mean Travel Time (Seconds)' as an option"
   ]
  },
  {
   "cell_type": "code",
   "execution_count": 23,
   "metadata": {
    "ExecuteTime": {
     "end_time": "2023-07-27T13:35:28.509021500Z",
     "start_time": "2023-07-27T13:35:26.681033600Z"
    }
   },
   "outputs": [
    {
     "data": {
      "text/plain": "<catboost.core.CatBoostRegressor at 0x25b0d142310>"
     },
     "execution_count": 23,
     "metadata": {},
     "output_type": "execute_result"
    }
   ],
   "source": [
    "# Train model\n",
    "tr = X.loc[X.t == 0]\n",
    "model.fit(tr[in_cols], tr['Count'], cat_features=['travel_from', 'max_capacity', 'day'])"
   ]
  },
  {
   "cell_type": "code",
   "execution_count": 24,
   "metadata": {
    "ExecuteTime": {
     "end_time": "2023-07-27T13:35:33.421974400Z",
     "start_time": "2023-07-27T13:35:33.411963700Z"
    }
   },
   "outputs": [
    {
     "name": "stdout",
     "output_type": "stream",
     "text": [
      "3.499389595249243\n"
     ]
    }
   ],
   "source": [
    "# Score model\n",
    "from sklearn.metrics import mean_absolute_error\n",
    "print(mean_absolute_error(model.predict(tr[in_cols]), tr['Count']))"
   ]
  },
  {
   "cell_type": "code",
   "execution_count": 25,
   "metadata": {
    "ExecuteTime": {
     "end_time": "2023-07-27T13:35:41.114893100Z",
     "start_time": "2023-07-27T13:35:41.092880400Z"
    }
   },
   "outputs": [
    {
     "data": {
      "text/plain": "   ride_id  number_of_ticket\n0     4446          0.000000\n1    13962          0.000000\n2     5569          0.000000\n3     1675          0.000000\n4     5711          0.000000\n5     2417          9.778770\n6    15010         14.936669\n7     1823          9.622466\n8    15191          9.856025\n9    14402          1.651639",
      "text/html": "<div>\n<style scoped>\n    .dataframe tbody tr th:only-of-type {\n        vertical-align: middle;\n    }\n\n    .dataframe tbody tr th {\n        vertical-align: top;\n    }\n\n    .dataframe thead th {\n        text-align: right;\n    }\n</style>\n<table border=\"1\" class=\"dataframe\">\n  <thead>\n    <tr style=\"text-align: right;\">\n      <th></th>\n      <th>ride_id</th>\n      <th>number_of_ticket</th>\n    </tr>\n  </thead>\n  <tbody>\n    <tr>\n      <th>0</th>\n      <td>4446</td>\n      <td>0.000000</td>\n    </tr>\n    <tr>\n      <th>1</th>\n      <td>13962</td>\n      <td>0.000000</td>\n    </tr>\n    <tr>\n      <th>2</th>\n      <td>5569</td>\n      <td>0.000000</td>\n    </tr>\n    <tr>\n      <th>3</th>\n      <td>1675</td>\n      <td>0.000000</td>\n    </tr>\n    <tr>\n      <th>4</th>\n      <td>5711</td>\n      <td>0.000000</td>\n    </tr>\n    <tr>\n      <th>5</th>\n      <td>2417</td>\n      <td>9.778770</td>\n    </tr>\n    <tr>\n      <th>6</th>\n      <td>15010</td>\n      <td>14.936669</td>\n    </tr>\n    <tr>\n      <th>7</th>\n      <td>1823</td>\n      <td>9.622466</td>\n    </tr>\n    <tr>\n      <th>8</th>\n      <td>15191</td>\n      <td>9.856025</td>\n    </tr>\n    <tr>\n      <th>9</th>\n      <td>14402</td>\n      <td>1.651639</td>\n    </tr>\n  </tbody>\n</table>\n</div>"
     },
     "execution_count": 25,
     "metadata": {},
     "output_type": "execute_result"
    }
   ],
   "source": [
    "# Make predictions and append to the sample submission data, and save as csv\n",
    "te = X.loc[X.t == 1]\n",
    "te[in_cols].head()\n",
    "te = X.loc[X.t == 1]\n",
    "sample['number_of_ticket'][5:] = model.predict(te[in_cols])[5:] # Ignore the warning\n",
    "sample.to_csv('catboost_predictions.csv', index=False)\n",
    "sample.head(10)"
   ]
  },
  {
   "cell_type": "code",
   "execution_count": null,
   "outputs": [],
   "source": [],
   "metadata": {
    "collapsed": false
   }
  }
 ],
 "metadata": {
  "kernelspec": {
   "display_name": "Python 3",
   "language": "python",
   "name": "python3"
  },
  "language_info": {
   "codemirror_mode": {
    "name": "ipython",
    "version": 3
   },
   "file_extension": ".py",
   "mimetype": "text/x-python",
   "name": "python",
   "nbconvert_exporter": "python",
   "pygments_lexer": "ipython3",
   "version": "3.6.7"
  }
 },
 "nbformat": 4,
 "nbformat_minor": 2
}
