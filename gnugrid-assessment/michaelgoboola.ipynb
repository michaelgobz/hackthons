{
 "cells": [
  {
   "cell_type": "markdown",
   "source": [
    "# Title"
   ],
   "metadata": {
    "id": "84j_8LKnpDAX"
   },
   "id": "84j_8LKnpDAX"
  },
  {
   "cell_type": "code",
   "execution_count": null,
   "id": "initial_id",
   "metadata": {
    "collapsed": true,
    "ExecuteTime": {
     "end_time": "2023-08-12T10:09:53.048582400Z",
     "start_time": "2023-08-12T10:08:55.434282900Z"
    },
    "id": "initial_id"
   },
   "outputs": [],
   "source": [
    "%%capture\n",
    "!pip install pandas\n",
    "!pip install numpy\n",
    "!pip install matplotlib\n",
    "!pip install seaborn\n",
    "!pip install scikit-learn\n",
    "!pip install scipy\n",
    "!pip install statsmodels\n",
    "!pip install xgboost\n",
    "!pip install lightgbm\n",
    "!pip install google-colab\n"
   ]
  },
  {
   "cell_type": "markdown",
   "source": [
    "##### **Explanation**\n",
    "We install the required libraies so that we can do analyis on the data provides the breakdown of the libraries is as follows\n",
    "- Pandas:\n",
    "  this is the one used to work with the data and transform it into data structure we can work with programtically\n",
    "- Scikit-learn: this library provides the different staticstical models from the sklearn cateloge of models which includes logistic regression we shall use to model the classification\n",
    "-  Google Colab: this library provides the interface and tools we need to work with google services which like google drive to store out data that the raw data is persisted\n",
    "- matplotlib, seabon, numpy and scipy: for other support models and tools to transform data that is in dataframe\n"
   ],
   "metadata": {
    "id": "qbnBVpQrpXtq"
   },
   "id": "qbnBVpQrpXtq"
  },
  {
   "cell_type": "markdown",
   "source": [
    "# Importing libraries\n"
   ],
   "metadata": {
    "collapsed": false,
    "id": "12bd2958bfe19e9b"
   },
   "id": "12bd2958bfe19e9b"
  },
  {
   "cell_type": "code",
   "execution_count": null,
   "outputs": [],
   "source": [
    "import os\n",
    "import pandas as pd\n",
    "import matplotlib.pyplot as plt\n",
    "import seaborn as sns\n",
    "\n",
    "from google.colab import drive\n",
    "from sklearn.model_selection import train_test_split\n",
    "from sklearn.linear_model import LogisticRegression\n",
    "from sklearn.neighbors import KNeighborsClassifier\n",
    "from sklearn.metrics import confusion_matrix, classification_report\n",
    "\n"
   ],
   "metadata": {
    "ExecuteTime": {
     "end_time": "2023-08-12T10:08:13.766305100Z",
     "start_time": "2023-08-12T10:08:12.267552900Z"
    },
    "id": "b21bdaf141f38c00"
   },
   "id": "b21bdaf141f38c00"
  },
  {
   "cell_type": "markdown",
   "source": [
    "##### **Explanation**\n",
    "Here we import the tools we need to work with the analysis of the data, for the python notebook"
   ],
   "metadata": {
    "id": "MaebcOmYrOvj"
   },
   "id": "MaebcOmYrOvj"
  },
  {
   "cell_type": "markdown",
   "source": [
    "# Load the data from local repository"
   ],
   "metadata": {
    "collapsed": false,
    "id": "6dccdfebc1e8f65b"
   },
   "id": "6dccdfebc1e8f65b"
  },
  {
   "cell_type": "code",
   "execution_count": null,
   "outputs": [],
   "source": [
    "# load the required data\n",
    "PATH = './data/'\n",
    "data = pd.read_excel(os.path.join(PATH,'michaelgoboola.xlsx'), sheet_name='Data')\n",
    "data.head()"
   ],
   "metadata": {
    "ExecuteTime": {
     "end_time": "2023-08-11T19:12:14.043552400Z",
     "start_time": "2023-08-11T19:12:13.390541300Z"
    },
    "id": "a194d9fbad6053e1"
   },
   "id": "a194d9fbad6053e1"
  },
  {
   "cell_type": "markdown",
   "source": [
    "##### **Explanation**\n",
    "\n",
    "With this block of code, we load the data from out local repository (local hard drive)\n",
    "we define the directory path containng out data an use pandas to read_excel() method to get the data, and then view the data with the head() from the data frame."
   ],
   "metadata": {
    "id": "l5-cYWaQr0XO"
   },
   "id": "l5-cYWaQr0XO"
  },
  {
   "cell_type": "markdown",
   "source": [
    "# Load date from Google Drive"
   ],
   "metadata": {
    "collapsed": false,
    "id": "7f3fe041081f2187"
   },
   "id": "7f3fe041081f2187"
  },
  {
   "cell_type": "code",
   "execution_count": null,
   "outputs": [],
   "source": [
    "# load data from  google drive\n",
    "drive.mount('/content/drive')\n",
    "PATH = '/content/drive/My Drive/data/'\n",
    "data = pd.read_excel(os.path.join(PATH,'michaelgoboola.xlsx'), sheet_name='Data') # change path to your path\n",
    "data.head()"
   ],
   "metadata": {
    "id": "11c464184ce59593"
   },
   "id": "11c464184ce59593"
  },
  {
   "cell_type": "markdown",
   "source": [
    "##### **Explanation**\n",
    "Alternatively, when using google colab we use the colab libray here to mount our remote drive associated with out google account (google drive)and then define the directory path where we have our data file, we use the pandas, read_excel() method to read the excel data into a dataframe, then call the head() method to view the first 5 rows of the data to ensure we have data."
   ],
   "metadata": {
    "id": "7kT6iY0mshVr"
   },
   "id": "7kT6iY0mshVr"
  },
  {
   "cell_type": "markdown",
   "source": [
    "# Data Preprocessing, Cleaning and Validation"
   ],
   "metadata": {
    "collapsed": false,
    "id": "2de2803646d15c86"
   },
   "id": "2de2803646d15c86"
  },
  {
   "cell_type": "markdown",
   "source": [
    "In this section, we do the following as accorded in the instructions\n",
    "- Data validation\n",
    "- Data Preprocessing\n",
    "- Check for multicolinearity\n",
    "- Prepare the data for Modeling"
   ],
   "metadata": {
    "id": "P02VcCVNtV3f"
   },
   "id": "P02VcCVNtV3f"
  },
  {
   "cell_type": "markdown",
   "source": [
    "## Data Validation"
   ],
   "metadata": {
    "id": "JKM5g3n8uBMU"
   },
   "id": "JKM5g3n8uBMU"
  },
  {
   "cell_type": "markdown",
   "source": [
    "#### Data Type Check"
   ],
   "metadata": {
    "id": "JJzRS_BFvBGs"
   },
   "id": "JJzRS_BFvBGs"
  },
  {
   "cell_type": "code",
   "source": [
    "# data type check\n",
    "data.dtypes"
   ],
   "metadata": {
    "id": "SFOC_fDsvJdG"
   },
   "id": "SFOC_fDsvJdG",
   "execution_count": null,
   "outputs": []
  },
  {
   "cell_type": "markdown",
   "source": [
    "##### **Explanation**\n",
    "Here we check for the data types that and validate if they conform to wat we expect and we use the dypes on the pandas dataframe to establish that.\n",
    "\n",
    "we expect the data to be of integer and categorical to be of object type."
   ],
   "metadata": {
    "id": "ZRMsxIjF_CXl"
   },
   "id": "ZRMsxIjF_CXl"
  },
  {
   "cell_type": "markdown",
   "source": [
    "#### Check for missing values"
   ],
   "metadata": {
    "collapsed": false,
    "id": "e1ff2d81922cbdf0"
   },
   "id": "e1ff2d81922cbdf0"
  },
  {
   "cell_type": "code",
   "execution_count": null,
   "outputs": [],
   "source": [
    "# check for missing values\n",
    "data.isna().sum()"
   ],
   "metadata": {
    "ExecuteTime": {
     "end_time": "2023-08-11T19:33:57.044804900Z",
     "start_time": "2023-08-11T19:33:57.032817Z"
    },
    "id": "1751a07e982ded75"
   },
   "id": "1751a07e982ded75"
  },
  {
   "cell_type": "markdown",
   "source": [
    "##### **Explanation**\n",
    "Here we look loof for empty data points which shows that the data we have here\n",
    "is all having required data types"
   ],
   "metadata": {
    "collapsed": false,
    "id": "911bd48d4f16efe7"
   },
   "id": "911bd48d4f16efe7"
  },
  {
   "cell_type": "markdown",
   "source": [
    "#### Check for repeated values"
   ],
   "metadata": {
    "collapsed": false,
    "id": "1f16ec58888778e6"
   },
   "id": "1f16ec58888778e6"
  },
  {
   "cell_type": "code",
   "execution_count": null,
   "outputs": [],
   "source": [
    "# check for repeated values\n",
    "data.duplicated().sum()"
   ],
   "metadata": {
    "ExecuteTime": {
     "end_time": "2023-08-11T20:11:09.309305100Z",
     "start_time": "2023-08-11T20:11:09.296318400Z"
    },
    "id": "268402195ee31f29"
   },
   "id": "268402195ee31f29"
  },
  {
   "cell_type": "markdown",
   "source": [
    "##### **Explanation**\n",
    "Here we do check for data points that are duplicate\n",
    "and it data shows that we dont have any which indicates so we can proceed."
   ],
   "metadata": {
    "collapsed": false,
    "id": "840117edba9a9f6b"
   },
   "id": "840117edba9a9f6b"
  },
  {
   "cell_type": "markdown",
   "source": [
    "####  Setup target variable"
   ],
   "metadata": {
    "collapsed": false,
    "id": "9b28f74166419fa6"
   },
   "id": "9b28f74166419fa6"
  },
  {
   "cell_type": "code",
   "execution_count": null,
   "outputs": [
    {
     "output_type": "execute_result",
     "data": {
      "text/plain": [
       "   OBS#  RESPONSE\n",
       "0     1         1\n",
       "1     2         0\n",
       "2     3         1\n",
       "3     4         1\n",
       "4     5         0"
      ],
      "text/html": [
       "\n",
       "\n",
       "  <div id=\"df-64a3d34d-b5bc-4b21-ba42-e94dcc4a5ff6\">\n",
       "    <div class=\"colab-df-container\">\n",
       "      <div>\n",
       "<style scoped>\n",
       "    .dataframe tbody tr th:only-of-type {\n",
       "        vertical-align: middle;\n",
       "    }\n",
       "\n",
       "    .dataframe tbody tr th {\n",
       "        vertical-align: top;\n",
       "    }\n",
       "\n",
       "    .dataframe thead th {\n",
       "        text-align: right;\n",
       "    }\n",
       "</style>\n",
       "<table border=\"1\" class=\"dataframe\">\n",
       "  <thead>\n",
       "    <tr style=\"text-align: right;\">\n",
       "      <th></th>\n",
       "      <th>OBS#</th>\n",
       "      <th>RESPONSE</th>\n",
       "    </tr>\n",
       "  </thead>\n",
       "  <tbody>\n",
       "    <tr>\n",
       "      <th>0</th>\n",
       "      <td>1</td>\n",
       "      <td>1</td>\n",
       "    </tr>\n",
       "    <tr>\n",
       "      <th>1</th>\n",
       "      <td>2</td>\n",
       "      <td>0</td>\n",
       "    </tr>\n",
       "    <tr>\n",
       "      <th>2</th>\n",
       "      <td>3</td>\n",
       "      <td>1</td>\n",
       "    </tr>\n",
       "    <tr>\n",
       "      <th>3</th>\n",
       "      <td>4</td>\n",
       "      <td>1</td>\n",
       "    </tr>\n",
       "    <tr>\n",
       "      <th>4</th>\n",
       "      <td>5</td>\n",
       "      <td>0</td>\n",
       "    </tr>\n",
       "  </tbody>\n",
       "</table>\n",
       "</div>\n",
       "      <button class=\"colab-df-convert\" onclick=\"convertToInteractive('df-64a3d34d-b5bc-4b21-ba42-e94dcc4a5ff6')\"\n",
       "              title=\"Convert this dataframe to an interactive table.\"\n",
       "              style=\"display:none;\">\n",
       "\n",
       "  <svg xmlns=\"http://www.w3.org/2000/svg\" height=\"24px\"viewBox=\"0 0 24 24\"\n",
       "       width=\"24px\">\n",
       "    <path d=\"M0 0h24v24H0V0z\" fill=\"none\"/>\n",
       "    <path d=\"M18.56 5.44l.94 2.06.94-2.06 2.06-.94-2.06-.94-.94-2.06-.94 2.06-2.06.94zm-11 1L8.5 8.5l.94-2.06 2.06-.94-2.06-.94L8.5 2.5l-.94 2.06-2.06.94zm10 10l.94 2.06.94-2.06 2.06-.94-2.06-.94-.94-2.06-.94 2.06-2.06.94z\"/><path d=\"M17.41 7.96l-1.37-1.37c-.4-.4-.92-.59-1.43-.59-.52 0-1.04.2-1.43.59L10.3 9.45l-7.72 7.72c-.78.78-.78 2.05 0 2.83L4 21.41c.39.39.9.59 1.41.59.51 0 1.02-.2 1.41-.59l7.78-7.78 2.81-2.81c.8-.78.8-2.07 0-2.86zM5.41 20L4 18.59l7.72-7.72 1.47 1.35L5.41 20z\"/>\n",
       "  </svg>\n",
       "      </button>\n",
       "\n",
       "\n",
       "\n",
       "    <div id=\"df-abadfeb9-239a-4665-8384-8d79faf24371\">\n",
       "      <button class=\"colab-df-quickchart\" onclick=\"quickchart('df-abadfeb9-239a-4665-8384-8d79faf24371')\"\n",
       "              title=\"Suggest charts.\"\n",
       "              style=\"display:none;\">\n",
       "\n",
       "<svg xmlns=\"http://www.w3.org/2000/svg\" height=\"24px\"viewBox=\"0 0 24 24\"\n",
       "     width=\"24px\">\n",
       "    <g>\n",
       "        <path d=\"M19 3H5c-1.1 0-2 .9-2 2v14c0 1.1.9 2 2 2h14c1.1 0 2-.9 2-2V5c0-1.1-.9-2-2-2zM9 17H7v-7h2v7zm4 0h-2V7h2v10zm4 0h-2v-4h2v4z\"/>\n",
       "    </g>\n",
       "</svg>\n",
       "      </button>\n",
       "    </div>\n",
       "\n",
       "<style>\n",
       "  .colab-df-quickchart {\n",
       "    background-color: #E8F0FE;\n",
       "    border: none;\n",
       "    border-radius: 50%;\n",
       "    cursor: pointer;\n",
       "    display: none;\n",
       "    fill: #1967D2;\n",
       "    height: 32px;\n",
       "    padding: 0 0 0 0;\n",
       "    width: 32px;\n",
       "  }\n",
       "\n",
       "  .colab-df-quickchart:hover {\n",
       "    background-color: #E2EBFA;\n",
       "    box-shadow: 0px 1px 2px rgba(60, 64, 67, 0.3), 0px 1px 3px 1px rgba(60, 64, 67, 0.15);\n",
       "    fill: #174EA6;\n",
       "  }\n",
       "\n",
       "  [theme=dark] .colab-df-quickchart {\n",
       "    background-color: #3B4455;\n",
       "    fill: #D2E3FC;\n",
       "  }\n",
       "\n",
       "  [theme=dark] .colab-df-quickchart:hover {\n",
       "    background-color: #434B5C;\n",
       "    box-shadow: 0px 1px 3px 1px rgba(0, 0, 0, 0.15);\n",
       "    filter: drop-shadow(0px 1px 2px rgba(0, 0, 0, 0.3));\n",
       "    fill: #FFFFFF;\n",
       "  }\n",
       "</style>\n",
       "\n",
       "    <script>\n",
       "      async function quickchart(key) {\n",
       "        const containerElement = document.querySelector('#' + key);\n",
       "        const charts = await google.colab.kernel.invokeFunction(\n",
       "            'suggestCharts', [key], {});\n",
       "      }\n",
       "    </script>\n",
       "\n",
       "      <script>\n",
       "\n",
       "function displayQuickchartButton(domScope) {\n",
       "  let quickchartButtonEl =\n",
       "    domScope.querySelector('#df-abadfeb9-239a-4665-8384-8d79faf24371 button.colab-df-quickchart');\n",
       "  quickchartButtonEl.style.display =\n",
       "    google.colab.kernel.accessAllowed ? 'block' : 'none';\n",
       "}\n",
       "\n",
       "        displayQuickchartButton(document);\n",
       "      </script>\n",
       "      <style>\n",
       "    .colab-df-container {\n",
       "      display:flex;\n",
       "      flex-wrap:wrap;\n",
       "      gap: 12px;\n",
       "    }\n",
       "\n",
       "    .colab-df-convert {\n",
       "      background-color: #E8F0FE;\n",
       "      border: none;\n",
       "      border-radius: 50%;\n",
       "      cursor: pointer;\n",
       "      display: none;\n",
       "      fill: #1967D2;\n",
       "      height: 32px;\n",
       "      padding: 0 0 0 0;\n",
       "      width: 32px;\n",
       "    }\n",
       "\n",
       "    .colab-df-convert:hover {\n",
       "      background-color: #E2EBFA;\n",
       "      box-shadow: 0px 1px 2px rgba(60, 64, 67, 0.3), 0px 1px 3px 1px rgba(60, 64, 67, 0.15);\n",
       "      fill: #174EA6;\n",
       "    }\n",
       "\n",
       "    [theme=dark] .colab-df-convert {\n",
       "      background-color: #3B4455;\n",
       "      fill: #D2E3FC;\n",
       "    }\n",
       "\n",
       "    [theme=dark] .colab-df-convert:hover {\n",
       "      background-color: #434B5C;\n",
       "      box-shadow: 0px 1px 3px 1px rgba(0, 0, 0, 0.15);\n",
       "      filter: drop-shadow(0px 1px 2px rgba(0, 0, 0, 0.3));\n",
       "      fill: #FFFFFF;\n",
       "    }\n",
       "  </style>\n",
       "\n",
       "      <script>\n",
       "        const buttonEl =\n",
       "          document.querySelector('#df-64a3d34d-b5bc-4b21-ba42-e94dcc4a5ff6 button.colab-df-convert');\n",
       "        buttonEl.style.display =\n",
       "          google.colab.kernel.accessAllowed ? 'block' : 'none';\n",
       "\n",
       "        async function convertToInteractive(key) {\n",
       "          const element = document.querySelector('#df-64a3d34d-b5bc-4b21-ba42-e94dcc4a5ff6');\n",
       "          const dataTable =\n",
       "            await google.colab.kernel.invokeFunction('convertToInteractive',\n",
       "                                                     [key], {});\n",
       "          if (!dataTable) return;\n",
       "\n",
       "          const docLinkHtml = 'Like what you see? Visit the ' +\n",
       "            '<a target=\"_blank\" href=https://colab.research.google.com/notebooks/data_table.ipynb>data table notebook</a>'\n",
       "            + ' to learn more about interactive tables.';\n",
       "          element.innerHTML = '';\n",
       "          dataTable['output_type'] = 'display_data';\n",
       "          await google.colab.output.renderOutput(dataTable, element);\n",
       "          const docLink = document.createElement('div');\n",
       "          docLink.innerHTML = docLinkHtml;\n",
       "          element.appendChild(docLink);\n",
       "        }\n",
       "      </script>\n",
       "    </div>\n",
       "  </div>\n"
      ]
     },
     "metadata": {},
     "execution_count": 11
    }
   ],
   "source": [
    "# setup target variable\n",
    "target =  ['OBS#','RESPONSE']\n",
    "data_target = data[target]\n",
    "data_target.head()"
   ],
   "metadata": {
    "ExecuteTime": {
     "end_time": "2023-08-11T20:11:13.141267700Z",
     "start_time": "2023-08-11T20:11:13.122268600Z"
    },
    "id": "b59c828452c5e01a",
    "outputId": "00ef8003-00d2-4138-d3f0-1cb89db73338",
    "colab": {
     "base_uri": "https://localhost:8080/",
     "height": 206
    }
   },
   "id": "b59c828452c5e01a"
  },
  {
   "cell_type": "markdown",
   "source": [
    "##### **Explanation**"
   ],
   "metadata": {
    "id": "fIOFv9wD_h6H"
   },
   "id": "fIOFv9wD_h6H"
  },
  {
   "cell_type": "markdown",
   "source": [
    "#### List Numeric Columns"
   ],
   "metadata": {
    "collapsed": false,
    "id": "ad297528b3d4ca0b"
   },
   "id": "ad297528b3d4ca0b"
  },
  {
   "cell_type": "code",
   "execution_count": null,
   "outputs": [
    {
     "output_type": "execute_result",
     "data": {
      "text/plain": [
       "['DURATION', 'AMOUNT', 'INSTALL_RATE', 'AGE', 'NUM_CREDITS', 'NUM_DEPENDENTS']"
      ]
     },
     "metadata": {},
     "execution_count": 12
    }
   ],
   "source": [
    "# list numeric columns\n",
    "numericals =['DURATION', 'AMOUNT',\n",
    "             'INSTALL_RATE', 'AGE', 'NUM_CREDITS', 'NUM_DEPENDENTS']\n",
    "\n",
    "numericals"
   ],
   "metadata": {
    "ExecuteTime": {
     "end_time": "2023-08-11T19:57:28.225404300Z",
     "start_time": "2023-08-11T19:57:28.211402400Z"
    },
    "id": "48ff08c12ace58a3",
    "outputId": "0fe9c59a-5645-4c8f-efc3-0af82ee571c7",
    "colab": {
     "base_uri": "https://localhost:8080/"
    }
   },
   "id": "48ff08c12ace58a3"
  },
  {
   "cell_type": "markdown",
   "source": [
    "##### **Explanation**"
   ],
   "metadata": {
    "collapsed": false,
    "id": "3761f7256818c078"
   },
   "id": "3761f7256818c078"
  },
  {
   "cell_type": "markdown",
   "source": [
    "#### List Categorical Columns"
   ],
   "metadata": {
    "collapsed": false,
    "id": "f3f645af275cc81d"
   },
   "id": "f3f645af275cc81d"
  },
  {
   "cell_type": "code",
   "execution_count": null,
   "outputs": [],
   "source": [
    "# list categorical columns\n",
    "categoricals =['CHK_ACCT', 'HISTORY', 'NEW_CAR', 'USED_CAR',\n",
    "               'FURNITURE', 'RADIO/TV', 'EDUCATION', 'RETRAINING',\n",
    "               'SAV_ACCT', 'EMPLOYMENT', 'MALE_DIV', 'MALE_SINGLE',\n",
    "               'MALE_MAR_or_WID', 'CO-APPLICANT', 'GUARANTOR', 'PRESENT_RESIDENT',\n",
    "               'REAL_ESTATE', 'PROP_UNKN_NONE', 'OTHER_INSTALL', 'RENT',\n",
    "               'OWN_RES', 'JOB', 'TELEPHONE',\n",
    "               'FOREIGN', 'RESPONSE']\n",
    "categoricals"
   ],
   "metadata": {
    "ExecuteTime": {
     "end_time": "2023-08-11T20:05:22.211526Z",
     "start_time": "2023-08-11T20:05:22.196531300Z"
    },
    "id": "38215c865c124941"
   },
   "id": "38215c865c124941"
  },
  {
   "cell_type": "markdown",
   "source": [
    "##### **Explanation**"
   ],
   "metadata": {
    "collapsed": false,
    "id": "6f8ee1121e5f7721"
   },
   "id": "6f8ee1121e5f7721"
  },
  {
   "cell_type": "markdown",
   "source": [
    "#### Check for outliers"
   ],
   "metadata": {
    "collapsed": false,
    "id": "d03904170e7e898"
   },
   "id": "d03904170e7e898"
  },
  {
   "cell_type": "code",
   "execution_count": null,
   "outputs": [
    {
     "output_type": "execute_result",
     "data": {
      "text/plain": [
       "          DURATION        AMOUNT  INSTALL_RATE          AGE  NUM_CREDITS  \\\n",
       "count  1000.000000   1000.000000   1000.000000  1000.000000  1000.000000   \n",
       "mean     20.903000   3271.258000      2.973000    35.546000     1.407000   \n",
       "std      12.058814   2822.736876      1.118715    11.375469     0.577654   \n",
       "min       4.000000    250.000000      1.000000    19.000000     1.000000   \n",
       "25%      12.000000   1365.500000      2.000000    27.000000     1.000000   \n",
       "50%      18.000000   2319.500000      3.000000    33.000000     1.000000   \n",
       "75%      24.000000   3972.250000      4.000000    42.000000     2.000000   \n",
       "max      72.000000  18424.000000      4.000000    75.000000     4.000000   \n",
       "\n",
       "       NUM_DEPENDENTS  \n",
       "count     1000.000000  \n",
       "mean         1.155000  \n",
       "std          0.362086  \n",
       "min          1.000000  \n",
       "25%          1.000000  \n",
       "50%          1.000000  \n",
       "75%          1.000000  \n",
       "max          2.000000  "
      ],
      "text/html": [
       "\n",
       "\n",
       "  <div id=\"df-eef29785-ed62-49f1-aeb4-4c5ecdfde79a\">\n",
       "    <div class=\"colab-df-container\">\n",
       "      <div>\n",
       "<style scoped>\n",
       "    .dataframe tbody tr th:only-of-type {\n",
       "        vertical-align: middle;\n",
       "    }\n",
       "\n",
       "    .dataframe tbody tr th {\n",
       "        vertical-align: top;\n",
       "    }\n",
       "\n",
       "    .dataframe thead th {\n",
       "        text-align: right;\n",
       "    }\n",
       "</style>\n",
       "<table border=\"1\" class=\"dataframe\">\n",
       "  <thead>\n",
       "    <tr style=\"text-align: right;\">\n",
       "      <th></th>\n",
       "      <th>DURATION</th>\n",
       "      <th>AMOUNT</th>\n",
       "      <th>INSTALL_RATE</th>\n",
       "      <th>AGE</th>\n",
       "      <th>NUM_CREDITS</th>\n",
       "      <th>NUM_DEPENDENTS</th>\n",
       "    </tr>\n",
       "  </thead>\n",
       "  <tbody>\n",
       "    <tr>\n",
       "      <th>count</th>\n",
       "      <td>1000.000000</td>\n",
       "      <td>1000.000000</td>\n",
       "      <td>1000.000000</td>\n",
       "      <td>1000.000000</td>\n",
       "      <td>1000.000000</td>\n",
       "      <td>1000.000000</td>\n",
       "    </tr>\n",
       "    <tr>\n",
       "      <th>mean</th>\n",
       "      <td>20.903000</td>\n",
       "      <td>3271.258000</td>\n",
       "      <td>2.973000</td>\n",
       "      <td>35.546000</td>\n",
       "      <td>1.407000</td>\n",
       "      <td>1.155000</td>\n",
       "    </tr>\n",
       "    <tr>\n",
       "      <th>std</th>\n",
       "      <td>12.058814</td>\n",
       "      <td>2822.736876</td>\n",
       "      <td>1.118715</td>\n",
       "      <td>11.375469</td>\n",
       "      <td>0.577654</td>\n",
       "      <td>0.362086</td>\n",
       "    </tr>\n",
       "    <tr>\n",
       "      <th>min</th>\n",
       "      <td>4.000000</td>\n",
       "      <td>250.000000</td>\n",
       "      <td>1.000000</td>\n",
       "      <td>19.000000</td>\n",
       "      <td>1.000000</td>\n",
       "      <td>1.000000</td>\n",
       "    </tr>\n",
       "    <tr>\n",
       "      <th>25%</th>\n",
       "      <td>12.000000</td>\n",
       "      <td>1365.500000</td>\n",
       "      <td>2.000000</td>\n",
       "      <td>27.000000</td>\n",
       "      <td>1.000000</td>\n",
       "      <td>1.000000</td>\n",
       "    </tr>\n",
       "    <tr>\n",
       "      <th>50%</th>\n",
       "      <td>18.000000</td>\n",
       "      <td>2319.500000</td>\n",
       "      <td>3.000000</td>\n",
       "      <td>33.000000</td>\n",
       "      <td>1.000000</td>\n",
       "      <td>1.000000</td>\n",
       "    </tr>\n",
       "    <tr>\n",
       "      <th>75%</th>\n",
       "      <td>24.000000</td>\n",
       "      <td>3972.250000</td>\n",
       "      <td>4.000000</td>\n",
       "      <td>42.000000</td>\n",
       "      <td>2.000000</td>\n",
       "      <td>1.000000</td>\n",
       "    </tr>\n",
       "    <tr>\n",
       "      <th>max</th>\n",
       "      <td>72.000000</td>\n",
       "      <td>18424.000000</td>\n",
       "      <td>4.000000</td>\n",
       "      <td>75.000000</td>\n",
       "      <td>4.000000</td>\n",
       "      <td>2.000000</td>\n",
       "    </tr>\n",
       "  </tbody>\n",
       "</table>\n",
       "</div>\n",
       "      <button class=\"colab-df-convert\" onclick=\"convertToInteractive('df-eef29785-ed62-49f1-aeb4-4c5ecdfde79a')\"\n",
       "              title=\"Convert this dataframe to an interactive table.\"\n",
       "              style=\"display:none;\">\n",
       "\n",
       "  <svg xmlns=\"http://www.w3.org/2000/svg\" height=\"24px\"viewBox=\"0 0 24 24\"\n",
       "       width=\"24px\">\n",
       "    <path d=\"M0 0h24v24H0V0z\" fill=\"none\"/>\n",
       "    <path d=\"M18.56 5.44l.94 2.06.94-2.06 2.06-.94-2.06-.94-.94-2.06-.94 2.06-2.06.94zm-11 1L8.5 8.5l.94-2.06 2.06-.94-2.06-.94L8.5 2.5l-.94 2.06-2.06.94zm10 10l.94 2.06.94-2.06 2.06-.94-2.06-.94-.94-2.06-.94 2.06-2.06.94z\"/><path d=\"M17.41 7.96l-1.37-1.37c-.4-.4-.92-.59-1.43-.59-.52 0-1.04.2-1.43.59L10.3 9.45l-7.72 7.72c-.78.78-.78 2.05 0 2.83L4 21.41c.39.39.9.59 1.41.59.51 0 1.02-.2 1.41-.59l7.78-7.78 2.81-2.81c.8-.78.8-2.07 0-2.86zM5.41 20L4 18.59l7.72-7.72 1.47 1.35L5.41 20z\"/>\n",
       "  </svg>\n",
       "      </button>\n",
       "\n",
       "\n",
       "\n",
       "    <div id=\"df-4fa147ec-575f-4d10-87bd-b40ebfc8c97c\">\n",
       "      <button class=\"colab-df-quickchart\" onclick=\"quickchart('df-4fa147ec-575f-4d10-87bd-b40ebfc8c97c')\"\n",
       "              title=\"Suggest charts.\"\n",
       "              style=\"display:none;\">\n",
       "\n",
       "<svg xmlns=\"http://www.w3.org/2000/svg\" height=\"24px\"viewBox=\"0 0 24 24\"\n",
       "     width=\"24px\">\n",
       "    <g>\n",
       "        <path d=\"M19 3H5c-1.1 0-2 .9-2 2v14c0 1.1.9 2 2 2h14c1.1 0 2-.9 2-2V5c0-1.1-.9-2-2-2zM9 17H7v-7h2v7zm4 0h-2V7h2v10zm4 0h-2v-4h2v4z\"/>\n",
       "    </g>\n",
       "</svg>\n",
       "      </button>\n",
       "    </div>\n",
       "\n",
       "<style>\n",
       "  .colab-df-quickchart {\n",
       "    background-color: #E8F0FE;\n",
       "    border: none;\n",
       "    border-radius: 50%;\n",
       "    cursor: pointer;\n",
       "    display: none;\n",
       "    fill: #1967D2;\n",
       "    height: 32px;\n",
       "    padding: 0 0 0 0;\n",
       "    width: 32px;\n",
       "  }\n",
       "\n",
       "  .colab-df-quickchart:hover {\n",
       "    background-color: #E2EBFA;\n",
       "    box-shadow: 0px 1px 2px rgba(60, 64, 67, 0.3), 0px 1px 3px 1px rgba(60, 64, 67, 0.15);\n",
       "    fill: #174EA6;\n",
       "  }\n",
       "\n",
       "  [theme=dark] .colab-df-quickchart {\n",
       "    background-color: #3B4455;\n",
       "    fill: #D2E3FC;\n",
       "  }\n",
       "\n",
       "  [theme=dark] .colab-df-quickchart:hover {\n",
       "    background-color: #434B5C;\n",
       "    box-shadow: 0px 1px 3px 1px rgba(0, 0, 0, 0.15);\n",
       "    filter: drop-shadow(0px 1px 2px rgba(0, 0, 0, 0.3));\n",
       "    fill: #FFFFFF;\n",
       "  }\n",
       "</style>\n",
       "\n",
       "    <script>\n",
       "      async function quickchart(key) {\n",
       "        const containerElement = document.querySelector('#' + key);\n",
       "        const charts = await google.colab.kernel.invokeFunction(\n",
       "            'suggestCharts', [key], {});\n",
       "      }\n",
       "    </script>\n",
       "\n",
       "      <script>\n",
       "\n",
       "function displayQuickchartButton(domScope) {\n",
       "  let quickchartButtonEl =\n",
       "    domScope.querySelector('#df-4fa147ec-575f-4d10-87bd-b40ebfc8c97c button.colab-df-quickchart');\n",
       "  quickchartButtonEl.style.display =\n",
       "    google.colab.kernel.accessAllowed ? 'block' : 'none';\n",
       "}\n",
       "\n",
       "        displayQuickchartButton(document);\n",
       "      </script>\n",
       "      <style>\n",
       "    .colab-df-container {\n",
       "      display:flex;\n",
       "      flex-wrap:wrap;\n",
       "      gap: 12px;\n",
       "    }\n",
       "\n",
       "    .colab-df-convert {\n",
       "      background-color: #E8F0FE;\n",
       "      border: none;\n",
       "      border-radius: 50%;\n",
       "      cursor: pointer;\n",
       "      display: none;\n",
       "      fill: #1967D2;\n",
       "      height: 32px;\n",
       "      padding: 0 0 0 0;\n",
       "      width: 32px;\n",
       "    }\n",
       "\n",
       "    .colab-df-convert:hover {\n",
       "      background-color: #E2EBFA;\n",
       "      box-shadow: 0px 1px 2px rgba(60, 64, 67, 0.3), 0px 1px 3px 1px rgba(60, 64, 67, 0.15);\n",
       "      fill: #174EA6;\n",
       "    }\n",
       "\n",
       "    [theme=dark] .colab-df-convert {\n",
       "      background-color: #3B4455;\n",
       "      fill: #D2E3FC;\n",
       "    }\n",
       "\n",
       "    [theme=dark] .colab-df-convert:hover {\n",
       "      background-color: #434B5C;\n",
       "      box-shadow: 0px 1px 3px 1px rgba(0, 0, 0, 0.15);\n",
       "      filter: drop-shadow(0px 1px 2px rgba(0, 0, 0, 0.3));\n",
       "      fill: #FFFFFF;\n",
       "    }\n",
       "  </style>\n",
       "\n",
       "      <script>\n",
       "        const buttonEl =\n",
       "          document.querySelector('#df-eef29785-ed62-49f1-aeb4-4c5ecdfde79a button.colab-df-convert');\n",
       "        buttonEl.style.display =\n",
       "          google.colab.kernel.accessAllowed ? 'block' : 'none';\n",
       "\n",
       "        async function convertToInteractive(key) {\n",
       "          const element = document.querySelector('#df-eef29785-ed62-49f1-aeb4-4c5ecdfde79a');\n",
       "          const dataTable =\n",
       "            await google.colab.kernel.invokeFunction('convertToInteractive',\n",
       "                                                     [key], {});\n",
       "          if (!dataTable) return;\n",
       "\n",
       "          const docLinkHtml = 'Like what you see? Visit the ' +\n",
       "            '<a target=\"_blank\" href=https://colab.research.google.com/notebooks/data_table.ipynb>data table notebook</a>'\n",
       "            + ' to learn more about interactive tables.';\n",
       "          element.innerHTML = '';\n",
       "          dataTable['output_type'] = 'display_data';\n",
       "          await google.colab.output.renderOutput(dataTable, element);\n",
       "          const docLink = document.createElement('div');\n",
       "          docLink.innerHTML = docLinkHtml;\n",
       "          element.appendChild(docLink);\n",
       "        }\n",
       "      </script>\n",
       "    </div>\n",
       "  </div>\n"
      ]
     },
     "metadata": {},
     "execution_count": 28
    }
   ],
   "source": [
    "# check for outliers\n",
    "data[numericals].describe()"
   ],
   "metadata": {
    "ExecuteTime": {
     "end_time": "2023-08-11T19:57:40.992392700Z",
     "start_time": "2023-08-11T19:57:40.946396800Z"
    },
    "id": "b1f1bc84aff551a8",
    "outputId": "323152f5-56ba-4fcd-b419-f3ca061a6a28",
    "colab": {
     "base_uri": "https://localhost:8080/",
     "height": 300
    }
   },
   "id": "b1f1bc84aff551a8"
  },
  {
   "cell_type": "code",
   "source": [
    "data[numericals].skew()"
   ],
   "metadata": {
    "colab": {
     "base_uri": "https://localhost:8080/"
    },
    "id": "0dSPGiRrFATA",
    "outputId": "1afcc7ae-7940-4682-ca69-2910cd7c4ae8"
   },
   "id": "0dSPGiRrFATA",
   "execution_count": null,
   "outputs": [
    {
     "output_type": "execute_result",
     "data": {
      "text/plain": [
       "DURATION          1.094184\n",
       "AMOUNT            1.949628\n",
       "INSTALL_RATE     -0.531348\n",
       "AGE               1.020739\n",
       "NUM_CREDITS       1.272576\n",
       "NUM_DEPENDENTS    1.909445\n",
       "dtype: float64"
      ]
     },
     "metadata": {},
     "execution_count": 27
    }
   ]
  },
  {
   "cell_type": "markdown",
   "source": [
    "##### **Explanation**"
   ],
   "metadata": {
    "collapsed": false,
    "id": "8e5c2b3ab6c7b8"
   },
   "id": "8e5c2b3ab6c7b8"
  },
  {
   "cell_type": "markdown",
   "source": [
    "#### Check for data distribution for numerical variables"
   ],
   "metadata": {
    "collapsed": false,
    "id": "6bf9bfbff423ef4d"
   },
   "id": "6bf9bfbff423ef4d"
  },
  {
   "cell_type": "code",
   "execution_count": null,
   "outputs": [
    {
     "output_type": "execute_result",
     "data": {
      "text/plain": [
       "array([[<Axes: title={'center': 'DURATION'}>,\n",
       "        <Axes: title={'center': 'AMOUNT'}>],\n",
       "       [<Axes: title={'center': 'INSTALL_RATE'}>,\n",
       "        <Axes: title={'center': 'AGE'}>],\n",
       "       [<Axes: title={'center': 'NUM_CREDITS'}>,\n",
       "        <Axes: title={'center': 'NUM_DEPENDENTS'}>]], dtype=object)"
      ]
     },
     "metadata": {},
     "execution_count": 29
    },
    {
     "output_type": "display_data",
     "data": {
      "text/plain": [
       "<Figure size 2000x2000 with 6 Axes>"
      ],
      "image/png": "[encoded data removed]"
     },
     "metadata": {}
    }
   ],
   "source": [
    "# check for data distribution for numerical variables\n",
    "data[numericals].hist(figsize=(20,20))"
   ],
   "metadata": {
    "ExecuteTime": {
     "end_time": "2023-08-11T19:58:39.774318100Z",
     "start_time": "2023-08-11T19:58:37.384707200Z"
    },
    "id": "6aad1ff00b6368e8",
    "outputId": "7805e2dc-2770-4125-a2e8-9e38d56be3e1",
    "colab": {
     "base_uri": "https://localhost:8080/",
     "height": 1000
    }
   },
   "id": "6aad1ff00b6368e8"
  },
  {
   "cell_type": "markdown",
   "source": [
    "##### **Explanation**"
   ],
   "metadata": {
    "collapsed": false,
    "id": "98bd956b1bd495ff"
   },
   "id": "98bd956b1bd495ff"
  },
  {
   "cell_type": "markdown",
   "source": [
    "#### Check for correlation between variables"
   ],
   "metadata": {
    "collapsed": false,
    "id": "e37b94a7ad6400e1"
   },
   "id": "e37b94a7ad6400e1"
  },
  {
   "cell_type": "code",
   "execution_count": null,
   "outputs": [],
   "source": [
    "# check for correlation between variables\n",
    "data[numericals].corr()"
   ],
   "metadata": {
    "ExecuteTime": {
     "end_time": "2023-08-11T19:41:33.464667200Z",
     "start_time": "2023-08-11T19:41:33.415655600Z"
    },
    "id": "47222223d5fddc2"
   },
   "id": "47222223d5fddc2"
  },
  {
   "cell_type": "markdown",
   "source": [
    "##### **Explanation**"
   ],
   "metadata": {
    "collapsed": false,
    "id": "79ab7e835f0852f4"
   },
   "id": "79ab7e835f0852f4"
  },
  {
   "cell_type": "markdown",
   "source": [
    "#### Check for multicollinearity"
   ],
   "metadata": {
    "collapsed": false,
    "id": "828affec539761d3"
   },
   "id": "828affec539761d3"
  },
  {
   "cell_type": "code",
   "execution_count": null,
   "outputs": [],
   "source": [
    "# check for multicollinearity\n",
    "plt.figure(figsize=(20,20))\n",
    "sns.heatmap(data[numericals].corr(), annot=True)"
   ],
   "metadata": {
    "ExecuteTime": {
     "end_time": "2023-08-11T20:12:24.876399300Z",
     "start_time": "2023-08-11T20:12:24.181406300Z"
    },
    "id": "ffb245f498bf4ff3"
   },
   "id": "ffb245f498bf4ff3"
  },
  {
   "cell_type": "markdown",
   "source": [
    "##### **Explanation**"
   ],
   "metadata": {
    "collapsed": false,
    "id": "19bb280772357569"
   },
   "id": "19bb280772357569"
  },
  {
   "cell_type": "markdown",
   "source": [
    "#### Check for data distribution for target variable"
   ],
   "metadata": {
    "collapsed": false,
    "id": "a3bd2f9ddbb34b6f"
   },
   "id": "a3bd2f9ddbb34b6f"
  },
  {
   "cell_type": "code",
   "execution_count": null,
   "outputs": [
    {
     "output_type": "execute_result",
     "data": {
      "text/plain": [
       "1    700\n",
       "0    300\n",
       "Name: RESPONSE, dtype: int64"
      ]
     },
     "metadata": {},
     "execution_count": 15
    }
   ],
   "source": [
    "# check for data distribution for target variable\n",
    "data_target['RESPONSE'].value_counts()"
   ],
   "metadata": {
    "ExecuteTime": {
     "end_time": "2023-08-11T20:14:21.874844100Z",
     "start_time": "2023-08-11T20:14:21.863841Z"
    },
    "id": "2054eb17d3979589",
    "outputId": "8443783d-9848-43f8-a88f-f9d0c1c6dd15",
    "colab": {
     "base_uri": "https://localhost:8080/"
    }
   },
   "id": "2054eb17d3979589"
  },
  {
   "cell_type": "markdown",
   "source": [
    "##### **Explanation**"
   ],
   "metadata": {
    "collapsed": false,
    "id": "a01bba6fa918d13f"
   },
   "id": "a01bba6fa918d13f"
  },
  {
   "cell_type": "markdown",
   "source": [
    "#### Check for Counts for Categorical variables"
   ],
   "metadata": {
    "collapsed": false,
    "id": "c09bc2b087f69861"
   },
   "id": "c09bc2b087f69861"
  },
  {
   "cell_type": "code",
   "execution_count": null,
   "outputs": [],
   "source": [
    "# check for counts for categorical variables\n",
    "for i in categoricals:\n",
    "    print(data[i].value_counts())"
   ],
   "metadata": {
    "ExecuteTime": {
     "end_time": "2023-08-11T20:23:11.910056Z",
     "start_time": "2023-08-11T20:23:11.889083400Z"
    },
    "id": "5960993ab4d025"
   },
   "id": "5960993ab4d025"
  },
  {
   "cell_type": "markdown",
   "source": [
    "##### **Explanation**"
   ],
   "metadata": {
    "collapsed": false,
    "id": "38b88fa8fe1a1c00"
   },
   "id": "38b88fa8fe1a1c00"
  },
  {
   "cell_type": "markdown",
   "source": [
    "#### Get dummy variables for categorical variables"
   ],
   "metadata": {
    "collapsed": false,
    "id": "bc6ff63bd3aa10f"
   },
   "id": "bc6ff63bd3aa10f"
  },
  {
   "cell_type": "code",
   "execution_count": null,
   "outputs": [
    {
     "output_type": "execute_result",
     "data": {
      "text/plain": [
       "   OBS#  DURATION  AMOUNT  INSTALL_RATE  AGE  NUM_CREDITS  NUM_DEPENDENTS  \\\n",
       "0     1         6    1169             4   67            2               1   \n",
       "1     2        48    5951             2   22            1               1   \n",
       "2     3        12    2096             2   49            1               2   \n",
       "3     4        42    7882             2   45            1               2   \n",
       "4     5        24    4870             3   53            2               2   \n",
       "\n",
       "   CHK_ACCT_1  CHK_ACCT_2  CHK_ACCT_3  ...  PROP_UNKN_NONE_1  OTHER_INSTALL_1  \\\n",
       "0           0           0           0  ...                 0                0   \n",
       "1           1           0           0  ...                 0                0   \n",
       "2           0           0           1  ...                 0                0   \n",
       "3           0           0           0  ...                 0                0   \n",
       "4           0           0           0  ...                 1                0   \n",
       "\n",
       "   RENT_1  OWN_RES_1  JOB_1  JOB_2  JOB_3  TELEPHONE_1  FOREIGN_1  RESPONSE_1  \n",
       "0       0          1      0      1      0            1          0           1  \n",
       "1       0          1      0      1      0            0          0           0  \n",
       "2       0          1      1      0      0            0          0           1  \n",
       "3       0          0      0      1      0            0          0           1  \n",
       "4       0          0      0      1      0            0          0           0  \n",
       "\n",
       "[5 rows x 47 columns]"
      ],
      "text/html": [
       "\n",
       "\n",
       "  <div id=\"df-0ca825b2-aab5-4600-a8a3-88d3ba804771\">\n",
       "    <div class=\"colab-df-container\">\n",
       "      <div>\n",
       "<style scoped>\n",
       "    .dataframe tbody tr th:only-of-type {\n",
       "        vertical-align: middle;\n",
       "    }\n",
       "\n",
       "    .dataframe tbody tr th {\n",
       "        vertical-align: top;\n",
       "    }\n",
       "\n",
       "    .dataframe thead th {\n",
       "        text-align: right;\n",
       "    }\n",
       "</style>\n",
       "<table border=\"1\" class=\"dataframe\">\n",
       "  <thead>\n",
       "    <tr style=\"text-align: right;\">\n",
       "      <th></th>\n",
       "      <th>OBS#</th>\n",
       "      <th>DURATION</th>\n",
       "      <th>AMOUNT</th>\n",
       "      <th>INSTALL_RATE</th>\n",
       "      <th>AGE</th>\n",
       "      <th>NUM_CREDITS</th>\n",
       "      <th>NUM_DEPENDENTS</th>\n",
       "      <th>CHK_ACCT_1</th>\n",
       "      <th>CHK_ACCT_2</th>\n",
       "      <th>CHK_ACCT_3</th>\n",
       "      <th>...</th>\n",
       "      <th>PROP_UNKN_NONE_1</th>\n",
       "      <th>OTHER_INSTALL_1</th>\n",
       "      <th>RENT_1</th>\n",
       "      <th>OWN_RES_1</th>\n",
       "      <th>JOB_1</th>\n",
       "      <th>JOB_2</th>\n",
       "      <th>JOB_3</th>\n",
       "      <th>TELEPHONE_1</th>\n",
       "      <th>FOREIGN_1</th>\n",
       "      <th>RESPONSE_1</th>\n",
       "    </tr>\n",
       "  </thead>\n",
       "  <tbody>\n",
       "    <tr>\n",
       "      <th>0</th>\n",
       "      <td>1</td>\n",
       "      <td>6</td>\n",
       "      <td>1169</td>\n",
       "      <td>4</td>\n",
       "      <td>67</td>\n",
       "      <td>2</td>\n",
       "      <td>1</td>\n",
       "      <td>0</td>\n",
       "      <td>0</td>\n",
       "      <td>0</td>\n",
       "      <td>...</td>\n",
       "      <td>0</td>\n",
       "      <td>0</td>\n",
       "      <td>0</td>\n",
       "      <td>1</td>\n",
       "      <td>0</td>\n",
       "      <td>1</td>\n",
       "      <td>0</td>\n",
       "      <td>1</td>\n",
       "      <td>0</td>\n",
       "      <td>1</td>\n",
       "    </tr>\n",
       "    <tr>\n",
       "      <th>1</th>\n",
       "      <td>2</td>\n",
       "      <td>48</td>\n",
       "      <td>5951</td>\n",
       "      <td>2</td>\n",
       "      <td>22</td>\n",
       "      <td>1</td>\n",
       "      <td>1</td>\n",
       "      <td>1</td>\n",
       "      <td>0</td>\n",
       "      <td>0</td>\n",
       "      <td>...</td>\n",
       "      <td>0</td>\n",
       "      <td>0</td>\n",
       "      <td>0</td>\n",
       "      <td>1</td>\n",
       "      <td>0</td>\n",
       "      <td>1</td>\n",
       "      <td>0</td>\n",
       "      <td>0</td>\n",
       "      <td>0</td>\n",
       "      <td>0</td>\n",
       "    </tr>\n",
       "    <tr>\n",
       "      <th>2</th>\n",
       "      <td>3</td>\n",
       "      <td>12</td>\n",
       "      <td>2096</td>\n",
       "      <td>2</td>\n",
       "      <td>49</td>\n",
       "      <td>1</td>\n",
       "      <td>2</td>\n",
       "      <td>0</td>\n",
       "      <td>0</td>\n",
       "      <td>1</td>\n",
       "      <td>...</td>\n",
       "      <td>0</td>\n",
       "      <td>0</td>\n",
       "      <td>0</td>\n",
       "      <td>1</td>\n",
       "      <td>1</td>\n",
       "      <td>0</td>\n",
       "      <td>0</td>\n",
       "      <td>0</td>\n",
       "      <td>0</td>\n",
       "      <td>1</td>\n",
       "    </tr>\n",
       "    <tr>\n",
       "      <th>3</th>\n",
       "      <td>4</td>\n",
       "      <td>42</td>\n",
       "      <td>7882</td>\n",
       "      <td>2</td>\n",
       "      <td>45</td>\n",
       "      <td>1</td>\n",
       "      <td>2</td>\n",
       "      <td>0</td>\n",
       "      <td>0</td>\n",
       "      <td>0</td>\n",
       "      <td>...</td>\n",
       "      <td>0</td>\n",
       "      <td>0</td>\n",
       "      <td>0</td>\n",
       "      <td>0</td>\n",
       "      <td>0</td>\n",
       "      <td>1</td>\n",
       "      <td>0</td>\n",
       "      <td>0</td>\n",
       "      <td>0</td>\n",
       "      <td>1</td>\n",
       "    </tr>\n",
       "    <tr>\n",
       "      <th>4</th>\n",
       "      <td>5</td>\n",
       "      <td>24</td>\n",
       "      <td>4870</td>\n",
       "      <td>3</td>\n",
       "      <td>53</td>\n",
       "      <td>2</td>\n",
       "      <td>2</td>\n",
       "      <td>0</td>\n",
       "      <td>0</td>\n",
       "      <td>0</td>\n",
       "      <td>...</td>\n",
       "      <td>1</td>\n",
       "      <td>0</td>\n",
       "      <td>0</td>\n",
       "      <td>0</td>\n",
       "      <td>0</td>\n",
       "      <td>1</td>\n",
       "      <td>0</td>\n",
       "      <td>0</td>\n",
       "      <td>0</td>\n",
       "      <td>0</td>\n",
       "    </tr>\n",
       "  </tbody>\n",
       "</table>\n",
       "<p>5 rows × 47 columns</p>\n",
       "</div>\n",
       "      <button class=\"colab-df-convert\" onclick=\"convertToInteractive('df-0ca825b2-aab5-4600-a8a3-88d3ba804771')\"\n",
       "              title=\"Convert this dataframe to an interactive table.\"\n",
       "              style=\"display:none;\">\n",
       "\n",
       "  <svg xmlns=\"http://www.w3.org/2000/svg\" height=\"24px\"viewBox=\"0 0 24 24\"\n",
       "       width=\"24px\">\n",
       "    <path d=\"M0 0h24v24H0V0z\" fill=\"none\"/>\n",
       "    <path d=\"M18.56 5.44l.94 2.06.94-2.06 2.06-.94-2.06-.94-.94-2.06-.94 2.06-2.06.94zm-11 1L8.5 8.5l.94-2.06 2.06-.94-2.06-.94L8.5 2.5l-.94 2.06-2.06.94zm10 10l.94 2.06.94-2.06 2.06-.94-2.06-.94-.94-2.06-.94 2.06-2.06.94z\"/><path d=\"M17.41 7.96l-1.37-1.37c-.4-.4-.92-.59-1.43-.59-.52 0-1.04.2-1.43.59L10.3 9.45l-7.72 7.72c-.78.78-.78 2.05 0 2.83L4 21.41c.39.39.9.59 1.41.59.51 0 1.02-.2 1.41-.59l7.78-7.78 2.81-2.81c.8-.78.8-2.07 0-2.86zM5.41 20L4 18.59l7.72-7.72 1.47 1.35L5.41 20z\"/>\n",
       "  </svg>\n",
       "      </button>\n",
       "\n",
       "\n",
       "\n",
       "    <div id=\"df-be2ee120-14c6-4eb9-85e2-2ba58896ad45\">\n",
       "      <button class=\"colab-df-quickchart\" onclick=\"quickchart('df-be2ee120-14c6-4eb9-85e2-2ba58896ad45')\"\n",
       "              title=\"Suggest charts.\"\n",
       "              style=\"display:none;\">\n",
       "\n",
       "<svg xmlns=\"http://www.w3.org/2000/svg\" height=\"24px\"viewBox=\"0 0 24 24\"\n",
       "     width=\"24px\">\n",
       "    <g>\n",
       "        <path d=\"M19 3H5c-1.1 0-2 .9-2 2v14c0 1.1.9 2 2 2h14c1.1 0 2-.9 2-2V5c0-1.1-.9-2-2-2zM9 17H7v-7h2v7zm4 0h-2V7h2v10zm4 0h-2v-4h2v4z\"/>\n",
       "    </g>\n",
       "</svg>\n",
       "      </button>\n",
       "    </div>\n",
       "\n",
       "<style>\n",
       "  .colab-df-quickchart {\n",
       "    background-color: #E8F0FE;\n",
       "    border: none;\n",
       "    border-radius: 50%;\n",
       "    cursor: pointer;\n",
       "    display: none;\n",
       "    fill: #1967D2;\n",
       "    height: 32px;\n",
       "    padding: 0 0 0 0;\n",
       "    width: 32px;\n",
       "  }\n",
       "\n",
       "  .colab-df-quickchart:hover {\n",
       "    background-color: #E2EBFA;\n",
       "    box-shadow: 0px 1px 2px rgba(60, 64, 67, 0.3), 0px 1px 3px 1px rgba(60, 64, 67, 0.15);\n",
       "    fill: #174EA6;\n",
       "  }\n",
       "\n",
       "  [theme=dark] .colab-df-quickchart {\n",
       "    background-color: #3B4455;\n",
       "    fill: #D2E3FC;\n",
       "  }\n",
       "\n",
       "  [theme=dark] .colab-df-quickchart:hover {\n",
       "    background-color: #434B5C;\n",
       "    box-shadow: 0px 1px 3px 1px rgba(0, 0, 0, 0.15);\n",
       "    filter: drop-shadow(0px 1px 2px rgba(0, 0, 0, 0.3));\n",
       "    fill: #FFFFFF;\n",
       "  }\n",
       "</style>\n",
       "\n",
       "    <script>\n",
       "      async function quickchart(key) {\n",
       "        const containerElement = document.querySelector('#' + key);\n",
       "        const charts = await google.colab.kernel.invokeFunction(\n",
       "            'suggestCharts', [key], {});\n",
       "      }\n",
       "    </script>\n",
       "\n",
       "      <script>\n",
       "\n",
       "function displayQuickchartButton(domScope) {\n",
       "  let quickchartButtonEl =\n",
       "    domScope.querySelector('#df-be2ee120-14c6-4eb9-85e2-2ba58896ad45 button.colab-df-quickchart');\n",
       "  quickchartButtonEl.style.display =\n",
       "    google.colab.kernel.accessAllowed ? 'block' : 'none';\n",
       "}\n",
       "\n",
       "        displayQuickchartButton(document);\n",
       "      </script>\n",
       "      <style>\n",
       "    .colab-df-container {\n",
       "      display:flex;\n",
       "      flex-wrap:wrap;\n",
       "      gap: 12px;\n",
       "    }\n",
       "\n",
       "    .colab-df-convert {\n",
       "      background-color: #E8F0FE;\n",
       "      border: none;\n",
       "      border-radius: 50%;\n",
       "      cursor: pointer;\n",
       "      display: none;\n",
       "      fill: #1967D2;\n",
       "      height: 32px;\n",
       "      padding: 0 0 0 0;\n",
       "      width: 32px;\n",
       "    }\n",
       "\n",
       "    .colab-df-convert:hover {\n",
       "      background-color: #E2EBFA;\n",
       "      box-shadow: 0px 1px 2px rgba(60, 64, 67, 0.3), 0px 1px 3px 1px rgba(60, 64, 67, 0.15);\n",
       "      fill: #174EA6;\n",
       "    }\n",
       "\n",
       "    [theme=dark] .colab-df-convert {\n",
       "      background-color: #3B4455;\n",
       "      fill: #D2E3FC;\n",
       "    }\n",
       "\n",
       "    [theme=dark] .colab-df-convert:hover {\n",
       "      background-color: #434B5C;\n",
       "      box-shadow: 0px 1px 3px 1px rgba(0, 0, 0, 0.15);\n",
       "      filter: drop-shadow(0px 1px 2px rgba(0, 0, 0, 0.3));\n",
       "      fill: #FFFFFF;\n",
       "    }\n",
       "  </style>\n",
       "\n",
       "      <script>\n",
       "        const buttonEl =\n",
       "          document.querySelector('#df-0ca825b2-aab5-4600-a8a3-88d3ba804771 button.colab-df-convert');\n",
       "        buttonEl.style.display =\n",
       "          google.colab.kernel.accessAllowed ? 'block' : 'none';\n",
       "\n",
       "        async function convertToInteractive(key) {\n",
       "          const element = document.querySelector('#df-0ca825b2-aab5-4600-a8a3-88d3ba804771');\n",
       "          const dataTable =\n",
       "            await google.colab.kernel.invokeFunction('convertToInteractive',\n",
       "                                                     [key], {});\n",
       "          if (!dataTable) return;\n",
       "\n",
       "          const docLinkHtml = 'Like what you see? Visit the ' +\n",
       "            '<a target=\"_blank\" href=https://colab.research.google.com/notebooks/data_table.ipynb>data table notebook</a>'\n",
       "            + ' to learn more about interactive tables.';\n",
       "          element.innerHTML = '';\n",
       "          dataTable['output_type'] = 'display_data';\n",
       "          await google.colab.output.renderOutput(dataTable, element);\n",
       "          const docLink = document.createElement('div');\n",
       "          docLink.innerHTML = docLinkHtml;\n",
       "          element.appendChild(docLink);\n",
       "        }\n",
       "      </script>\n",
       "    </div>\n",
       "  </div>\n"
      ]
     },
     "metadata": {},
     "execution_count": 17
    }
   ],
   "source": [
    "# get dummy variables for categorical variables\n",
    "data_with_dummies = pd.get_dummies(data, columns=categoricals, drop_first=True)\n",
    "data_with_dummies.head()"
   ],
   "metadata": {
    "ExecuteTime": {
     "end_time": "2023-08-11T20:07:05.669442800Z",
     "start_time": "2023-08-11T20:07:05.606484500Z"
    },
    "id": "c2d6e056a10c4526",
    "outputId": "27a64458-7bdf-417a-c651-2d270e3bdee2",
    "colab": {
     "base_uri": "https://localhost:8080/",
     "height": 300
    }
   },
   "id": "c2d6e056a10c4526"
  },
  {
   "cell_type": "markdown",
   "source": [
    "##### **Explanation**"
   ],
   "metadata": {
    "collapsed": false,
    "id": "c07619169ab320eb"
   },
   "id": "c07619169ab320eb"
  },
  {
   "cell_type": "markdown",
   "source": [
    "#### Plot and Describe the data\n"
   ],
   "metadata": {
    "collapsed": false,
    "id": "65a6c3a13e978b78"
   },
   "id": "65a6c3a13e978b78"
  },
  {
   "cell_type": "code",
   "execution_count": null,
   "outputs": [],
   "source": [
    "data[categoricals].hist(figsize=(20,20))\n",
    "plt.show()"
   ],
   "metadata": {
    "ExecuteTime": {
     "end_time": "2023-08-11T20:19:55.190456400Z",
     "start_time": "2023-08-11T20:19:48.040514400Z"
    },
    "id": "43212740db35fb98"
   },
   "id": "43212740db35fb98"
  },
  {
   "cell_type": "markdown",
   "source": [
    "##### **Explanation**"
   ],
   "metadata": {
    "collapsed": false,
    "id": "d044aa20365bf7cd"
   },
   "id": "d044aa20365bf7cd"
  },
  {
   "cell_type": "markdown",
   "source": [
    "# Model building"
   ],
   "metadata": {
    "collapsed": false,
    "id": "ad42e9140679ad37"
   },
   "id": "ad42e9140679ad37"
  },
  {
   "cell_type": "markdown",
   "source": [
    "#### Prepare the Data for modeling"
   ],
   "metadata": {
    "id": "FJjn-bmf7l2s"
   },
   "id": "FJjn-bmf7l2s"
  },
  {
   "cell_type": "code",
   "source": [
    "# Split the data for Test and Training\n",
    "\n",
    "# split data\n",
    "X_train, X_test, y_train, y_test = train_test_split(data.drop(['OBS#','RESPONSE'], axis=1),\n",
    "                                                    data['RESPONSE'],\n",
    "                                                    test_size=0.3,\n",
    "                                                    random_state=0)\n",
    "\n",
    "# categorical columns\n",
    "cols = ['CHK_ACCT', 'HISTORY', 'NEW_CAR', 'USED_CAR',\n",
    "               'FURNITURE', 'RADIO/TV', 'EDUCATION', 'RETRAINING',\n",
    "               'SAV_ACCT', 'EMPLOYMENT', 'MALE_DIV', 'MALE_SINGLE',\n",
    "               'MALE_MAR_or_WID', 'CO-APPLICANT', 'GUARANTOR', 'PRESENT_RESIDENT',\n",
    "               'REAL_ESTATE', 'PROP_UNKN_NONE', 'OTHER_INSTALL', 'RENT',\n",
    "               'OWN_RES', 'JOB', 'TELEPHONE',\n",
    "               'FOREIGN']\n",
    "# get the dummies for categorical data\n",
    "x_train = pd.get_dummies(X_train, columns=cols, drop_first=True)\n",
    "Y_train = pd.get_dummies(y_train, columns=cols, drop_first=True)\n",
    "x_test = pd.get_dummies(X_test, columns=cols, drop_first=True)\n",
    "Y_test = pd.get_dummies(y_test, columns=cols, drop_first=True)\n"
   ],
   "metadata": {
    "id": "h5xNSuUZ7izd"
   },
   "id": "h5xNSuUZ7izd",
   "execution_count": null,
   "outputs": []
  },
  {
   "cell_type": "markdown",
   "source": [
    "##### **Explanation**"
   ],
   "metadata": {
    "id": "gr9mNDqjAsmm"
   },
   "id": "gr9mNDqjAsmm"
  },
  {
   "cell_type": "markdown",
   "source": [
    "#### Modeling using the LogisticRegression Classifier"
   ],
   "metadata": {
    "id": "E5q8gbQC8PXZ"
   },
   "id": "E5q8gbQC8PXZ"
  },
  {
   "cell_type": "code",
   "execution_count": null,
   "outputs": [
    {
     "output_type": "stream",
     "name": "stdout",
     "text": [
      "[[ 43  43]\n",
      " [ 30 184]]\n",
      "              precision    recall  f1-score   support\n",
      "\n",
      "           0       0.59      0.50      0.54        86\n",
      "           1       0.81      0.86      0.83       214\n",
      "\n",
      "    accuracy                           0.76       300\n",
      "   macro avg       0.70      0.68      0.69       300\n",
      "weighted avg       0.75      0.76      0.75       300\n",
      "\n"
     ]
    },
    {
     "output_type": "stream",
     "name": "stderr",
     "text": [
      "/usr/local/lib/python3.10/dist-packages/sklearn/utils/validation.py:1143: DataConversionWarning: A column-vector y was passed when a 1d array was expected. Please change the shape of y to (n_samples, ), for example using ravel().\n",
      "  y = column_or_1d(y, warn=True)\n",
      "/usr/local/lib/python3.10/dist-packages/sklearn/linear_model/_logistic.py:458: ConvergenceWarning: lbfgs failed to converge (status=1):\n",
      "STOP: TOTAL NO. of ITERATIONS REACHED LIMIT.\n",
      "\n",
      "Increase the number of iterations (max_iter) or scale the data as shown in:\n",
      "    https://scikit-learn.org/stable/modules/preprocessing.html\n",
      "Please also refer to the documentation for alternative solver options:\n",
      "    https://scikit-learn.org/stable/modules/linear_model.html#logistic-regression\n",
      "  n_iter_i = _check_optimize_result(\n"
     ]
    }
   ],
   "source": [
    "# model building\n",
    "# model\n",
    "model = LogisticRegression()\n",
    "# fit model\n",
    "model.fit(x_train, Y_train)\n",
    "\n",
    "# test model\n",
    "y_pred = model.predict(x_test)\n",
    "\n",
    "# evaluate model\n",
    "print(confusion_matrix(Y_test, y_pred))\n",
    "print(classification_report(Y_test, y_pred))"
   ],
   "metadata": {
    "id": "7294508d1eaa9303",
    "outputId": "f8e8219b-91e1-4a2b-e4dc-ac1067e95b52",
    "colab": {
     "base_uri": "https://localhost:8080/"
    }
   },
   "id": "7294508d1eaa9303"
  },
  {
   "cell_type": "markdown",
   "source": [
    "##### **Explanation**"
   ],
   "metadata": {
    "id": "vqDaocpBAxKP"
   },
   "id": "vqDaocpBAxKP"
  },
  {
   "cell_type": "markdown",
   "source": [
    "#### Modeling using K-nearest Neighbours (KNN)"
   ],
   "metadata": {
    "id": "VOOWo0S05cQq"
   },
   "id": "VOOWo0S05cQq"
  },
  {
   "cell_type": "code",
   "source": [
    "# model\n",
    "knn = KNeighborsClassifier()\n",
    "\n",
    "# fit the model\n",
    "\n",
    "knn.fit(x_train, Y_train)\n",
    "\n",
    "# test model\n",
    "\n",
    "pred = knn.predict(x_test)\n",
    "\n",
    "# evaluate the model\n",
    "print(confusion_matrix(Y_test, pred))\n",
    "print(classification_report(Y_test, pred))\n",
    "\n"
   ],
   "metadata": {
    "colab": {
     "base_uri": "https://localhost:8080/"
    },
    "id": "pqxNL_EU5k_j",
    "outputId": "df0f04cc-2e2f-47cf-e50a-066ae689f634"
   },
   "id": "pqxNL_EU5k_j",
   "execution_count": null,
   "outputs": [
    {
     "output_type": "stream",
     "name": "stdout",
     "text": [
      "[[ 23  63]\n",
      " [ 35 179]]\n",
      "              precision    recall  f1-score   support\n",
      "\n",
      "           0       0.40      0.27      0.32        86\n",
      "           1       0.74      0.84      0.79       214\n",
      "\n",
      "    accuracy                           0.67       300\n",
      "   macro avg       0.57      0.55      0.55       300\n",
      "weighted avg       0.64      0.67      0.65       300\n",
      "\n"
     ]
    },
    {
     "output_type": "stream",
     "name": "stderr",
     "text": [
      "/usr/local/lib/python3.10/dist-packages/sklearn/neighbors/_classification.py:215: DataConversionWarning: A column-vector y was passed when a 1d array was expected. Please change the shape of y to (n_samples,), for example using ravel().\n",
      "  return self._fit(X, y)\n"
     ]
    }
   ]
  },
  {
   "cell_type": "markdown",
   "source": [
    "##### **Explanation**"
   ],
   "metadata": {
    "id": "YK7QP10RAysg"
   },
   "id": "YK7QP10RAysg"
  }
 ],
 "metadata": {
  "kernelspec": {
   "display_name": "Python 3",
   "language": "python",
   "name": "python3"
  },
  "language_info": {
   "codemirror_mode": {
    "name": "ipython",
    "version": 2
   },
   "file_extension": ".py",
   "mimetype": "text/x-python",
   "name": "python",
   "nbconvert_exporter": "python",
   "pygments_lexer": "ipython2",
   "version": "2.7.6"
  },
  "colab": {
   "provenance": []
  }
 },
 "nbformat": 4,
 "nbformat_minor": 5
}
