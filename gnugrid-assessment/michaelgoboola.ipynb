{
 "cells": [
  {
   "cell_type": "code",
   "execution_count": null,
   "id": "initial_id",
   "metadata": {
    "collapsed": true
   },
   "outputs": [],
   "source": [
    "%%Capture\n",
    "!pip install pandas\n",
    "!pip install numpy\n",
    "!pip install matplotlib\n",
    "!pip install seaborn\n",
    "!pip install sklearn\n",
    "!pip install scipy\n",
    "!pip install statsmodels\n",
    "!pip install xgboost\n",
    "!pip install lightgbm\n",
    "!pip install google-colab\n"
   ]
  },
  {
   "cell_type": "markdown",
   "source": [
    "# Importing libraries\n"
   ],
   "metadata": {
    "collapsed": false
   },
   "id": "12bd2958bfe19e9b"
  },
  {
   "cell_type": "code",
   "execution_count": null,
   "outputs": [],
   "source": [
    "import pandas as pd\n",
    "import numpy as np\n",
    "import matplotlib.pyplot as plt\n",
    "import seaborn as sns\n",
    "import sklearn\n",
    "import scipy\n",
    "import statsmodels\n",
    "import xgboost\n",
    "import lightgbm\n"
   ],
   "metadata": {
    "collapsed": false
   },
   "id": "b21bdaf141f38c00"
  },
  {
   "cell_type": "markdown",
   "source": [
    "# load the required data\n",
    "data = pd.read_excel('../data/michaelgoboola.xlsx', sheet_name='data')\n",
    "data.head()"
   ],
   "metadata": {
    "collapsed": false
   },
   "id": "8f45ed6fbfe6d8a1"
  },
  {
   "cell_type": "code",
   "execution_count": null,
   "outputs": [],
   "source": [
    "# load data from  google drive\n",
    "from google.colab import drive\n",
    "drive.mount('/content/drive')\n",
    "data = pd.read_excel('/content/drive/My Drive/Colab Notebooks/michaelgoboola.xlsx', sheet_name='data') # change path to your path\n",
    "data.head()"
   ],
   "metadata": {
    "collapsed": false
   },
   "id": "11c464184ce59593"
  },
  {
   "cell_type": "markdown",
   "source": [
    "# Describe the data"
   ],
   "metadata": {
    "collapsed": false
   },
   "id": "2de2803646d15c86"
  },
  {
   "cell_type": "code",
   "execution_count": null,
   "outputs": [],
   "source": [
    "data.describe()"
   ],
   "metadata": {
    "collapsed": false
   },
   "id": "32142cbdc91ec4c2"
  },
  {
   "cell_type": "markdown",
   "source": [
    "# Plot and Describe the data\n"
   ],
   "metadata": {
    "collapsed": false
   },
   "id": "65a6c3a13e978b78"
  },
  {
   "cell_type": "code",
   "execution_count": null,
   "outputs": [],
   "source": [
    "data.hist(figsize=(20,20))\n",
    "plt.show()"
   ],
   "metadata": {
    "collapsed": false
   },
   "id": "43212740db35fb98"
  },
  {
   "cell_type": "markdown",
   "source": [
    "\n"
   ],
   "metadata": {
    "collapsed": false
   },
   "id": "d44deb14010f25c7"
  }
 ],
 "metadata": {
  "kernelspec": {
   "display_name": "Python 3",
   "language": "python",
   "name": "python3"
  },
  "language_info": {
   "codemirror_mode": {
    "name": "ipython",
    "version": 2
   },
   "file_extension": ".py",
   "mimetype": "text/x-python",
   "name": "python",
   "nbconvert_exporter": "python",
   "pygments_lexer": "ipython2",
   "version": "2.7.6"
  }
 },
 "nbformat": 4,
 "nbformat_minor": 5
}
