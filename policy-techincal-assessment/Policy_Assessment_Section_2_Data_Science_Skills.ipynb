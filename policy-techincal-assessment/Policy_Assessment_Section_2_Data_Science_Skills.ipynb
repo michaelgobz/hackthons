{
 "nbformat": 4,
 "nbformat_minor": 0,
 "metadata": {
  "colab": {
   "provenance": []
  },
  "kernelspec": {
   "name": "python3",
   "language": "python",
   "display_name": "Python 3 (ipykernel)"
  },
  "language_info": {
   "name": "python"
  }
 },
 "cells": [
  {
   "cell_type": "markdown",
   "source": [
    "# ***Penguins Descriptive Analysis and Statistical Relationship***"
   ],
   "metadata": {
    "collapsed": false
   }
  },
  {
   "cell_type": "markdown",
   "source": [
    "# **Importing Libraries**"
   ],
   "metadata": {
    "collapsed": false
   }
  },
  {
   "cell_type": "code",
   "execution_count": 1,
   "outputs": [],
   "source": [
    "%%capture\n",
    "!pip install pandas\n",
    "!pip install numpy\n",
    "!pip install matplotlib\n",
    "!pip install seaborn\n",
    "!pip install scikit-learn\n",
    "!pip install google-colab\n",
    "!pip install imbalanced-learn"
   ],
   "metadata": {
    "collapsed": false,
    "ExecuteTime": {
     "end_time": "2023-09-14T10:15:26.677914500Z",
     "start_time": "2023-09-14T10:15:02.096812200Z"
    }
   }
  },
  {
   "cell_type": "markdown",
   "source": [
    "# **Importing Libraries**"
   ],
   "metadata": {
    "collapsed": false
   }
  },
  {
   "cell_type": "code",
   "execution_count": 2,
   "outputs": [],
   "source": [
    "import os\n",
    "import pandas as pd\n",
    "import numpy as np\n",
    "import matplotlib.pyplot as plt\n",
    "import seaborn as sns\n",
    "\n",
    "from sklearn.model_selection import train_test_split\n",
    "from sklearn.linear_model import LinearRegression\n",
    "from sklearn.neighbors import KNeighborsClassifier\n",
    "from sklearn.metrics import confusion_matrix, classification_report\n",
    "\n",
    "from imblearn.over_sampling import SMOTE\n",
    "from imblearn.pipeline import Pipeline"
   ],
   "metadata": {
    "collapsed": false,
    "ExecuteTime": {
     "end_time": "2023-09-14T10:34:00.343066800Z",
     "start_time": "2023-09-14T10:33:59.785608200Z"
    }
   }
  },
  {
   "cell_type": "markdown",
   "source": [
    "### ***Generate Random SEED and RandomState***"
   ],
   "metadata": {
    "collapsed": false
   }
  },
  {
   "cell_type": "code",
   "execution_count": 3,
   "outputs": [
    {
     "name": "stdout",
     "output_type": "stream",
     "text": [
      "7\n",
      "RandomState(MT19937)\n"
     ]
    }
   ],
   "source": [
    "# Generate random SEED\n",
    "np.random.seed(2023)\n",
    "SEED = (int) ((np.random.rand()) * (14+8))\n",
    "STATE = np.random.mtrand.RandomState(SEED)\n",
    "print(SEED)\n",
    "print(STATE)"
   ],
   "metadata": {
    "collapsed": false,
    "ExecuteTime": {
     "end_time": "2023-09-14T10:34:03.309275100Z",
     "start_time": "2023-09-14T10:34:03.268931700Z"
    }
   }
  },
  {
   "cell_type": "markdown",
   "source": [
    "### ***Load the data from local repository***"
   ],
   "metadata": {
    "collapsed": false
   }
  },
  {
   "cell_type": "code",
   "execution_count": 21,
   "outputs": [
    {
     "data": {
      "text/plain": "   rowid species     island  bill_length_mm  bill_depth_mm  flipper_length_mm  \\\n0      1  Adelie  Torgersen            39.1           18.7              181.0   \n1      2  Adelie  Torgersen            39.5           17.4              186.0   \n2      3  Adelie  Torgersen            40.3           18.0              195.0   \n3      4  Adelie  Torgersen             NaN            NaN                NaN   \n4      5  Adelie  Torgersen            36.7           19.3              193.0   \n\n   body_mass_g     sex  year  \n0       3750.0    male  2007  \n1       3800.0  female  2007  \n2       3250.0  female  2007  \n3          NaN     NaN  2007  \n4       3450.0  female  2007  ",
      "text/html": "<div>\n<style scoped>\n    .dataframe tbody tr th:only-of-type {\n        vertical-align: middle;\n    }\n\n    .dataframe tbody tr th {\n        vertical-align: top;\n    }\n\n    .dataframe thead th {\n        text-align: right;\n    }\n</style>\n<table border=\"1\" class=\"dataframe\">\n  <thead>\n    <tr style=\"text-align: right;\">\n      <th></th>\n      <th>rowid</th>\n      <th>species</th>\n      <th>island</th>\n      <th>bill_length_mm</th>\n      <th>bill_depth_mm</th>\n      <th>flipper_length_mm</th>\n      <th>body_mass_g</th>\n      <th>sex</th>\n      <th>year</th>\n    </tr>\n  </thead>\n  <tbody>\n    <tr>\n      <th>0</th>\n      <td>1</td>\n      <td>Adelie</td>\n      <td>Torgersen</td>\n      <td>39.1</td>\n      <td>18.7</td>\n      <td>181.0</td>\n      <td>3750.0</td>\n      <td>male</td>\n      <td>2007</td>\n    </tr>\n    <tr>\n      <th>1</th>\n      <td>2</td>\n      <td>Adelie</td>\n      <td>Torgersen</td>\n      <td>39.5</td>\n      <td>17.4</td>\n      <td>186.0</td>\n      <td>3800.0</td>\n      <td>female</td>\n      <td>2007</td>\n    </tr>\n    <tr>\n      <th>2</th>\n      <td>3</td>\n      <td>Adelie</td>\n      <td>Torgersen</td>\n      <td>40.3</td>\n      <td>18.0</td>\n      <td>195.0</td>\n      <td>3250.0</td>\n      <td>female</td>\n      <td>2007</td>\n    </tr>\n    <tr>\n      <th>3</th>\n      <td>4</td>\n      <td>Adelie</td>\n      <td>Torgersen</td>\n      <td>NaN</td>\n      <td>NaN</td>\n      <td>NaN</td>\n      <td>NaN</td>\n      <td>NaN</td>\n      <td>2007</td>\n    </tr>\n    <tr>\n      <th>4</th>\n      <td>5</td>\n      <td>Adelie</td>\n      <td>Torgersen</td>\n      <td>36.7</td>\n      <td>19.3</td>\n      <td>193.0</td>\n      <td>3450.0</td>\n      <td>female</td>\n      <td>2007</td>\n    </tr>\n  </tbody>\n</table>\n</div>"
     },
     "execution_count": 21,
     "metadata": {},
     "output_type": "execute_result"
    }
   ],
   "source": [
    "# load the required data\n",
    "PATH = './data/'\n",
    "data = pd.read_csv(os.path.join(PATH,'penguins.csv'))\n",
    "data.head()"
   ],
   "metadata": {
    "collapsed": false,
    "ExecuteTime": {
     "end_time": "2023-09-14T10:39:09.123671700Z",
     "start_time": "2023-09-14T10:39:09.076797800Z"
    }
   }
  },
  {
   "cell_type": "markdown",
   "source": [
    "### ***Load date from Google Drive***"
   ],
   "metadata": {
    "collapsed": false
   }
  },
  {
   "cell_type": "code",
   "execution_count": null,
   "outputs": [],
   "source": [
    "# load data from  google drive\n",
    "from google.colab import drive\n",
    "drive.mount('/content/drive')\n",
    "PATH = '/content/drive/My Drive/data/'\n",
    "data = pd.read_csv(os.path.join(PATH,'penguins.csv')) # change path to your path\n",
    "data.head()"
   ],
   "metadata": {
    "collapsed": false
   }
  },
  {
   "cell_type": "markdown",
   "source": [
    "### ***Data Preprocessing, Cleaning and Validation***"
   ],
   "metadata": {
    "collapsed": false
   }
  },
  {
   "cell_type": "markdown",
   "source": [
    "In this section, we do the following as accorded in the instructions\n",
    "- Data validation\n",
    "- Data Preprocessing\n",
    "- Data Cleaning"
   ],
   "metadata": {
    "collapsed": false
   }
  },
  {
   "cell_type": "markdown",
   "source": [
    "##### *Data Type Check*"
   ],
   "metadata": {
    "collapsed": false
   }
  },
  {
   "cell_type": "code",
   "execution_count": 22,
   "outputs": [
    {
     "name": "stdout",
     "output_type": "stream",
     "text": [
      "<class 'pandas.core.frame.DataFrame'>\n",
      "RangeIndex: 344 entries, 0 to 343\n",
      "Data columns (total 9 columns):\n",
      " #   Column             Non-Null Count  Dtype  \n",
      "---  ------             --------------  -----  \n",
      " 0   rowid              344 non-null    int64  \n",
      " 1   species            344 non-null    object \n",
      " 2   island             344 non-null    object \n",
      " 3   bill_length_mm     342 non-null    float64\n",
      " 4   bill_depth_mm      342 non-null    float64\n",
      " 5   flipper_length_mm  342 non-null    float64\n",
      " 6   body_mass_g        342 non-null    float64\n",
      " 7   sex                333 non-null    object \n",
      " 8   year               344 non-null    int64  \n",
      "dtypes: float64(4), int64(2), object(3)\n",
      "memory usage: 24.3+ KB\n"
     ]
    }
   ],
   "source": [
    "# data type check\n",
    "data.info()"
   ],
   "metadata": {
    "collapsed": false,
    "ExecuteTime": {
     "end_time": "2023-09-14T10:39:18.201793900Z",
     "start_time": "2023-09-14T10:39:18.191678Z"
    }
   }
  },
  {
   "cell_type": "markdown",
   "source": [
    "##### *Check for missing values*"
   ],
   "metadata": {
    "collapsed": false
   }
  },
  {
   "cell_type": "code",
   "execution_count": 27,
   "outputs": [
    {
     "data": {
      "text/plain": "rowid                0\nspecies              0\nisland               0\nbill_length_mm       0\nbill_depth_mm        0\nflipper_length_mm    0\nbody_mass_g          0\nsex                  0\nyear                 0\ndtype: int64"
     },
     "execution_count": 27,
     "metadata": {},
     "output_type": "execute_result"
    }
   ],
   "source": [
    "# check for missing values\n",
    "data.isna().sum()"
   ],
   "metadata": {
    "collapsed": false,
    "ExecuteTime": {
     "end_time": "2023-09-14T10:52:32.649600200Z",
     "start_time": "2023-09-14T10:52:32.617819500Z"
    }
   }
  },
  {
   "cell_type": "markdown",
   "source": [
    "##### Check for repeated values"
   ],
   "metadata": {
    "collapsed": false
   }
  },
  {
   "cell_type": "code",
   "execution_count": 6,
   "outputs": [
    {
     "data": {
      "text/plain": "0"
     },
     "execution_count": 6,
     "metadata": {},
     "output_type": "execute_result"
    }
   ],
   "source": [
    "# check for repeated values\n",
    "data.duplicated().sum()"
   ],
   "metadata": {
    "collapsed": false,
    "ExecuteTime": {
     "end_time": "2023-09-14T10:34:40.127464400Z",
     "start_time": "2023-09-14T10:34:40.116323700Z"
    }
   }
  },
  {
   "cell_type": "markdown",
   "source": [
    "##### *Extract numerical columns*"
   ],
   "metadata": {
    "collapsed": false
   }
  },
  {
   "cell_type": "code",
   "execution_count": 7,
   "outputs": [
    {
     "data": {
      "text/plain": "['bill_length_mm', 'bill_depth_mm', 'flipper_length_mm', 'body_mass_g']"
     },
     "execution_count": 7,
     "metadata": {},
     "output_type": "execute_result"
    }
   ],
   "source": [
    "# list numeric columns\n",
    "numericals =['bill_length_mm', 'bill_depth_mm', 'flipper_length_mm', 'body_mass_g']\n",
    "\n",
    "numericals"
   ],
   "metadata": {
    "collapsed": false,
    "ExecuteTime": {
     "end_time": "2023-09-14T10:34:45.570574100Z",
     "start_time": "2023-09-14T10:34:45.556569800Z"
    }
   }
  },
  {
   "cell_type": "markdown",
   "source": [
    "##### *Extract categorical columns*"
   ],
   "metadata": {
    "collapsed": false
   }
  },
  {
   "cell_type": "code",
   "execution_count": 8,
   "outputs": [
    {
     "data": {
      "text/plain": "['sex', 'island', 'species']"
     },
     "execution_count": 8,
     "metadata": {},
     "output_type": "execute_result"
    }
   ],
   "source": [
    "# list categorical columns\n",
    "categorical = ['sex', 'island', 'species']\n",
    "categorical"
   ],
   "metadata": {
    "collapsed": false,
    "ExecuteTime": {
     "end_time": "2023-09-14T10:34:48.000738400Z",
     "start_time": "2023-09-14T10:34:47.990612400Z"
    }
   }
  },
  {
   "cell_type": "markdown",
   "source": [
    "##### *Sample Prediction Features*"
   ],
   "metadata": {
    "collapsed": false
   }
  },
  {
   "cell_type": "code",
   "execution_count": 9,
   "outputs": [
    {
     "data": {
      "text/plain": "['sex', 'body_mass_g']"
     },
     "execution_count": 9,
     "metadata": {},
     "output_type": "execute_result"
    }
   ],
   "source": [
    "features = ['sex', 'body_mass_g']\n",
    "features"
   ],
   "metadata": {
    "collapsed": false,
    "ExecuteTime": {
     "end_time": "2023-09-14T10:34:50.044337100Z",
     "start_time": "2023-09-14T10:34:50.039350900Z"
    }
   }
  },
  {
   "cell_type": "markdown",
   "source": [
    "##### *Check for outliers*"
   ],
   "metadata": {
    "collapsed": false
   }
  },
  {
   "cell_type": "code",
   "execution_count": 10,
   "outputs": [
    {
     "data": {
      "text/plain": "       bill_length_mm  bill_depth_mm  flipper_length_mm  body_mass_g\ncount      342.000000     342.000000         342.000000   342.000000\nmean        43.921930      17.151170         200.915205  4201.754386\nstd          5.459584       1.974793          14.061714   801.954536\nmin         32.100000      13.100000         172.000000  2700.000000\n25%         39.225000      15.600000         190.000000  3550.000000\n50%         44.450000      17.300000         197.000000  4050.000000\n75%         48.500000      18.700000         213.000000  4750.000000\nmax         59.600000      21.500000         231.000000  6300.000000",
      "text/html": "<div>\n<style scoped>\n    .dataframe tbody tr th:only-of-type {\n        vertical-align: middle;\n    }\n\n    .dataframe tbody tr th {\n        vertical-align: top;\n    }\n\n    .dataframe thead th {\n        text-align: right;\n    }\n</style>\n<table border=\"1\" class=\"dataframe\">\n  <thead>\n    <tr style=\"text-align: right;\">\n      <th></th>\n      <th>bill_length_mm</th>\n      <th>bill_depth_mm</th>\n      <th>flipper_length_mm</th>\n      <th>body_mass_g</th>\n    </tr>\n  </thead>\n  <tbody>\n    <tr>\n      <th>count</th>\n      <td>342.000000</td>\n      <td>342.000000</td>\n      <td>342.000000</td>\n      <td>342.000000</td>\n    </tr>\n    <tr>\n      <th>mean</th>\n      <td>43.921930</td>\n      <td>17.151170</td>\n      <td>200.915205</td>\n      <td>4201.754386</td>\n    </tr>\n    <tr>\n      <th>std</th>\n      <td>5.459584</td>\n      <td>1.974793</td>\n      <td>14.061714</td>\n      <td>801.954536</td>\n    </tr>\n    <tr>\n      <th>min</th>\n      <td>32.100000</td>\n      <td>13.100000</td>\n      <td>172.000000</td>\n      <td>2700.000000</td>\n    </tr>\n    <tr>\n      <th>25%</th>\n      <td>39.225000</td>\n      <td>15.600000</td>\n      <td>190.000000</td>\n      <td>3550.000000</td>\n    </tr>\n    <tr>\n      <th>50%</th>\n      <td>44.450000</td>\n      <td>17.300000</td>\n      <td>197.000000</td>\n      <td>4050.000000</td>\n    </tr>\n    <tr>\n      <th>75%</th>\n      <td>48.500000</td>\n      <td>18.700000</td>\n      <td>213.000000</td>\n      <td>4750.000000</td>\n    </tr>\n    <tr>\n      <th>max</th>\n      <td>59.600000</td>\n      <td>21.500000</td>\n      <td>231.000000</td>\n      <td>6300.000000</td>\n    </tr>\n  </tbody>\n</table>\n</div>"
     },
     "execution_count": 10,
     "metadata": {},
     "output_type": "execute_result"
    }
   ],
   "source": [
    "# check for outliers\n",
    "data[numericals].describe()"
   ],
   "metadata": {
    "collapsed": false,
    "ExecuteTime": {
     "end_time": "2023-09-14T10:34:52.118857200Z",
     "start_time": "2023-09-14T10:34:52.080345100Z"
    }
   }
  },
  {
   "cell_type": "code",
   "execution_count": 11,
   "outputs": [
    {
     "data": {
      "text/plain": "bill_length_mm       0.053118\nbill_depth_mm       -0.143465\nflipper_length_mm    0.345682\nbody_mass_g          0.470329\ndtype: float64"
     },
     "execution_count": 11,
     "metadata": {},
     "output_type": "execute_result"
    }
   ],
   "source": [
    "data[numericals].skew()"
   ],
   "metadata": {
    "collapsed": false,
    "ExecuteTime": {
     "end_time": "2023-09-14T10:34:52.856667900Z",
     "start_time": "2023-09-14T10:34:52.838969Z"
    }
   }
  },
  {
   "cell_type": "markdown",
   "source": [
    "##### *Check for data distribution for numerical variables*"
   ],
   "metadata": {
    "collapsed": false
   }
  },
  {
   "cell_type": "code",
   "execution_count": 12,
   "outputs": [
    {
     "data": {
      "text/plain": "array([[<Axes: title={'center': 'bill_length_mm'}>,\n        <Axes: title={'center': 'bill_depth_mm'}>],\n       [<Axes: title={'center': 'flipper_length_mm'}>,\n        <Axes: title={'center': 'body_mass_g'}>]], dtype=object)"
     },
     "execution_count": 12,
     "metadata": {},
     "output_type": "execute_result"
    },
    {
     "data": {
      "text/plain": "<Figure size 2000x2000 with 4 Axes>",
      "image/png": "[encoded data removed]"
     },
     "metadata": {},
     "output_type": "display_data"
    }
   ],
   "source": [
    "# check for data distribution for numerical variables\n",
    "data[numericals].hist(figsize=(20,20))"
   ],
   "metadata": {
    "collapsed": false,
    "ExecuteTime": {
     "end_time": "2023-09-14T10:34:55.899359800Z",
     "start_time": "2023-09-14T10:34:54.279134800Z"
    }
   }
  },
  {
   "cell_type": "markdown",
   "source": [
    "##### *Check for correlation between variables*"
   ],
   "metadata": {
    "collapsed": false
   }
  },
  {
   "cell_type": "code",
   "execution_count": 13,
   "outputs": [
    {
     "data": {
      "text/plain": "                   bill_length_mm  bill_depth_mm  flipper_length_mm  \\\nbill_length_mm           1.000000      -0.235053           0.656181   \nbill_depth_mm           -0.235053       1.000000          -0.583851   \nflipper_length_mm        0.656181      -0.583851           1.000000   \nbody_mass_g              0.595110      -0.471916           0.871202   \n\n                   body_mass_g  \nbill_length_mm        0.595110  \nbill_depth_mm        -0.471916  \nflipper_length_mm     0.871202  \nbody_mass_g           1.000000  ",
      "text/html": "<div>\n<style scoped>\n    .dataframe tbody tr th:only-of-type {\n        vertical-align: middle;\n    }\n\n    .dataframe tbody tr th {\n        vertical-align: top;\n    }\n\n    .dataframe thead th {\n        text-align: right;\n    }\n</style>\n<table border=\"1\" class=\"dataframe\">\n  <thead>\n    <tr style=\"text-align: right;\">\n      <th></th>\n      <th>bill_length_mm</th>\n      <th>bill_depth_mm</th>\n      <th>flipper_length_mm</th>\n      <th>body_mass_g</th>\n    </tr>\n  </thead>\n  <tbody>\n    <tr>\n      <th>bill_length_mm</th>\n      <td>1.000000</td>\n      <td>-0.235053</td>\n      <td>0.656181</td>\n      <td>0.595110</td>\n    </tr>\n    <tr>\n      <th>bill_depth_mm</th>\n      <td>-0.235053</td>\n      <td>1.000000</td>\n      <td>-0.583851</td>\n      <td>-0.471916</td>\n    </tr>\n    <tr>\n      <th>flipper_length_mm</th>\n      <td>0.656181</td>\n      <td>-0.583851</td>\n      <td>1.000000</td>\n      <td>0.871202</td>\n    </tr>\n    <tr>\n      <th>body_mass_g</th>\n      <td>0.595110</td>\n      <td>-0.471916</td>\n      <td>0.871202</td>\n      <td>1.000000</td>\n    </tr>\n  </tbody>\n</table>\n</div>"
     },
     "execution_count": 13,
     "metadata": {},
     "output_type": "execute_result"
    }
   ],
   "source": [
    "# check for correlation between variables\n",
    "data[numericals].corr()"
   ],
   "metadata": {
    "collapsed": false,
    "ExecuteTime": {
     "end_time": "2023-09-14T10:34:59.220507100Z",
     "start_time": "2023-09-14T10:34:59.188729800Z"
    }
   }
  },
  {
   "cell_type": "code",
   "execution_count": 14,
   "outputs": [
    {
     "data": {
      "text/plain": "<Axes: >"
     },
     "execution_count": 14,
     "metadata": {},
     "output_type": "execute_result"
    },
    {
     "data": {
      "text/plain": "<Figure size 640x480 with 2 Axes>",
      "image/png": "[encoded data removed]"
     },
     "metadata": {},
     "output_type": "display_data"
    }
   ],
   "source": [
    "sns.heatmap(data[numericals].corr(), annot=True)"
   ],
   "metadata": {
    "collapsed": false,
    "ExecuteTime": {
     "end_time": "2023-09-14T10:35:01.453838700Z",
     "start_time": "2023-09-14T10:35:01.019590100Z"
    }
   }
  },
  {
   "cell_type": "markdown",
   "source": [
    "##### *Replace the null values with means*"
   ],
   "metadata": {
    "collapsed": false
   }
  },
  {
   "cell_type": "code",
   "execution_count": 31,
   "outputs": [
    {
     "name": "stderr",
     "output_type": "stream",
     "text": [
      "C:\\Users\\Administrator\\AppData\\Local\\Temp\\2\\ipykernel_6724\\2284744647.py:4: FutureWarning: The default value of numeric_only in DataFrame.mean is deprecated. In a future version, it will default to False. In addition, specifying 'numeric_only=None' is deprecated. Select only valid columns or specify the value of numeric_only to silence this warning.\n",
      "  data.fillna(data.mean(),inplace=True)\n"
     ]
    },
    {
     "data": {
      "text/plain": "     rowid    species     island  bill_length_mm  bill_depth_mm  \\\n0        1     Adelie  Torgersen        39.10000       18.70000   \n1        2     Adelie  Torgersen        39.50000       17.40000   \n2        3     Adelie  Torgersen        40.30000       18.00000   \n3        4     Adelie  Torgersen        43.92193       17.15117   \n4        5     Adelie  Torgersen        36.70000       19.30000   \n..     ...        ...        ...             ...            ...   \n339    340  Chinstrap      Dream        55.80000       19.80000   \n340    341  Chinstrap      Dream        43.50000       18.10000   \n341    342  Chinstrap      Dream        49.60000       18.20000   \n342    343  Chinstrap      Dream        50.80000       19.00000   \n343    344  Chinstrap      Dream        50.20000       18.70000   \n\n     flipper_length_mm  body_mass_g  sex  year  \n0           181.000000  3750.000000    0  2007  \n1           186.000000  3800.000000    1  2007  \n2           195.000000  3250.000000    1  2007  \n3           200.915205  4201.754386    0  2007  \n4           193.000000  3450.000000    1  2007  \n..                 ...          ...  ...   ...  \n339         207.000000  4000.000000    0  2009  \n340         202.000000  3400.000000    1  2009  \n341         193.000000  3775.000000    0  2009  \n342         210.000000  4100.000000    0  2009  \n343         198.000000  3775.000000    1  2009  \n\n[344 rows x 9 columns]",
      "text/html": "<div>\n<style scoped>\n    .dataframe tbody tr th:only-of-type {\n        vertical-align: middle;\n    }\n\n    .dataframe tbody tr th {\n        vertical-align: top;\n    }\n\n    .dataframe thead th {\n        text-align: right;\n    }\n</style>\n<table border=\"1\" class=\"dataframe\">\n  <thead>\n    <tr style=\"text-align: right;\">\n      <th></th>\n      <th>rowid</th>\n      <th>species</th>\n      <th>island</th>\n      <th>bill_length_mm</th>\n      <th>bill_depth_mm</th>\n      <th>flipper_length_mm</th>\n      <th>body_mass_g</th>\n      <th>sex</th>\n      <th>year</th>\n    </tr>\n  </thead>\n  <tbody>\n    <tr>\n      <th>0</th>\n      <td>1</td>\n      <td>Adelie</td>\n      <td>Torgersen</td>\n      <td>39.10000</td>\n      <td>18.70000</td>\n      <td>181.000000</td>\n      <td>3750.000000</td>\n      <td>0</td>\n      <td>2007</td>\n    </tr>\n    <tr>\n      <th>1</th>\n      <td>2</td>\n      <td>Adelie</td>\n      <td>Torgersen</td>\n      <td>39.50000</td>\n      <td>17.40000</td>\n      <td>186.000000</td>\n      <td>3800.000000</td>\n      <td>1</td>\n      <td>2007</td>\n    </tr>\n    <tr>\n      <th>2</th>\n      <td>3</td>\n      <td>Adelie</td>\n      <td>Torgersen</td>\n      <td>40.30000</td>\n      <td>18.00000</td>\n      <td>195.000000</td>\n      <td>3250.000000</td>\n      <td>1</td>\n      <td>2007</td>\n    </tr>\n    <tr>\n      <th>3</th>\n      <td>4</td>\n      <td>Adelie</td>\n      <td>Torgersen</td>\n      <td>43.92193</td>\n      <td>17.15117</td>\n      <td>200.915205</td>\n      <td>4201.754386</td>\n      <td>0</td>\n      <td>2007</td>\n    </tr>\n    <tr>\n      <th>4</th>\n      <td>5</td>\n      <td>Adelie</td>\n      <td>Torgersen</td>\n      <td>36.70000</td>\n      <td>19.30000</td>\n      <td>193.000000</td>\n      <td>3450.000000</td>\n      <td>1</td>\n      <td>2007</td>\n    </tr>\n    <tr>\n      <th>...</th>\n      <td>...</td>\n      <td>...</td>\n      <td>...</td>\n      <td>...</td>\n      <td>...</td>\n      <td>...</td>\n      <td>...</td>\n      <td>...</td>\n      <td>...</td>\n    </tr>\n    <tr>\n      <th>339</th>\n      <td>340</td>\n      <td>Chinstrap</td>\n      <td>Dream</td>\n      <td>55.80000</td>\n      <td>19.80000</td>\n      <td>207.000000</td>\n      <td>4000.000000</td>\n      <td>0</td>\n      <td>2009</td>\n    </tr>\n    <tr>\n      <th>340</th>\n      <td>341</td>\n      <td>Chinstrap</td>\n      <td>Dream</td>\n      <td>43.50000</td>\n      <td>18.10000</td>\n      <td>202.000000</td>\n      <td>3400.000000</td>\n      <td>1</td>\n      <td>2009</td>\n    </tr>\n    <tr>\n      <th>341</th>\n      <td>342</td>\n      <td>Chinstrap</td>\n      <td>Dream</td>\n      <td>49.60000</td>\n      <td>18.20000</td>\n      <td>193.000000</td>\n      <td>3775.000000</td>\n      <td>0</td>\n      <td>2009</td>\n    </tr>\n    <tr>\n      <th>342</th>\n      <td>343</td>\n      <td>Chinstrap</td>\n      <td>Dream</td>\n      <td>50.80000</td>\n      <td>19.00000</td>\n      <td>210.000000</td>\n      <td>4100.000000</td>\n      <td>0</td>\n      <td>2009</td>\n    </tr>\n    <tr>\n      <th>343</th>\n      <td>344</td>\n      <td>Chinstrap</td>\n      <td>Dream</td>\n      <td>50.20000</td>\n      <td>18.70000</td>\n      <td>198.000000</td>\n      <td>3775.000000</td>\n      <td>1</td>\n      <td>2009</td>\n    </tr>\n  </tbody>\n</table>\n<p>344 rows × 9 columns</p>\n</div>"
     },
     "execution_count": 31,
     "metadata": {},
     "output_type": "execute_result"
    }
   ],
   "source": [
    "data['sex'].replace('male' ,0, inplace=True)\n",
    "data['sex'].replace('female',1, inplace=True)\n",
    "data['sex'].fillna(0, inplace=True)\n",
    "data.fillna(data.mean(),inplace=True)\n",
    "data.head()\n",
    "data"
   ],
   "metadata": {
    "collapsed": false,
    "ExecuteTime": {
     "end_time": "2023-09-14T10:54:43.857041300Z",
     "start_time": "2023-09-14T10:54:43.811041Z"
    }
   }
  },
  {
   "cell_type": "markdown",
   "source": [
    "## ***Model building***"
   ],
   "metadata": {
    "collapsed": false
   }
  },
  {
   "cell_type": "markdown",
   "source": [
    "In machine learning, model building is the process of creating a mathematical representation of a real-world process. The goal of model building is to create a model that can accurately predict the outcome of a given process based on input data. Machine learning models are created from machine learning algorithms, which are trained using either labeled, unlabeled, or mixed data. Different machine learning algorithms are suited to different goals, such as classification or prediction modeling, so data scientists use different algorithms as the basis for different models.\n",
    "<br>\n",
    "<br>\n",
    "The problem we're modeling, now is to predict default on the specie of the penguin and also its body ass in g (body_mass_g)  or not default, the target variable is, binary and numeric respectively. Here I choose the two models\n",
    "\n",
    "- LinearRegression\n",
    "- KNearestNeighbours\n",
    "- RandomForestClassifier\n",
    "\n",
    "The choice of the model and modeling is based on few assumptions we make about the nature of our data and these assumptions include,\n",
    "\n",
    "1. The Target Variable (Response) is a categorical variable\n",
    "2. The independent variables are not multicolinear\n",
    "3. The data is not very highly skewed <br>\n",
    "4. There are no extreme outliers.\n",
    "5. There exists a linear relationship between each explanatory variable and the logit of the response variable.\n",
    "6. The sample size is sufficiently large.\n",
    "7. The hypothesis is that we can predict the response variables given the data set\n",
    "\n",
    "the choice of the model here is the logistics regression model from the sklearn model. And then we model using the data which is prepared.\n",
    "we shall select the best model based on the f- score. Then conclude accordingly"
   ],
   "metadata": {
    "collapsed": false
   }
  },
  {
   "cell_type": "markdown",
   "source": [
    "### ***Prepare the Data for modeling***"
   ],
   "metadata": {
    "collapsed": false
   }
  },
  {
   "cell_type": "code",
   "execution_count": null,
   "outputs": [],
   "source": [
    "# Split the data for Test and Training\n",
    "\n",
    "# split data with sex as the response\n",
    "X_train, X_test, y_train, y_test = train_test_split(data.drop(['rowid', 'Sex'], axis=1),\n",
    "                                                    data['Sex'],\n",
    "                                                    test_size=0.3,\n",
    "                                                    random_state=SEED)\n",
    "\n",
    "X_train_mass, X_test_mass, y_train_mass, y_test_mass= train_test_split(data.drop(['rowid', 'body_mass_g'], axis=1),\n",
    "                                                    data['body_mass_g'],\n",
    "                                                    test_size=0.3,\n",
    "                                                    random_state=SEED)\n",
    "\n",
    "\n"
   ],
   "metadata": {
    "collapsed": false
   }
  },
  {
   "cell_type": "markdown",
   "source": [
    "### ***Modeling using the LogisticRegression Classifier***"
   ],
   "metadata": {
    "collapsed": false
   }
  },
  {
   "cell_type": "code",
   "execution_count": null,
   "outputs": [],
   "source": [
    "# model building with  LogisticRegression Classifier\n",
    "# model\n",
    "model = LinearRegression()\n",
    "# fit model\n",
    "smote_sampler = SMOTE(random_state=STATE)\n",
    "\n",
    "pipeline = Pipeline(steps = [['smote', smote_sampler],\n",
    "                             ['regressor', model]])\n",
    "pipeline.fit(X_train, y_train)\n",
    "\n",
    "# test model\n",
    "y_pred = pipeline.predict(X_test)"
   ],
   "metadata": {
    "collapsed": false
   }
  },
  {
   "cell_type": "markdown",
   "source": [
    "### ***Modeling using K-nearest Neighbours (KNN)***"
   ],
   "metadata": {
    "collapsed": false
   }
  },
  {
   "cell_type": "code",
   "execution_count": null,
   "outputs": [],
   "source": [
    "# modeling using the K-nearest Neighbours (KNN)\n",
    "knn = KNeighborsClassifier()\n",
    "\n",
    "# fit the model\n",
    "smote_sampler = SMOTE(random_state=STATE)\n",
    "\n",
    "pipeline = Pipeline(steps = [['smote', smote_sampler],\n",
    "                             ['classifier', knn]])\n",
    "\n",
    "pipeline.fit(X_train, y_train)\n",
    "\n",
    "# test model\n",
    "\n",
    "pred = pipeline.predict(X_test)"
   ],
   "metadata": {
    "collapsed": false
   }
  },
  {
   "cell_type": "code",
   "execution_count": null,
   "outputs": [],
   "source": [
    "# Evaluate the model\n",
    "from sklearn.metrics import precision_score, recall_score, f1_score, accuracy_score, roc_auc_score\n",
    "print(\"-------------------------CLASSIFICATION REPORT -----------------------\")\n",
    "print(classification_report(y_test, pred))\n",
    "print(\"-------------------------TEST SCORES-----------------------\")\n",
    "print(f\"confusion matrix : {confusion_matrix(y_test, pred)}\")\n",
    "print(f\"Recall: { round(recall_score(y_test, pred)*100, 4) }\")\n",
    "print(f\"Precision: { round(precision_score(y_test, pred)*100, 4) }\")\n",
    "print(f\"F1-Score: { round(f1_score(y_test, pred)*100, 4) }\")\n",
    "print(f\"Accuracy score: { round(accuracy_score(y_test, pred)*100, 4) }\")\n",
    "print(f\"AUC Score: { round(roc_auc_score(y_test, pred)*100, 4) }\")"
   ],
   "metadata": {
    "collapsed": false
   }
  },
  {
   "cell_type": "markdown",
   "source": [
    "### ***Modeling Using the RandomForestClassifier***"
   ],
   "metadata": {
    "collapsed": false
   }
  },
  {
   "cell_type": "code",
   "execution_count": null,
   "outputs": [],
   "source": [
    "# modeling using the RandomForestClassifier\n",
    "rf_clf = RandomForestClassifier(criterion='gini', bootstrap=True, random_state=SEED)\n",
    "\n",
    "smote_sampler = SMOTE(random_state=STATE)\n",
    "\n",
    "pipeline = Pipeline(steps = [['smote', smote_sampler],\n",
    "                             ['classifier', rf_clf]])\n",
    "\n",
    "pipeline.fit(X_train, y_train)\n",
    "\n",
    "y_pred_c = pipeline.predict(X_test)"
   ],
   "metadata": {
    "collapsed": false
   }
  },
  {
   "cell_type": "code",
   "execution_count": null,
   "outputs": [],
   "source": [
    "# Evaluate the model\n",
    "from sklearn.metrics import precision_score, recall_score, f1_score, accuracy_score, roc_auc_score\n",
    "print(\"-------------------------CLASSIFICATION REPORT -----------------------\")\n",
    "print(classification_report(y_test, y_pred_c))\n",
    "print(\"-------------------------TEST SCORES-----------------------\")\n",
    "print(f\"confusion matrix : {confusion_matrix(y_test, y_pred_c)}\")\n",
    "print(f\"Recall: { round(recall_score(y_test, y_pred_c)*100, 4) }\")\n",
    "print(f\"Precision: { round(precision_score(y_test, y_pred_c)*100, 4) }\")\n",
    "print(f\"F1-Score: { round(f1_score(y_test, y_pred_c)*100, 4) }\")\n",
    "print(f\"Accuracy score: { round(accuracy_score(y_test, y_pred_c)*100, 4) }\")\n",
    "print(f\"AUC Score: { round(roc_auc_score(y_test, y_pred_c)*100, 4) }\")\n",
    "\n",
    "# plot feature importance's\n",
    "\n",
    "plt.figure(figsize=(10,10))\n",
    "sns.barplot(x=np.sort(rf_clf.feature_importances_), y=rf_clf.feature_names_in_,orient='h')"
   ],
   "metadata": {
    "collapsed": false
   }
  },
  {
   "cell_type": "markdown",
   "source": [],
   "metadata": {
    "collapsed": false
   }
  }
 ]
}
