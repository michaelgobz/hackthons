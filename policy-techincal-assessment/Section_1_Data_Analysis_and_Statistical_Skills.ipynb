{
 "nbformat": 4,
 "nbformat_minor": 0,
 "metadata": {
  "colab": {
   "provenance": [
    {
     "file_id": "https://github.com/michaelgobz/hackthons/blob/main/policy-techincal-assessment/Policy_Assessment_Section_1_Data_Analysis_and_Statistical_Skills.ipynb",
     "timestamp": 1694689772829
    }
   ]
  },
  "kernelspec": {
   "name": "python3",
   "language": "python",
   "display_name": "Python 3 (ipykernel)"
  },
  "language_info": {
   "name": "python"
  }
 },
 "cells": [
  {
   "cell_type": "markdown",
   "source": [
    "# ***Penguins Descriptive Analysis and Statistical Relationship***"
   ],
   "metadata": {
    "collapsed": false,
    "id": "Mt5d5NZ4WeQH"
   }
  },
  {
   "cell_type": "markdown",
   "source": [
    "# **Importing Libraries**"
   ],
   "metadata": {
    "collapsed": false,
    "id": "MN5oiwmMWeQQ"
   }
  },
  {
   "cell_type": "code",
   "execution_count": 1,
   "outputs": [],
   "source": [
    "%%capture\n",
    "!pip install pandas\n",
    "!pip install numpy\n",
    "!pip install matplotlib\n",
    "!pip install google-colab"
   ],
   "metadata": {
    "id": "krG9MyWUWeQU",
    "ExecuteTime": {
     "end_time": "2023-09-15T04:22:32.299982600Z",
     "start_time": "2023-09-15T04:22:15.764525300Z"
    }
   }
  },
  {
   "cell_type": "markdown",
   "source": [
    "Here we install the necessay libraries"
   ],
   "metadata": {
    "id": "T94tnL29v0Kz"
   }
  },
  {
   "cell_type": "markdown",
   "source": [
    "# **Importing Libraries**"
   ],
   "metadata": {
    "collapsed": false,
    "id": "wN8PJZZyWeQb"
   }
  },
  {
   "cell_type": "code",
   "execution_count": null,
   "outputs": [],
   "source": [
    "import os\n",
    "import pandas as pd\n",
    "import numpy as np\n",
    "import matplotlib.pyplot as plt\n",
    "import seaborn as sns"
   ],
   "metadata": {
    "ExecuteTime": {
     "end_time": "2023-09-14T09:35:47.261633100Z",
     "start_time": "2023-09-14T09:35:46.139967Z"
    },
    "id": "irQ4nhBeWeQd"
   }
  },
  {
   "cell_type": "markdown",
   "source": [
    "We important pandas, seaborn which we use mainly"
   ],
   "metadata": {
    "id": "xe7EuTGYv_u5"
   }
  },
  {
   "cell_type": "markdown",
   "source": [
    "### ***Generate Random SEED and RandomState***"
   ],
   "metadata": {
    "collapsed": false,
    "id": "fn0MlnuoWeQf"
   }
  },
  {
   "cell_type": "code",
   "execution_count": null,
   "outputs": [
    {
     "output_type": "stream",
     "name": "stdout",
     "text": [
      "7\n",
      "RandomState(MT19937)\n"
     ]
    }
   ],
   "source": [
    "# Generate random SEED\n",
    "np.random.seed(2023)\n",
    "SEED = (int) ((np.random.rand()) * (14+8))\n",
    "STATE = np.random.mtrand.RandomState(SEED)\n",
    "print(SEED)\n",
    "print(STATE)"
   ],
   "metadata": {
    "ExecuteTime": {
     "end_time": "2023-09-14T10:08:30.882020700Z",
     "start_time": "2023-09-14T10:08:30.857690500Z"
    },
    "id": "Si7k_6nhWeQh",
    "executionInfo": {
     "status": "ok",
     "timestamp": 1694689369718,
     "user_tz": -180,
     "elapsed": 560,
     "user": {
      "displayName": "",
      "userId": ""
     }
    },
    "outputId": "063d90d5-7e58-4e4d-dbd1-37e45580c2b5",
    "colab": {
     "base_uri": "https://localhost:8080/"
    }
   }
  },
  {
   "cell_type": "markdown",
   "source": [
    "The random state and seed"
   ],
   "metadata": {
    "id": "d9DONcuowOV4"
   }
  },
  {
   "cell_type": "markdown",
   "source": [
    "### ***Load the data from local repository***"
   ],
   "metadata": {
    "collapsed": false,
    "id": "kcahRpuOWeQo"
   }
  },
  {
   "cell_type": "code",
   "execution_count": null,
   "outputs": [],
   "source": [
    "# load the required data\n",
    "PATH = './data/'\n",
    "data = pd.read_csv(os.path.join(PATH,'penguins.csv'))\n",
    "data.head()"
   ],
   "metadata": {
    "ExecuteTime": {
     "end_time": "2023-09-14T10:08:34.774356400Z",
     "start_time": "2023-09-14T10:08:34.738865200Z"
    },
    "id": "XLZ3VIPsWeQq"
   }
  },
  {
   "cell_type": "markdown",
   "source": [
    "We load the data based trom the local repositories if working locally"
   ],
   "metadata": {
    "id": "rFXn4r_2wS-j"
   }
  },
  {
   "cell_type": "markdown",
   "source": [
    "### ***Load data from Google Drive***"
   ],
   "metadata": {
    "collapsed": false,
    "id": "A2dCes5iWeQt"
   }
  },
  {
   "cell_type": "code",
   "execution_count": null,
   "outputs": [
    {
     "output_type": "stream",
     "name": "stdout",
     "text": [
      "Mounted at /content/drive\n"
     ]
    },
    {
     "output_type": "execute_result",
     "data": {
      "text/plain": [
       "   rowid species     island  bill_length_mm  bill_depth_mm  flipper_length_mm  \\\n",
       "0      1  Adelie  Torgersen            39.1           18.7              181.0   \n",
       "1      2  Adelie  Torgersen            39.5           17.4              186.0   \n",
       "2      3  Adelie  Torgersen            40.3           18.0              195.0   \n",
       "3      4  Adelie  Torgersen             NaN            NaN                NaN   \n",
       "4      5  Adelie  Torgersen            36.7           19.3              193.0   \n",
       "\n",
       "   body_mass_g     sex  year  \n",
       "0       3750.0    male  2007  \n",
       "1       3800.0  female  2007  \n",
       "2       3250.0  female  2007  \n",
       "3          NaN     NaN  2007  \n",
       "4       3450.0  female  2007  "
      ],
      "text/html": [
       "\n",
       "  <div id=\"df-9c504a9a-9da1-4dc5-aad2-ce9aaca1964a\" class=\"colab-df-container\">\n",
       "    <div>\n",
       "<style scoped>\n",
       "    .dataframe tbody tr th:only-of-type {\n",
       "        vertical-align: middle;\n",
       "    }\n",
       "\n",
       "    .dataframe tbody tr th {\n",
       "        vertical-align: top;\n",
       "    }\n",
       "\n",
       "    .dataframe thead th {\n",
       "        text-align: right;\n",
       "    }\n",
       "</style>\n",
       "<table border=\"1\" class=\"dataframe\">\n",
       "  <thead>\n",
       "    <tr style=\"text-align: right;\">\n",
       "      <th></th>\n",
       "      <th>rowid</th>\n",
       "      <th>species</th>\n",
       "      <th>island</th>\n",
       "      <th>bill_length_mm</th>\n",
       "      <th>bill_depth_mm</th>\n",
       "      <th>flipper_length_mm</th>\n",
       "      <th>body_mass_g</th>\n",
       "      <th>sex</th>\n",
       "      <th>year</th>\n",
       "    </tr>\n",
       "  </thead>\n",
       "  <tbody>\n",
       "    <tr>\n",
       "      <th>0</th>\n",
       "      <td>1</td>\n",
       "      <td>Adelie</td>\n",
       "      <td>Torgersen</td>\n",
       "      <td>39.1</td>\n",
       "      <td>18.7</td>\n",
       "      <td>181.0</td>\n",
       "      <td>3750.0</td>\n",
       "      <td>male</td>\n",
       "      <td>2007</td>\n",
       "    </tr>\n",
       "    <tr>\n",
       "      <th>1</th>\n",
       "      <td>2</td>\n",
       "      <td>Adelie</td>\n",
       "      <td>Torgersen</td>\n",
       "      <td>39.5</td>\n",
       "      <td>17.4</td>\n",
       "      <td>186.0</td>\n",
       "      <td>3800.0</td>\n",
       "      <td>female</td>\n",
       "      <td>2007</td>\n",
       "    </tr>\n",
       "    <tr>\n",
       "      <th>2</th>\n",
       "      <td>3</td>\n",
       "      <td>Adelie</td>\n",
       "      <td>Torgersen</td>\n",
       "      <td>40.3</td>\n",
       "      <td>18.0</td>\n",
       "      <td>195.0</td>\n",
       "      <td>3250.0</td>\n",
       "      <td>female</td>\n",
       "      <td>2007</td>\n",
       "    </tr>\n",
       "    <tr>\n",
       "      <th>3</th>\n",
       "      <td>4</td>\n",
       "      <td>Adelie</td>\n",
       "      <td>Torgersen</td>\n",
       "      <td>NaN</td>\n",
       "      <td>NaN</td>\n",
       "      <td>NaN</td>\n",
       "      <td>NaN</td>\n",
       "      <td>NaN</td>\n",
       "      <td>2007</td>\n",
       "    </tr>\n",
       "    <tr>\n",
       "      <th>4</th>\n",
       "      <td>5</td>\n",
       "      <td>Adelie</td>\n",
       "      <td>Torgersen</td>\n",
       "      <td>36.7</td>\n",
       "      <td>19.3</td>\n",
       "      <td>193.0</td>\n",
       "      <td>3450.0</td>\n",
       "      <td>female</td>\n",
       "      <td>2007</td>\n",
       "    </tr>\n",
       "  </tbody>\n",
       "</table>\n",
       "</div>\n",
       "    <div class=\"colab-df-buttons\">\n",
       "\n",
       "  <div class=\"colab-df-container\">\n",
       "    <button class=\"colab-df-convert\" onclick=\"convertToInteractive('df-9c504a9a-9da1-4dc5-aad2-ce9aaca1964a')\"\n",
       "            title=\"Convert this dataframe to an interactive table.\"\n",
       "            style=\"display:none;\">\n",
       "\n",
       "  <svg xmlns=\"http://www.w3.org/2000/svg\" height=\"24px\" viewBox=\"0 -960 960 960\">\n",
       "    <path d=\"M120-120v-720h720v720H120Zm60-500h600v-160H180v160Zm220 220h160v-160H400v160Zm0 220h160v-160H400v160ZM180-400h160v-160H180v160Zm440 0h160v-160H620v160ZM180-180h160v-160H180v160Zm440 0h160v-160H620v160Z\"/>\n",
       "  </svg>\n",
       "    </button>\n",
       "\n",
       "  <style>\n",
       "    .colab-df-container {\n",
       "      display:flex;\n",
       "      gap: 12px;\n",
       "    }\n",
       "\n",
       "    .colab-df-convert {\n",
       "      background-color: #E8F0FE;\n",
       "      border: none;\n",
       "      border-radius: 50%;\n",
       "      cursor: pointer;\n",
       "      display: none;\n",
       "      fill: #1967D2;\n",
       "      height: 32px;\n",
       "      padding: 0 0 0 0;\n",
       "      width: 32px;\n",
       "    }\n",
       "\n",
       "    .colab-df-convert:hover {\n",
       "      background-color: #E2EBFA;\n",
       "      box-shadow: 0px 1px 2px rgba(60, 64, 67, 0.3), 0px 1px 3px 1px rgba(60, 64, 67, 0.15);\n",
       "      fill: #174EA6;\n",
       "    }\n",
       "\n",
       "    .colab-df-buttons div {\n",
       "      margin-bottom: 4px;\n",
       "    }\n",
       "\n",
       "    [theme=dark] .colab-df-convert {\n",
       "      background-color: #3B4455;\n",
       "      fill: #D2E3FC;\n",
       "    }\n",
       "\n",
       "    [theme=dark] .colab-df-convert:hover {\n",
       "      background-color: #434B5C;\n",
       "      box-shadow: 0px 1px 3px 1px rgba(0, 0, 0, 0.15);\n",
       "      filter: drop-shadow(0px 1px 2px rgba(0, 0, 0, 0.3));\n",
       "      fill: #FFFFFF;\n",
       "    }\n",
       "  </style>\n",
       "\n",
       "    <script>\n",
       "      const buttonEl =\n",
       "        document.querySelector('#df-9c504a9a-9da1-4dc5-aad2-ce9aaca1964a button.colab-df-convert');\n",
       "      buttonEl.style.display =\n",
       "        google.colab.kernel.accessAllowed ? 'block' : 'none';\n",
       "\n",
       "      async function convertToInteractive(key) {\n",
       "        const element = document.querySelector('#df-9c504a9a-9da1-4dc5-aad2-ce9aaca1964a');\n",
       "        const dataTable =\n",
       "          await google.colab.kernel.invokeFunction('convertToInteractive',\n",
       "                                                    [key], {});\n",
       "        if (!dataTable) return;\n",
       "\n",
       "        const docLinkHtml = 'Like what you see? Visit the ' +\n",
       "          '<a target=\"_blank\" href=https://colab.research.google.com/notebooks/data_table.ipynb>data table notebook</a>'\n",
       "          + ' to learn more about interactive tables.';\n",
       "        element.innerHTML = '';\n",
       "        dataTable['output_type'] = 'display_data';\n",
       "        await google.colab.output.renderOutput(dataTable, element);\n",
       "        const docLink = document.createElement('div');\n",
       "        docLink.innerHTML = docLinkHtml;\n",
       "        element.appendChild(docLink);\n",
       "      }\n",
       "    </script>\n",
       "  </div>\n",
       "\n",
       "\n",
       "<div id=\"df-eb67ace0-50a9-44d7-97f6-a459857bf5b3\">\n",
       "  <button class=\"colab-df-quickchart\" onclick=\"quickchart('df-eb67ace0-50a9-44d7-97f6-a459857bf5b3')\"\n",
       "            title=\"Suggest charts.\"\n",
       "            style=\"display:none;\">\n",
       "\n",
       "<svg xmlns=\"http://www.w3.org/2000/svg\" height=\"24px\"viewBox=\"0 0 24 24\"\n",
       "     width=\"24px\">\n",
       "    <g>\n",
       "        <path d=\"M19 3H5c-1.1 0-2 .9-2 2v14c0 1.1.9 2 2 2h14c1.1 0 2-.9 2-2V5c0-1.1-.9-2-2-2zM9 17H7v-7h2v7zm4 0h-2V7h2v10zm4 0h-2v-4h2v4z\"/>\n",
       "    </g>\n",
       "</svg>\n",
       "  </button>\n",
       "\n",
       "<style>\n",
       "  .colab-df-quickchart {\n",
       "      --bg-color: #E8F0FE;\n",
       "      --fill-color: #1967D2;\n",
       "      --hover-bg-color: #E2EBFA;\n",
       "      --hover-fill-color: #174EA6;\n",
       "      --disabled-fill-color: #AAA;\n",
       "      --disabled-bg-color: #DDD;\n",
       "  }\n",
       "\n",
       "  [theme=dark] .colab-df-quickchart {\n",
       "      --bg-color: #3B4455;\n",
       "      --fill-color: #D2E3FC;\n",
       "      --hover-bg-color: #434B5C;\n",
       "      --hover-fill-color: #FFFFFF;\n",
       "      --disabled-bg-color: #3B4455;\n",
       "      --disabled-fill-color: #666;\n",
       "  }\n",
       "\n",
       "  .colab-df-quickchart {\n",
       "    background-color: var(--bg-color);\n",
       "    border: none;\n",
       "    border-radius: 50%;\n",
       "    cursor: pointer;\n",
       "    display: none;\n",
       "    fill: var(--fill-color);\n",
       "    height: 32px;\n",
       "    padding: 0;\n",
       "    width: 32px;\n",
       "  }\n",
       "\n",
       "  .colab-df-quickchart:hover {\n",
       "    background-color: var(--hover-bg-color);\n",
       "    box-shadow: 0 1px 2px rgba(60, 64, 67, 0.3), 0 1px 3px 1px rgba(60, 64, 67, 0.15);\n",
       "    fill: var(--button-hover-fill-color);\n",
       "  }\n",
       "\n",
       "  .colab-df-quickchart-complete:disabled,\n",
       "  .colab-df-quickchart-complete:disabled:hover {\n",
       "    background-color: var(--disabled-bg-color);\n",
       "    fill: var(--disabled-fill-color);\n",
       "    box-shadow: none;\n",
       "  }\n",
       "\n",
       "  .colab-df-spinner {\n",
       "    border: 2px solid var(--fill-color);\n",
       "    border-color: transparent;\n",
       "    border-bottom-color: var(--fill-color);\n",
       "    animation:\n",
       "      spin 1s steps(1) infinite;\n",
       "  }\n",
       "\n",
       "  @keyframes spin {\n",
       "    0% {\n",
       "      border-color: transparent;\n",
       "      border-bottom-color: var(--fill-color);\n",
       "      border-left-color: var(--fill-color);\n",
       "    }\n",
       "    20% {\n",
       "      border-color: transparent;\n",
       "      border-left-color: var(--fill-color);\n",
       "      border-top-color: var(--fill-color);\n",
       "    }\n",
       "    30% {\n",
       "      border-color: transparent;\n",
       "      border-left-color: var(--fill-color);\n",
       "      border-top-color: var(--fill-color);\n",
       "      border-right-color: var(--fill-color);\n",
       "    }\n",
       "    40% {\n",
       "      border-color: transparent;\n",
       "      border-right-color: var(--fill-color);\n",
       "      border-top-color: var(--fill-color);\n",
       "    }\n",
       "    60% {\n",
       "      border-color: transparent;\n",
       "      border-right-color: var(--fill-color);\n",
       "    }\n",
       "    80% {\n",
       "      border-color: transparent;\n",
       "      border-right-color: var(--fill-color);\n",
       "      border-bottom-color: var(--fill-color);\n",
       "    }\n",
       "    90% {\n",
       "      border-color: transparent;\n",
       "      border-bottom-color: var(--fill-color);\n",
       "    }\n",
       "  }\n",
       "</style>\n",
       "\n",
       "  <script>\n",
       "    async function quickchart(key) {\n",
       "      const quickchartButtonEl =\n",
       "        document.querySelector('#' + key + ' button');\n",
       "      quickchartButtonEl.disabled = true;  // To prevent multiple clicks.\n",
       "      quickchartButtonEl.classList.add('colab-df-spinner');\n",
       "      try {\n",
       "        const charts = await google.colab.kernel.invokeFunction(\n",
       "            'suggestCharts', [key], {});\n",
       "      } catch (error) {\n",
       "        console.error('Error during call to suggestCharts:', error);\n",
       "      }\n",
       "      quickchartButtonEl.classList.remove('colab-df-spinner');\n",
       "      quickchartButtonEl.classList.add('colab-df-quickchart-complete');\n",
       "    }\n",
       "    (() => {\n",
       "      let quickchartButtonEl =\n",
       "        document.querySelector('#df-eb67ace0-50a9-44d7-97f6-a459857bf5b3 button');\n",
       "      quickchartButtonEl.style.display =\n",
       "        google.colab.kernel.accessAllowed ? 'block' : 'none';\n",
       "    })();\n",
       "  </script>\n",
       "</div>\n",
       "    </div>\n",
       "  </div>\n"
      ]
     },
     "metadata": {},
     "execution_count": 5
    }
   ],
   "source": [
    "# load data from  google drive\n",
    "from google.colab import drive\n",
    "drive.mount('/content/drive')\n",
    "PATH = '/content/drive/My Drive/data/'\n",
    "data = pd.read_csv(os.path.join(PATH,'penguins.csv')) # change path to your path\n",
    "data.head()"
   ],
   "metadata": {
    "id": "HtKpBnYZWeQu",
    "executionInfo": {
     "status": "ok",
     "timestamp": 1694689450736,
     "user_tz": -180,
     "elapsed": 67387,
     "user": {
      "displayName": "",
      "userId": ""
     }
    },
    "outputId": "a11c9b59-50fd-453a-a306-661e7fbad757",
    "colab": {
     "base_uri": "https://localhost:8080/",
     "height": 243
    }
   }
  },
  {
   "cell_type": "markdown",
   "source": [
    "We load the data, from a mounted google drive,\n",
    "To automate the process."
   ],
   "metadata": {
    "id": "5FQvvS4dwllL"
   }
  },
  {
   "cell_type": "markdown",
   "source": [
    "### ***Data Preprocessing, Cleaning and Validation***"
   ],
   "metadata": {
    "collapsed": false,
    "id": "FBPDY077WeQw"
   }
  },
  {
   "cell_type": "markdown",
   "source": [
    "In this section, we do the following as accorded in the instructions\n",
    "- Data validation\n",
    "- Data Preprocessing\n",
    "- Data Cleaning"
   ],
   "metadata": {
    "collapsed": false,
    "id": "2c5br6pMWeQy"
   }
  },
  {
   "cell_type": "markdown",
   "source": [
    "##### *Data Type Check*"
   ],
   "metadata": {
    "collapsed": false,
    "id": "lw9KYMAoWeQz"
   }
  },
  {
   "cell_type": "code",
   "execution_count": null,
   "outputs": [
    {
     "output_type": "stream",
     "name": "stdout",
     "text": [
      "<class 'pandas.core.frame.DataFrame'>\n",
      "RangeIndex: 344 entries, 0 to 343\n",
      "Data columns (total 9 columns):\n",
      " #   Column             Non-Null Count  Dtype  \n",
      "---  ------             --------------  -----  \n",
      " 0   rowid              344 non-null    int64  \n",
      " 1   species            344 non-null    object \n",
      " 2   island             344 non-null    object \n",
      " 3   bill_length_mm     342 non-null    float64\n",
      " 4   bill_depth_mm      342 non-null    float64\n",
      " 5   flipper_length_mm  342 non-null    float64\n",
      " 6   body_mass_g        342 non-null    float64\n",
      " 7   sex                333 non-null    object \n",
      " 8   year               344 non-null    int64  \n",
      "dtypes: float64(4), int64(2), object(3)\n",
      "memory usage: 24.3+ KB\n"
     ]
    }
   ],
   "source": [
    "# data type check\n",
    "data.info()"
   ],
   "metadata": {
    "ExecuteTime": {
     "end_time": "2023-09-14T10:09:00.921905100Z",
     "start_time": "2023-09-14T10:09:00.912761900Z"
    },
    "id": "qC6Ik50-WeQ0",
    "executionInfo": {
     "status": "ok",
     "timestamp": 1694689475825,
     "user_tz": -180,
     "elapsed": 540,
     "user": {
      "displayName": "",
      "userId": ""
     }
    },
    "outputId": "39800ef2-db62-4384-eae3-ceaf78e1725f",
    "colab": {
     "base_uri": "https://localhost:8080/"
    }
   }
  },
  {
   "cell_type": "markdown",
   "source": [
    "We check what the data has to show, the columns and data types we shall  be working with"
   ],
   "metadata": {
    "id": "6PMOyxNIw3Rm"
   }
  },
  {
   "cell_type": "markdown",
   "source": [
    "##### *Check for missing values*"
   ],
   "metadata": {
    "collapsed": false,
    "id": "LLVKk8UaWeQ2"
   }
  },
  {
   "cell_type": "code",
   "execution_count": null,
   "outputs": [
    {
     "output_type": "execute_result",
     "data": {
      "text/plain": [
       "rowid                 0\n",
       "species               0\n",
       "island                0\n",
       "bill_length_mm        2\n",
       "bill_depth_mm         2\n",
       "flipper_length_mm     2\n",
       "body_mass_g           2\n",
       "sex                  11\n",
       "year                  0\n",
       "dtype: int64"
      ]
     },
     "metadata": {},
     "execution_count": 7
    }
   ],
   "source": [
    "# check for missing values\n",
    "data.isna().sum()"
   ],
   "metadata": {
    "ExecuteTime": {
     "end_time": "2023-09-14T10:09:05.006586700Z",
     "start_time": "2023-09-14T10:09:04.996906Z"
    },
    "id": "oFOsqAv_WeQ3",
    "executionInfo": {
     "status": "ok",
     "timestamp": 1694689486959,
     "user_tz": -180,
     "elapsed": 525,
     "user": {
      "displayName": "",
      "userId": ""
     }
    },
    "outputId": "c65ed3c7-d34a-45e6-c3e1-30ca95e9ec84",
    "colab": {
     "base_uri": "https://localhost:8080/"
    }
   }
  },
  {
   "cell_type": "markdown",
   "source": [
    "The data contains some missing values, as it suggested by the this function."
   ],
   "metadata": {
    "id": "mGIvHY_CxlsQ"
   }
  },
  {
   "cell_type": "markdown",
   "source": [
    "##### Check for repeated values"
   ],
   "metadata": {
    "collapsed": false,
    "id": "a5sFUM4vWeQ5"
   }
  },
  {
   "cell_type": "code",
   "execution_count": null,
   "outputs": [
    {
     "output_type": "execute_result",
     "data": {
      "text/plain": [
       "0"
      ]
     },
     "metadata": {},
     "execution_count": 8
    }
   ],
   "source": [
    "# check for repeated values\n",
    "data.duplicated().sum()"
   ],
   "metadata": {
    "ExecuteTime": {
     "end_time": "2023-09-14T10:09:09.862265500Z",
     "start_time": "2023-09-14T10:09:09.853175800Z"
    },
    "id": "029aNhbSWeQ6",
    "executionInfo": {
     "status": "ok",
     "timestamp": 1694689491145,
     "user_tz": -180,
     "elapsed": 42,
     "user": {
      "displayName": "",
      "userId": ""
     }
    },
    "outputId": "916f1eed-8dd0-4460-f0b2-68950d9a58a6",
    "colab": {
     "base_uri": "https://localhost:8080/"
    }
   }
  },
  {
   "cell_type": "markdown",
   "source": [
    "The data has unique values since there are no duplicates."
   ],
   "metadata": {
    "id": "2dcZk4nGx4xD"
   }
  },
  {
   "cell_type": "markdown",
   "source": [
    "##### *Extract numerical columns*"
   ],
   "metadata": {
    "collapsed": false,
    "id": "H_tbDavkWeQ8"
   }
  },
  {
   "cell_type": "code",
   "execution_count": null,
   "outputs": [
    {
     "output_type": "execute_result",
     "data": {
      "text/plain": [
       "['bill_length_mm', 'bill_depth_mm', 'flipper_length_mm', 'body_mass_g']"
      ]
     },
     "metadata": {},
     "execution_count": 9
    }
   ],
   "source": [
    "# list numeric columns\n",
    "numericals =['bill_length_mm', 'bill_depth_mm', 'flipper_length_mm', 'body_mass_g']\n",
    "\n",
    "numericals"
   ],
   "metadata": {
    "ExecuteTime": {
     "end_time": "2023-09-14T10:09:18.060018600Z",
     "start_time": "2023-09-14T10:09:18.053021200Z"
    },
    "id": "jdwX6uqIWeQ9",
    "executionInfo": {
     "status": "ok",
     "timestamp": 1694689494249,
     "user_tz": -180,
     "elapsed": 671,
     "user": {
      "displayName": "",
      "userId": ""
     }
    },
    "outputId": "0ff43619-2b8a-4cf7-8de2-250f0782c0c4",
    "colab": {
     "base_uri": "https://localhost:8080/"
    }
   }
  },
  {
   "cell_type": "markdown",
   "source": [
    "##### *Extract categorical columns*"
   ],
   "metadata": {
    "collapsed": false,
    "id": "GeoUBsPFWeQ_"
   }
  },
  {
   "cell_type": "code",
   "execution_count": null,
   "outputs": [
    {
     "output_type": "execute_result",
     "data": {
      "text/plain": [
       "['sex', 'island', 'species']"
      ]
     },
     "metadata": {},
     "execution_count": 10
    }
   ],
   "source": [
    "# list categorical columns\n",
    "categorical = ['sex', 'island', 'species']\n",
    "categorical"
   ],
   "metadata": {
    "ExecuteTime": {
     "end_time": "2023-09-14T10:09:20.568447600Z",
     "start_time": "2023-09-14T10:09:20.553240900Z"
    },
    "id": "wt27uohIWeRA",
    "executionInfo": {
     "status": "ok",
     "timestamp": 1694689507639,
     "user_tz": -180,
     "elapsed": 598,
     "user": {
      "displayName": "",
      "userId": ""
     }
    },
    "outputId": "6e7f5e40-604c-4979-bde1-853598b01831",
    "colab": {
     "base_uri": "https://localhost:8080/"
    }
   }
  },
  {
   "cell_type": "markdown",
   "source": [
    "##### *Check for outliers*"
   ],
   "metadata": {
    "collapsed": false,
    "id": "eUa-JW0WWeRC"
   }
  },
  {
   "cell_type": "code",
   "execution_count": null,
   "outputs": [
    {
     "output_type": "execute_result",
     "data": {
      "text/plain": [
       "       bill_length_mm  bill_depth_mm  flipper_length_mm  body_mass_g\n",
       "count      342.000000     342.000000         342.000000   342.000000\n",
       "mean        43.921930      17.151170         200.915205  4201.754386\n",
       "std          5.459584       1.974793          14.061714   801.954536\n",
       "min         32.100000      13.100000         172.000000  2700.000000\n",
       "25%         39.225000      15.600000         190.000000  3550.000000\n",
       "50%         44.450000      17.300000         197.000000  4050.000000\n",
       "75%         48.500000      18.700000         213.000000  4750.000000\n",
       "max         59.600000      21.500000         231.000000  6300.000000"
      ],
      "text/html": [
       "\n",
       "  <div id=\"df-076d5099-7cb1-4639-bd3a-607eb626581d\" class=\"colab-df-container\">\n",
       "    <div>\n",
       "<style scoped>\n",
       "    .dataframe tbody tr th:only-of-type {\n",
       "        vertical-align: middle;\n",
       "    }\n",
       "\n",
       "    .dataframe tbody tr th {\n",
       "        vertical-align: top;\n",
       "    }\n",
       "\n",
       "    .dataframe thead th {\n",
       "        text-align: right;\n",
       "    }\n",
       "</style>\n",
       "<table border=\"1\" class=\"dataframe\">\n",
       "  <thead>\n",
       "    <tr style=\"text-align: right;\">\n",
       "      <th></th>\n",
       "      <th>bill_length_mm</th>\n",
       "      <th>bill_depth_mm</th>\n",
       "      <th>flipper_length_mm</th>\n",
       "      <th>body_mass_g</th>\n",
       "    </tr>\n",
       "  </thead>\n",
       "  <tbody>\n",
       "    <tr>\n",
       "      <th>count</th>\n",
       "      <td>342.000000</td>\n",
       "      <td>342.000000</td>\n",
       "      <td>342.000000</td>\n",
       "      <td>342.000000</td>\n",
       "    </tr>\n",
       "    <tr>\n",
       "      <th>mean</th>\n",
       "      <td>43.921930</td>\n",
       "      <td>17.151170</td>\n",
       "      <td>200.915205</td>\n",
       "      <td>4201.754386</td>\n",
       "    </tr>\n",
       "    <tr>\n",
       "      <th>std</th>\n",
       "      <td>5.459584</td>\n",
       "      <td>1.974793</td>\n",
       "      <td>14.061714</td>\n",
       "      <td>801.954536</td>\n",
       "    </tr>\n",
       "    <tr>\n",
       "      <th>min</th>\n",
       "      <td>32.100000</td>\n",
       "      <td>13.100000</td>\n",
       "      <td>172.000000</td>\n",
       "      <td>2700.000000</td>\n",
       "    </tr>\n",
       "    <tr>\n",
       "      <th>25%</th>\n",
       "      <td>39.225000</td>\n",
       "      <td>15.600000</td>\n",
       "      <td>190.000000</td>\n",
       "      <td>3550.000000</td>\n",
       "    </tr>\n",
       "    <tr>\n",
       "      <th>50%</th>\n",
       "      <td>44.450000</td>\n",
       "      <td>17.300000</td>\n",
       "      <td>197.000000</td>\n",
       "      <td>4050.000000</td>\n",
       "    </tr>\n",
       "    <tr>\n",
       "      <th>75%</th>\n",
       "      <td>48.500000</td>\n",
       "      <td>18.700000</td>\n",
       "      <td>213.000000</td>\n",
       "      <td>4750.000000</td>\n",
       "    </tr>\n",
       "    <tr>\n",
       "      <th>max</th>\n",
       "      <td>59.600000</td>\n",
       "      <td>21.500000</td>\n",
       "      <td>231.000000</td>\n",
       "      <td>6300.000000</td>\n",
       "    </tr>\n",
       "  </tbody>\n",
       "</table>\n",
       "</div>\n",
       "    <div class=\"colab-df-buttons\">\n",
       "\n",
       "  <div class=\"colab-df-container\">\n",
       "    <button class=\"colab-df-convert\" onclick=\"convertToInteractive('df-076d5099-7cb1-4639-bd3a-607eb626581d')\"\n",
       "            title=\"Convert this dataframe to an interactive table.\"\n",
       "            style=\"display:none;\">\n",
       "\n",
       "  <svg xmlns=\"http://www.w3.org/2000/svg\" height=\"24px\" viewBox=\"0 -960 960 960\">\n",
       "    <path d=\"M120-120v-720h720v720H120Zm60-500h600v-160H180v160Zm220 220h160v-160H400v160Zm0 220h160v-160H400v160ZM180-400h160v-160H180v160Zm440 0h160v-160H620v160ZM180-180h160v-160H180v160Zm440 0h160v-160H620v160Z\"/>\n",
       "  </svg>\n",
       "    </button>\n",
       "\n",
       "  <style>\n",
       "    .colab-df-container {\n",
       "      display:flex;\n",
       "      gap: 12px;\n",
       "    }\n",
       "\n",
       "    .colab-df-convert {\n",
       "      background-color: #E8F0FE;\n",
       "      border: none;\n",
       "      border-radius: 50%;\n",
       "      cursor: pointer;\n",
       "      display: none;\n",
       "      fill: #1967D2;\n",
       "      height: 32px;\n",
       "      padding: 0 0 0 0;\n",
       "      width: 32px;\n",
       "    }\n",
       "\n",
       "    .colab-df-convert:hover {\n",
       "      background-color: #E2EBFA;\n",
       "      box-shadow: 0px 1px 2px rgba(60, 64, 67, 0.3), 0px 1px 3px 1px rgba(60, 64, 67, 0.15);\n",
       "      fill: #174EA6;\n",
       "    }\n",
       "\n",
       "    .colab-df-buttons div {\n",
       "      margin-bottom: 4px;\n",
       "    }\n",
       "\n",
       "    [theme=dark] .colab-df-convert {\n",
       "      background-color: #3B4455;\n",
       "      fill: #D2E3FC;\n",
       "    }\n",
       "\n",
       "    [theme=dark] .colab-df-convert:hover {\n",
       "      background-color: #434B5C;\n",
       "      box-shadow: 0px 1px 3px 1px rgba(0, 0, 0, 0.15);\n",
       "      filter: drop-shadow(0px 1px 2px rgba(0, 0, 0, 0.3));\n",
       "      fill: #FFFFFF;\n",
       "    }\n",
       "  </style>\n",
       "\n",
       "    <script>\n",
       "      const buttonEl =\n",
       "        document.querySelector('#df-076d5099-7cb1-4639-bd3a-607eb626581d button.colab-df-convert');\n",
       "      buttonEl.style.display =\n",
       "        google.colab.kernel.accessAllowed ? 'block' : 'none';\n",
       "\n",
       "      async function convertToInteractive(key) {\n",
       "        const element = document.querySelector('#df-076d5099-7cb1-4639-bd3a-607eb626581d');\n",
       "        const dataTable =\n",
       "          await google.colab.kernel.invokeFunction('convertToInteractive',\n",
       "                                                    [key], {});\n",
       "        if (!dataTable) return;\n",
       "\n",
       "        const docLinkHtml = 'Like what you see? Visit the ' +\n",
       "          '<a target=\"_blank\" href=https://colab.research.google.com/notebooks/data_table.ipynb>data table notebook</a>'\n",
       "          + ' to learn more about interactive tables.';\n",
       "        element.innerHTML = '';\n",
       "        dataTable['output_type'] = 'display_data';\n",
       "        await google.colab.output.renderOutput(dataTable, element);\n",
       "        const docLink = document.createElement('div');\n",
       "        docLink.innerHTML = docLinkHtml;\n",
       "        element.appendChild(docLink);\n",
       "      }\n",
       "    </script>\n",
       "  </div>\n",
       "\n",
       "\n",
       "<div id=\"df-d2a3c380-a0c0-4d3d-aaca-5fc89d044678\">\n",
       "  <button class=\"colab-df-quickchart\" onclick=\"quickchart('df-d2a3c380-a0c0-4d3d-aaca-5fc89d044678')\"\n",
       "            title=\"Suggest charts.\"\n",
       "            style=\"display:none;\">\n",
       "\n",
       "<svg xmlns=\"http://www.w3.org/2000/svg\" height=\"24px\"viewBox=\"0 0 24 24\"\n",
       "     width=\"24px\">\n",
       "    <g>\n",
       "        <path d=\"M19 3H5c-1.1 0-2 .9-2 2v14c0 1.1.9 2 2 2h14c1.1 0 2-.9 2-2V5c0-1.1-.9-2-2-2zM9 17H7v-7h2v7zm4 0h-2V7h2v10zm4 0h-2v-4h2v4z\"/>\n",
       "    </g>\n",
       "</svg>\n",
       "  </button>\n",
       "\n",
       "<style>\n",
       "  .colab-df-quickchart {\n",
       "      --bg-color: #E8F0FE;\n",
       "      --fill-color: #1967D2;\n",
       "      --hover-bg-color: #E2EBFA;\n",
       "      --hover-fill-color: #174EA6;\n",
       "      --disabled-fill-color: #AAA;\n",
       "      --disabled-bg-color: #DDD;\n",
       "  }\n",
       "\n",
       "  [theme=dark] .colab-df-quickchart {\n",
       "      --bg-color: #3B4455;\n",
       "      --fill-color: #D2E3FC;\n",
       "      --hover-bg-color: #434B5C;\n",
       "      --hover-fill-color: #FFFFFF;\n",
       "      --disabled-bg-color: #3B4455;\n",
       "      --disabled-fill-color: #666;\n",
       "  }\n",
       "\n",
       "  .colab-df-quickchart {\n",
       "    background-color: var(--bg-color);\n",
       "    border: none;\n",
       "    border-radius: 50%;\n",
       "    cursor: pointer;\n",
       "    display: none;\n",
       "    fill: var(--fill-color);\n",
       "    height: 32px;\n",
       "    padding: 0;\n",
       "    width: 32px;\n",
       "  }\n",
       "\n",
       "  .colab-df-quickchart:hover {\n",
       "    background-color: var(--hover-bg-color);\n",
       "    box-shadow: 0 1px 2px rgba(60, 64, 67, 0.3), 0 1px 3px 1px rgba(60, 64, 67, 0.15);\n",
       "    fill: var(--button-hover-fill-color);\n",
       "  }\n",
       "\n",
       "  .colab-df-quickchart-complete:disabled,\n",
       "  .colab-df-quickchart-complete:disabled:hover {\n",
       "    background-color: var(--disabled-bg-color);\n",
       "    fill: var(--disabled-fill-color);\n",
       "    box-shadow: none;\n",
       "  }\n",
       "\n",
       "  .colab-df-spinner {\n",
       "    border: 2px solid var(--fill-color);\n",
       "    border-color: transparent;\n",
       "    border-bottom-color: var(--fill-color);\n",
       "    animation:\n",
       "      spin 1s steps(1) infinite;\n",
       "  }\n",
       "\n",
       "  @keyframes spin {\n",
       "    0% {\n",
       "      border-color: transparent;\n",
       "      border-bottom-color: var(--fill-color);\n",
       "      border-left-color: var(--fill-color);\n",
       "    }\n",
       "    20% {\n",
       "      border-color: transparent;\n",
       "      border-left-color: var(--fill-color);\n",
       "      border-top-color: var(--fill-color);\n",
       "    }\n",
       "    30% {\n",
       "      border-color: transparent;\n",
       "      border-left-color: var(--fill-color);\n",
       "      border-top-color: var(--fill-color);\n",
       "      border-right-color: var(--fill-color);\n",
       "    }\n",
       "    40% {\n",
       "      border-color: transparent;\n",
       "      border-right-color: var(--fill-color);\n",
       "      border-top-color: var(--fill-color);\n",
       "    }\n",
       "    60% {\n",
       "      border-color: transparent;\n",
       "      border-right-color: var(--fill-color);\n",
       "    }\n",
       "    80% {\n",
       "      border-color: transparent;\n",
       "      border-right-color: var(--fill-color);\n",
       "      border-bottom-color: var(--fill-color);\n",
       "    }\n",
       "    90% {\n",
       "      border-color: transparent;\n",
       "      border-bottom-color: var(--fill-color);\n",
       "    }\n",
       "  }\n",
       "</style>\n",
       "\n",
       "  <script>\n",
       "    async function quickchart(key) {\n",
       "      const quickchartButtonEl =\n",
       "        document.querySelector('#' + key + ' button');\n",
       "      quickchartButtonEl.disabled = true;  // To prevent multiple clicks.\n",
       "      quickchartButtonEl.classList.add('colab-df-spinner');\n",
       "      try {\n",
       "        const charts = await google.colab.kernel.invokeFunction(\n",
       "            'suggestCharts', [key], {});\n",
       "      } catch (error) {\n",
       "        console.error('Error during call to suggestCharts:', error);\n",
       "      }\n",
       "      quickchartButtonEl.classList.remove('colab-df-spinner');\n",
       "      quickchartButtonEl.classList.add('colab-df-quickchart-complete');\n",
       "    }\n",
       "    (() => {\n",
       "      let quickchartButtonEl =\n",
       "        document.querySelector('#df-d2a3c380-a0c0-4d3d-aaca-5fc89d044678 button');\n",
       "      quickchartButtonEl.style.display =\n",
       "        google.colab.kernel.accessAllowed ? 'block' : 'none';\n",
       "    })();\n",
       "  </script>\n",
       "</div>\n",
       "    </div>\n",
       "  </div>\n"
      ]
     },
     "metadata": {},
     "execution_count": 11
    }
   ],
   "source": [
    "# check for outliers\n",
    "data[numericals].describe()"
   ],
   "metadata": {
    "ExecuteTime": {
     "end_time": "2023-09-14T10:09:26.818509100Z",
     "start_time": "2023-09-14T10:09:26.795680600Z"
    },
    "id": "CAxvwPUPWeRD",
    "executionInfo": {
     "status": "ok",
     "timestamp": 1694689512489,
     "user_tz": -180,
     "elapsed": 174,
     "user": {
      "displayName": "",
      "userId": ""
     }
    },
    "outputId": "1800213e-cf42-4690-a781-461a354a2810",
    "colab": {
     "base_uri": "https://localhost:8080/",
     "height": 320
    }
   }
  },
  {
   "cell_type": "markdown",
   "source": [
    "We calculate some descriptive statistics for the numerical columns and so it suggess rhat the data is relatively normally distributed since the mean and median are not relatively too spread out."
   ],
   "metadata": {
    "id": "v8ZeYcluyFR7"
   }
  },
  {
   "cell_type": "code",
   "execution_count": null,
   "outputs": [
    {
     "output_type": "execute_result",
     "data": {
      "text/plain": [
       "bill_length_mm       0.053118\n",
       "bill_depth_mm       -0.143465\n",
       "flipper_length_mm    0.345682\n",
       "body_mass_g          0.470329\n",
       "dtype: float64"
      ]
     },
     "metadata": {},
     "execution_count": 12
    }
   ],
   "source": [
    "data[numericals].skew()"
   ],
   "metadata": {
    "ExecuteTime": {
     "end_time": "2023-09-14T10:09:43.962345400Z",
     "start_time": "2023-09-14T10:09:43.953187600Z"
    },
    "id": "2WwkcWLLWeRE",
    "executionInfo": {
     "status": "ok",
     "timestamp": 1694689522557,
     "user_tz": -180,
     "elapsed": 728,
     "user": {
      "displayName": "",
      "userId": ""
     }
    },
    "outputId": "0de87f71-87e2-4948-9dfa-6300c53ec7a3",
    "colab": {
     "base_uri": "https://localhost:8080/"
    }
   }
  },
  {
   "cell_type": "markdown",
   "source": [
    "Looking at the skewness values, this suggest that the numeric variables are not very highu skewed. Which concluded that data assumes a relatively normal distribution."
   ],
   "metadata": {
    "id": "o-2viwFJyul_"
   }
  },
  {
   "cell_type": "markdown",
   "source": [
    "##### *Check for data distribution for numerical variables*"
   ],
   "metadata": {
    "collapsed": false,
    "id": "pMd26qKvWeRG"
   }
  },
  {
   "cell_type": "code",
   "execution_count": null,
   "outputs": [
    {
     "output_type": "execute_result",
     "data": {
      "text/plain": [
       "array([[<Axes: title={'center': 'bill_length_mm'}>,\n",
       "        <Axes: title={'center': 'bill_depth_mm'}>],\n",
       "       [<Axes: title={'center': 'flipper_length_mm'}>,\n",
       "        <Axes: title={'center': 'body_mass_g'}>]], dtype=object)"
      ]
     },
     "metadata": {},
     "execution_count": 13
    },
    {
     "output_type": "display_data",
     "data": {
      "text/plain": [
       "<Figure size 2000x2000 with 4 Axes>"
      ],
      "image/png": "[encoded data removed]"
     },
     "metadata": {}
    }
   ],
   "source": [
    "# check for data distribution for numerical variables\n",
    "data[numericals].hist(figsize=(20,20))"
   ],
   "metadata": {
    "ExecuteTime": {
     "end_time": "2023-09-14T10:10:05.380734900Z",
     "start_time": "2023-09-14T10:10:03.871046500Z"
    },
    "id": "xDsCg1xEWeRH",
    "executionInfo": {
     "status": "ok",
     "timestamp": 1694689532104,
     "user_tz": -180,
     "elapsed": 1718,
     "user": {
      "displayName": "",
      "userId": ""
     }
    },
    "outputId": "d23caa36-9855-473b-c78f-bb829c0fc39f",
    "colab": {
     "base_uri": "https://localhost:8080/",
     "height": 481
    }
   }
  },
  {
   "cell_type": "markdown",
   "source": [
    "Visual confirmation from the histogram plots of the numerial vaiables seems to suggest the same, that the distributions tend to trace out a relatively normal distribution curve."
   ],
   "metadata": {
    "id": "WtXG5SAPzOCg"
   }
  },
  {
   "cell_type": "markdown",
   "source": [
    "##### *Check for correlation between variables*"
   ],
   "metadata": {
    "collapsed": false,
    "id": "AtJChocyWeRJ"
   }
  },
  {
   "cell_type": "code",
   "execution_count": null,
   "outputs": [
    {
     "data": {
      "text/plain": "                   bill_length_mm  bill_depth_mm  flipper_length_mm  \\\nbill_length_mm           1.000000      -0.235053           0.656181   \nbill_depth_mm           -0.235053       1.000000          -0.583851   \nflipper_length_mm        0.656181      -0.583851           1.000000   \nbody_mass_g              0.595110      -0.471916           0.871202   \n\n                   body_mass_g  \nbill_length_mm        0.595110  \nbill_depth_mm        -0.471916  \nflipper_length_mm     0.871202  \nbody_mass_g           1.000000  ",
      "text/html": "<div>\n<style scoped>\n    .dataframe tbody tr th:only-of-type {\n        vertical-align: middle;\n    }\n\n    .dataframe tbody tr th {\n        vertical-align: top;\n    }\n\n    .dataframe thead th {\n        text-align: right;\n    }\n</style>\n<table border=\"1\" class=\"dataframe\">\n  <thead>\n    <tr style=\"text-align: right;\">\n      <th></th>\n      <th>bill_length_mm</th>\n      <th>bill_depth_mm</th>\n      <th>flipper_length_mm</th>\n      <th>body_mass_g</th>\n    </tr>\n  </thead>\n  <tbody>\n    <tr>\n      <th>bill_length_mm</th>\n      <td>1.000000</td>\n      <td>-0.235053</td>\n      <td>0.656181</td>\n      <td>0.595110</td>\n    </tr>\n    <tr>\n      <th>bill_depth_mm</th>\n      <td>-0.235053</td>\n      <td>1.000000</td>\n      <td>-0.583851</td>\n      <td>-0.471916</td>\n    </tr>\n    <tr>\n      <th>flipper_length_mm</th>\n      <td>0.656181</td>\n      <td>-0.583851</td>\n      <td>1.000000</td>\n      <td>0.871202</td>\n    </tr>\n    <tr>\n      <th>body_mass_g</th>\n      <td>0.595110</td>\n      <td>-0.471916</td>\n      <td>0.871202</td>\n      <td>1.000000</td>\n    </tr>\n  </tbody>\n</table>\n</div>"
     },
     "execution_count": 13,
     "metadata": {},
     "output_type": "execute_result"
    }
   ],
   "source": [
    "# check for correlation between variables\n",
    "data[numericals].corr()"
   ],
   "metadata": {
    "ExecuteTime": {
     "end_time": "2023-09-14T10:06:01.089453400Z",
     "start_time": "2023-09-14T10:06:01.064576300Z"
    },
    "id": "xRuxghBsWeRK",
    "outputId": "5d40b675-c3e6-4e86-cd34-eaabfb3deaf1"
   }
  },
  {
   "cell_type": "markdown",
   "source": [
    "We now investigate the linear relationships between the numeric variable and the Pearson coefficients suggest an existance of  relationships which is either positive like of body mass and fipper length and negative like bill length and bill depth."
   ],
   "metadata": {
    "id": "vEazPhb4z73F"
   }
  },
  {
   "cell_type": "code",
   "execution_count": null,
   "outputs": [
    {
     "data": {
      "text/plain": "<Axes: >"
     },
     "execution_count": 14,
     "metadata": {},
     "output_type": "execute_result"
    },
    {
     "data": {
      "text/plain": "<Figure size 640x480 with 2 Axes>",
      "image/png": "[encoded data removed]"
     },
     "metadata": {},
     "output_type": "display_data"
    }
   ],
   "source": [
    "sns.heatmap(data[numericals].corr(), annot=True)"
   ],
   "metadata": {
    "ExecuteTime": {
     "end_time": "2023-09-14T10:06:06.034792900Z",
     "start_time": "2023-09-14T10:06:05.615525800Z"
    },
    "id": "Ji9QVUnBWeRL",
    "outputId": "2d94b7f5-ec55-412a-c956-b5aaf4c3d011"
   }
  },
  {
   "cell_type": "markdown",
   "source": [
    "We plot a heatmap for the correlations to show the strength."
   ],
   "metadata": {
    "id": "X8BTqyJf0r1V"
   }
  },
  {
   "cell_type": "markdown",
   "source": [
    "##### *Check for multicollinearity*"
   ],
   "metadata": {
    "collapsed": false,
    "id": "49o1epV7WeRM"
   }
  },
  {
   "cell_type": "code",
   "execution_count": null,
   "outputs": [
    {
     "data": {
      "text/plain": "<Axes: >"
     },
     "execution_count": 15,
     "metadata": {},
     "output_type": "execute_result"
    },
    {
     "data": {
      "text/plain": "<Figure size 1000x1000 with 2 Axes>",
      "image/png": "[encoded data removed]"
     },
     "metadata": {},
     "output_type": "display_data"
    }
   ],
   "source": [
    "# check for multicollinearity\n",
    "plt.figure(figsize=(10,10))\n",
    "sns.heatmap(data[numericals].corr(), annot=True)"
   ],
   "metadata": {
    "ExecuteTime": {
     "end_time": "2023-09-14T10:06:37.253623100Z",
     "start_time": "2023-09-14T10:06:36.835184800Z"
    },
    "id": "6VunmGixWeRN",
    "outputId": "336344a8-b45e-4656-9534-3b2eb301243a"
   }
  },
  {
   "cell_type": "markdown",
   "source": [
    "The heatmap plot for the correlations suggests\n",
    "an even distribution, of both negative and positive relationships among the variables."
   ],
   "metadata": {
    "id": "LS4rNxog052A"
   }
  },
  {
   "cell_type": "markdown",
   "source": [
    "##### *Check for Counts for Categorical variables*"
   ],
   "metadata": {
    "collapsed": false,
    "id": "hSSfvAs5WeRP"
   }
  },
  {
   "cell_type": "code",
   "execution_count": null,
   "outputs": [],
   "source": [
    "# check for counts for categorical variables\n",
    "def categorical_valcount_hist(feature):\n",
    "    print(data[feature].value_counts())\n",
    "    fig, ax = plt.subplots( figsize = (6,6) )\n",
    "    sns.countplot(x=feature, ax=ax, data=data)\n",
    "    plt.show()"
   ],
   "metadata": {
    "ExecuteTime": {
     "end_time": "2023-09-14T10:06:44.559597100Z",
     "start_time": "2023-09-14T10:06:44.554601700Z"
    },
    "id": "N_BcRTPtWeRQ"
   }
  },
  {
   "cell_type": "code",
   "execution_count": null,
   "outputs": [
    {
     "output_type": "stream",
     "name": "stdout",
     "text": [
      "male      168\n",
      "female    165\n",
      "Name: sex, dtype: int64\n"
     ]
    },
    {
     "output_type": "display_data",
     "data": {
      "text/plain": [
       "<Figure size 600x600 with 1 Axes>"
      ],
      "image/png": "[encoded data removed]"
     },
     "metadata": {}
    }
   ],
   "source": [
    "# sex\n",
    "categorical_valcount_hist(categorical[0])"
   ],
   "metadata": {
    "ExecuteTime": {
     "end_time": "2023-09-14T10:06:47.188027900Z",
     "start_time": "2023-09-14T10:06:46.997589300Z"
    },
    "id": "iz4ddjsdWeRR",
    "executionInfo": {
     "status": "ok",
     "timestamp": 1694689590356,
     "user_tz": -180,
     "elapsed": 629,
     "user": {
      "displayName": "",
      "userId": ""
     }
    },
    "outputId": "09d75f3c-04f3-458b-f46f-c44c9934479e",
    "colab": {
     "base_uri": "https://localhost:8080/",
     "height": 384
    }
   }
  },
  {
   "cell_type": "markdown",
   "source": [
    "Distribution of the sex variable suggest that the males are slightly morethan the females."
   ],
   "metadata": {
    "id": "Cul767SB17yC"
   }
  },
  {
   "cell_type": "code",
   "execution_count": null,
   "outputs": [
    {
     "output_type": "stream",
     "name": "stdout",
     "text": [
      "Biscoe       168\n",
      "Dream        124\n",
      "Torgersen     52\n",
      "Name: island, dtype: int64\n"
     ]
    },
    {
     "output_type": "display_data",
     "data": {
      "text/plain": [
       "<Figure size 600x600 with 1 Axes>"
      ],
      "image/png": "[encoded data removed]"
     },
     "metadata": {}
    }
   ],
   "source": [
    "# island\n",
    "categorical_valcount_hist(categorical[1])"
   ],
   "metadata": {
    "ExecuteTime": {
     "end_time": "2023-09-14T10:06:58.201051900Z",
     "start_time": "2023-09-14T10:06:57.987031700Z"
    },
    "id": "v-cBaLZhWeRS",
    "executionInfo": {
     "status": "ok",
     "timestamp": 1694689594489,
     "user_tz": -180,
     "elapsed": 581,
     "user": {
      "displayName": "",
      "userId": ""
     }
    },
    "outputId": "25357a94-9072-44d7-d8fa-ee0d1f6b5e89",
    "colab": {
     "base_uri": "https://localhost:8080/",
     "height": 401
    }
   }
  },
  {
   "cell_type": "markdown",
   "source": [
    "From the categorical tabulation, it sgguests that the Biscoe is place for most penguins which is followed by dream island."
   ],
   "metadata": {
    "id": "qp4QIw0r29UM"
   }
  },
  {
   "cell_type": "code",
   "execution_count": null,
   "outputs": [
    {
     "output_type": "stream",
     "name": "stdout",
     "text": [
      "Adelie       152\n",
      "Gentoo       124\n",
      "Chinstrap     68\n",
      "Name: species, dtype: int64\n"
     ]
    },
    {
     "output_type": "display_data",
     "data": {
      "text/plain": [
       "<Figure size 600x600 with 1 Axes>"
      ],
      "image/png": "[encoded data removed]"
     },
     "metadata": {}
    }
   ],
   "source": [
    "# species\n",
    "categorical_valcount_hist(categorical[2])"
   ],
   "metadata": {
    "ExecuteTime": {
     "end_time": "2023-09-14T10:07:09.042292400Z",
     "start_time": "2023-09-14T10:07:08.852703500Z"
    },
    "id": "mLLLd9vwWeRT",
    "executionInfo": {
     "status": "ok",
     "timestamp": 1694689599147,
     "user_tz": -180,
     "elapsed": 246,
     "user": {
      "displayName": "",
      "userId": ""
     }
    },
    "outputId": "82bee925-9854-4af8-a229-4805ab0adc0b",
    "colab": {
     "base_uri": "https://localhost:8080/",
     "height": 401
    }
   }
  },
  {
   "cell_type": "markdown",
   "source": [
    "Looking that the tablaeu adelie species makes the majority of the Penguins, followed by the Gentoo."
   ],
   "metadata": {
    "id": "sA0Rn9CN3kUx"
   }
  }
 ]
}
